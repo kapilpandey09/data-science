{
 "cells": [
  {
   "cell_type": "markdown",
   "id": "7f9fb32b-d0c8-4186-bcbc-b26e443b68b9",
   "metadata": {},
   "source": [
    "# Q1. How can you create a Bokeh plot using Python code?"
   ]
  },
  {
   "cell_type": "code",
   "execution_count": 2,
   "id": "41361f7b-a35b-4e65-a4ac-76c681bbdfa0",
   "metadata": {},
   "outputs": [
    {
     "name": "stdout",
     "output_type": "stream",
     "text": [
      "Requirement already satisfied: bokeh in /opt/conda/lib/python3.10/site-packages (3.0.3)\n",
      "Requirement already satisfied: xyzservices>=2021.09.1 in /opt/conda/lib/python3.10/site-packages (from bokeh) (2022.9.0)\n",
      "Requirement already satisfied: pandas>=1.2 in /opt/conda/lib/python3.10/site-packages (from bokeh) (1.5.2)\n",
      "Requirement already satisfied: Jinja2>=2.9 in /opt/conda/lib/python3.10/site-packages (from bokeh) (3.1.2)\n",
      "Requirement already satisfied: packaging>=16.8 in /opt/conda/lib/python3.10/site-packages (from bokeh) (22.0)\n",
      "Requirement already satisfied: contourpy>=1 in /opt/conda/lib/python3.10/site-packages (from bokeh) (1.0.6)\n",
      "Requirement already satisfied: tornado>=5.1 in /opt/conda/lib/python3.10/site-packages (from bokeh) (6.1)\n",
      "Requirement already satisfied: numpy>=1.11.3 in /opt/conda/lib/python3.10/site-packages (from bokeh) (1.23.5)\n",
      "Requirement already satisfied: pillow>=7.1.0 in /opt/conda/lib/python3.10/site-packages (from bokeh) (9.2.0)\n",
      "Requirement already satisfied: PyYAML>=3.10 in /opt/conda/lib/python3.10/site-packages (from bokeh) (6.0)\n",
      "Requirement already satisfied: MarkupSafe>=2.0 in /opt/conda/lib/python3.10/site-packages (from Jinja2>=2.9->bokeh) (2.1.1)\n",
      "Requirement already satisfied: python-dateutil>=2.8.1 in /opt/conda/lib/python3.10/site-packages (from pandas>=1.2->bokeh) (2.8.2)\n",
      "Requirement already satisfied: pytz>=2020.1 in /opt/conda/lib/python3.10/site-packages (from pandas>=1.2->bokeh) (2022.6)\n",
      "Requirement already satisfied: six>=1.5 in /opt/conda/lib/python3.10/site-packages (from python-dateutil>=2.8.1->pandas>=1.2->bokeh) (1.16.0)\n",
      "Note: you may need to restart the kernel to use updated packages.\n"
     ]
    }
   ],
   "source": [
    "pip install bokeh\n"
   ]
  },
  {
   "cell_type": "code",
   "execution_count": 3,
   "id": "84e30521-c322-44f0-97d7-a320192de93d",
   "metadata": {},
   "outputs": [],
   "source": [
    "\n",
    "\n",
    "# Step 2: Import Bokeh Libraries\n",
    "from bokeh.plotting import figure, show\n",
    "from bokeh.io import output_file\n",
    "\n",
    "# Step 3: Prepare the Data\n",
    "x = [1, 2, 3, 4, 5]\n",
    "y = [6, 7, 2, 4, 5]\n",
    "\n",
    "# Step 4: Create a Figure Object\n",
    "p = figure(title=\"Simple Line Example\", x_axis_label='X-Axis', y_axis_label='Y-Axis')\n",
    "\n",
    "# Step 5: Add Glyphs to the Plot\n",
    "p.line(x, y, legend_label=\"Temp.\", line_width=2)\n",
    "\n",
    "# Step 6: Output the plot to an HTML file\n",
    "output_file(\"line_plot.html\")\n",
    "\n",
    "# Step 7: Show the Plot\n",
    "show(p)\n"
   ]
  },
  {
   "cell_type": "markdown",
   "id": "48e788f7-05b7-4f53-8306-0becd0431d0a",
   "metadata": {},
   "source": [
    "# Q2. What are glyphs in Bokeh, and how can you add them to a Bokeh plot? Explain with an example."
   ]
  },
  {
   "cell_type": "markdown",
   "id": "d7dd8b96-3b24-4bea-b014-b3b04f52fc4c",
   "metadata": {},
   "source": [
    "Glyphs are the basic visual building blocks of Bokeh plots. They represent the visual shapes drawn on the plot, such as lines, circles, squares, rectangles, etc. Each glyph is a way to visualize data, and you can add them to a Bokeh plot using the various methods provided by the figure object"
   ]
  },
  {
   "cell_type": "code",
   "execution_count": 4,
   "id": "8d9b9f52-3b64-4a8b-8bba-d8624a22d5d3",
   "metadata": {},
   "outputs": [],
   "source": [
    "# Import Bokeh Libraries\n",
    "from bokeh.plotting import figure, show\n",
    "from bokeh.io import output_file\n",
    "\n",
    "# Prepare the Data\n",
    "x = [1, 2, 3, 4, 5]\n",
    "y = [6, 7, 2, 4, 5]\n",
    "sizes = [10, 20, 30, 40, 50]\n",
    "colors = [\"navy\", \"green\", \"red\", \"orange\", \"blue\"]\n",
    "\n",
    "# Create a Figure Object\n",
    "p = figure(title=\"Example of Different Glyphs\", x_axis_label='X', y_axis_label='Y')\n",
    "\n",
    "# Add a Line Glyph\n",
    "p.line(x, y, legend_label=\"Line\", line_width=2)\n",
    "\n",
    "# Add Circle Glyphs\n",
    "p.circle(x, y, size=sizes, color=colors, legend_label=\"Circles\")\n",
    "\n",
    "# Add Square Glyphs\n",
    "p.square(x, y, size=sizes, color=colors, legend_label=\"Squares\", fill_alpha=0.6)\n",
    "\n",
    "# Output the plot to an HTML file\n",
    "output_file(\"glyphs_plot.html\")\n",
    "\n",
    "# Show the Plot\n",
    "show(p)\n"
   ]
  },
  {
   "cell_type": "code",
   "execution_count": 5,
   "id": "c44a24f1-dadd-452a-9c5f-6d219e1446ee",
   "metadata": {},
   "outputs": [],
   "source": [
    "from bokeh.plotting import figure, show\n",
    "from bokeh.plotting import figure, ColumnDataSource, show  # Import ColumnDataSource\n",
    "\n",
    "# Prepare some data\n",
    "x = [1, 2, 3, 4, 5]\n",
    "y = [4, 6, 5, 8, 2]\n",
    "\n",
    "# Create a new plot with a title and axis labels\n",
    "p = figure(title=\"Scatter Plot\", x_axis_label=\"X-Values\", y_axis_label=\"Y-Values\")\n",
    "\n",
    "# Add circle glyphs using data source\n",
    "source = ColumnDataSource(data=dict(x=x, y=y))\n",
    "p.circle(x=\"x\", y=\"y\", source=source, size=10, color=\"blue\", alpha=0.8)  # Customize size and color\n",
    "\n",
    "# Display the plot\n",
    "show(p)\n"
   ]
  },
  {
   "cell_type": "code",
   "execution_count": 6,
   "id": "687f9d73-6793-43d2-8af4-7eb581281a29",
   "metadata": {},
   "outputs": [],
   "source": [
    "import pandas as pd \n",
    "import numpy as np\n",
    "import seaborn as sns\n",
    "import matplotlib.pyplot as plt"
   ]
  },
  {
   "cell_type": "markdown",
   "id": "b3ab13eb-5619-423e-b893-81439f496acf",
   "metadata": {},
   "source": [
    "# Q3. How can you customize the appearance of a Bokeh plot, including the axes, title, and legend?"
   ]
  },
  {
   "cell_type": "markdown",
   "id": "e70318ca-febb-46ee-af08-294cc21dc35c",
   "metadata": {},
   "source": [
    "Bokeh offers a rich set of options for customizing the appearance of your plots, allowing you to tailor them to your specific needs and enhance their clarity. Here's a breakdown of how to customize various elements:\n",
    "\n",
    "Axes:\n",
    "\n",
    "Axis Labels: Use the x_axis_label and y_axis_label arguments in the figure function to set the labels for the x-axis and y-axis, respectively.\n",
    "Axis Ticks: Control the appearance and placement of axis ticks using properties like:\n",
    "xaxis.major_tick_line_color: Color of the major tick lines.\n",
    "yaxis.minor_tick_line_alpha: Transparency of the minor tick lines (0 for invisible, 1 for fully opaque).\n",
    "xaxis.ticker: A ticker object to control the placement of major ticks (e.g., FixedTicker(1) for every unit).\n",
    "Axis Grid: Customize the grid lines using properties like:\n",
    "xgrid.grid_line_color: Color of the grid lines on the x-axis.\n",
    "ygrid.grid_line_dash: Dash pattern of the grid lines (e.g., [2, 4] for a dashed line).\n",
    "Title:\n",
    "\n",
    "Text: Set the plot title using the title argument in the figure function.\n",
    "Font Properties: Control the font style, size, and color using properties like:\n",
    "title.text_font_style: Font style (e.g., \"normal\", \"italic\").\n",
    "title.text_font_size: Font size in points.\n",
    "title.text_color: Color of the title text.\n",
    "Alignment: Adjust the title position using properties like:\n",
    "title.align: Horizontal alignment (\"left\", \"center\", \"right\").\n",
    "title.offset: Vertical offset of the title in pixels.\n",
    "Legend:\n",
    "\n",
    "Automatic Generation: Bokeh can automatically generate legends for some glyph renderers with labels provided in the data source.\n",
    "Manual Creation: Use the legend object to create custom legends. You can add glyph renderers and labels using methods like legend.add_label(renderer, label).\n",
    "Customization: Style the legend appearance using properties like:\n",
    "legend.label_text_font_size: Font size of the legend labels.\n",
    "legend.title_text_font_style: Font style of the legend title (if applicable).\n",
    "legend.border_line_alpha: Transparency of the legend border (0 for"
   ]
  },
  {
   "cell_type": "code",
   "execution_count": 9,
   "id": "885a33ef-91dd-43bb-99b4-4863457dd14a",
   "metadata": {},
   "outputs": [],
   "source": [
    "# Import necessary libraries\n",
    "from bokeh.plotting import figure, show, output_file\n",
    "from bokeh.models import Title\n",
    "\n",
    "# Output the plot to an HTML file\n",
    "output_file(\"custom_bokeh_plot.html\")\n",
    "\n",
    "# Create a new plot with a title and axis labels\n",
    "p = figure(title=\"Custom Bokeh Plot\", x_axis_label='X-Axis', y_axis_label='Y-Axis')\n",
    "\n",
    "# Add a line renderer with legend and line thickness\n",
    "p.line([1, 2, 3, 4, 5], [6, 7, 2, 4, 5], legend_label=\"Line 1\", line_width=2, color=\"blue\")\n",
    "\n",
    "# Customize the title\n",
    "p.title.text = \"Customized Bokeh Plot\"\n",
    "p.title.align = \"center\"\n",
    "p.title.text_color = \"olive\"\n",
    "p.title.text_font_size = \"25px\"\n",
    "p.title.background_fill_color = \"lightgray\"\n",
    "\n",
    "# Customize the x-axis\n",
    "p.xaxis.axis_label = \"Custom X-Axis\"\n",
    "p.xaxis.axis_label_text_color = \"red\"\n",
    "p.xaxis.axis_label_standoff = 10\n",
    "p.xaxis.major_label_text_color = \"green\"\n",
    "p.xaxis.major_label_orientation = \"vertical\"\n",
    "\n",
    "# Customize the y-axis\n",
    "p.yaxis.axis_label = \"Custom Y-Axis\"\n",
    "p.yaxis.axis_label_text_color = \"blue\"\n",
    "p.yaxis.axis_label_standoff = 10\n",
    "p.yaxis.major_label_text_color = \"purple\"\n",
    "\n",
    "# Customize the legend\n",
    "p.legend.title = \"Legend\"\n",
    "p.legend.title_text_font_style = \"italic\"\n",
    "p.legend.title_text_font_size = \"12pt\"\n",
    "p.legend.label_text_font_size = \"10pt\"\n",
    "p.legend.location = \"top_left\"\n",
    "p.legend.background_fill_color = \"lightgrey\"\n",
    "\n",
    "# Customize the grid lines\n",
    "p.xgrid.grid_line_color = \"gray\"\n",
    "p.xgrid.grid_line_dash = [6, 4]\n",
    "p.ygrid.grid_line_color = \"gray\"\n",
    "p.ygrid.grid_line_dash = [6, 4]\n",
    "\n",
    "# Show the plot\n",
    "show(p)\n"
   ]
  },
  {
   "cell_type": "markdown",
   "id": "9387c5aa-3626-4619-b985-c110a7f81c17",
   "metadata": {},
   "source": [
    "# Q4. What is a Bokeh server, and how can you use it to create interactive plots that can be updated in real time?"
   ]
  },
  {
   "cell_type": "markdown",
   "id": "d8e66e0b-293b-4792-b1e3-1748ec9c5686",
   "metadata": {},
   "source": [
    "### What is a Bokeh Server?\n",
    "\n",
    "The Bokeh server is a powerful feature of the Bokeh visualization library that allows you to create interactive plots that can be updated in real time. Unlike static HTML outputs, Bokeh server applications can respond to user interactions or data updates from a running Python process."
   ]
  },
  {
   "cell_type": "markdown",
   "id": "0893b11b-efc5-4a9f-bb15-3544d9485e1a",
   "metadata": {},
   "source": [
    "Here's how Bokeh server facilitates creating interactive plots:\n",
    "\n",
    "Server-Side Python Code: You write Python code that defines the initial plot layout, data sources, and any necessary computations. This code is executed on the Bokeh server.\n",
    "\n",
    "Bokeh Documents and Serialization: The Bokeh server generates Bokeh documents representing the plots and their current state. These documents are serialized into a JSON format that web browsers can understand.\n",
    "\n",
    "Web Browser Communication: When a user opens the web application, their browser establishes a connection with the Bokeh server. The server transmits the serialized Bokeh document, which the browser deserializes and renders as an interactive plot using the BokehJS library (JavaScript counterpart of Bokeh).\n",
    "\n",
    "Interactive Widgets and Callbacks: You can integrate interactive widgets like sliders, buttons, or dropdown menus into your Bokeh plots. These widgets are rendered on the client-side (browser) using BokehJS.\n",
    "\n",
    "Real-Time Updates: When a user interacts with these widgets, the BokehJS library sends messages back to the Bokeh server. These messages typically contain the updated values from the user interaction.\n",
    "\n",
    "Server-Side Callbacks and Data Updates: The Bokeh server receives these messages and triggers corresponding callback functions defined in your Python code. These callbacks can perform necessary calculations, update data sources, or modify the plot layout based on the user input.\n",
    "\n",
    "Updated Document and Re-rendering: The Bokeh server then updates the Bokeh document with the new data or plot configuration. This updated document is again serialized and sent back to the web browser.\n",
    "\n",
    "Client-Side Re-rendering: Finally, the browser receives the updated document, deserializes it, and re-renders the plot with the latest changes, reflecting the user's interaction in real-time."
   ]
  },
  {
   "cell_type": "code",
   "execution_count": 11,
   "id": "2a606c6d-21a1-4c48-a114-667ee221211a",
   "metadata": {},
   "outputs": [],
   "source": [
    "from bokeh.plotting import figure, curdoc\n",
    "from bokeh.models import ColumnDataSource\n",
    "from bokeh.layouts import column\n",
    "from bokeh.models.widgets import Slider\n",
    "\n",
    "# Create a ColumnDataSource to hold data\n",
    "source = ColumnDataSource(data=dict(x=[1, 2, 3, 4, 5], y=[6, 7, 2, 4, 5]))\n",
    "\n",
    "# Create a new plot\n",
    "plot = figure(title=\"Interactive Bokeh Plot\", x_axis_label='X', y_axis_label='Y')\n",
    "plot.line('x', 'y', source=source)\n",
    "\n",
    "# Define a callback to update the plot\n",
    "def update_data(attrname, old, new):\n",
    "    k = slider.value\n",
    "    new_y = [i*k for i in source.data['x']]\n",
    "    source.data = dict(x=[1, 2, 3, 4, 5], y=new_y)\n",
    "\n",
    "# Create a Slider widget\n",
    "slider = Slider(start=1, end=10, value=1, step=0.1, title=\"Multiplier\")\n",
    "slider.on_change('value', update_data)\n",
    "\n",
    "# Arrange plots and widgets in layouts\n",
    "layout = column(plot, slider)\n",
    "\n",
    "# Add the layout to the current document\n",
    "curdoc().add_root(layout)\n"
   ]
  },
  {
   "cell_type": "markdown",
   "id": "3cc1e8be-300b-405d-8136-cbad60fbb839",
   "metadata": {},
   "source": [
    "# Q5. How can you embed a Bokeh plot into a web page or dashboard using Flask or Django?"
   ]
  },
  {
   "cell_type": "code",
   "execution_count": 12,
   "id": "8a924b61-fbad-43cb-8e94-45b1e0baecd5",
   "metadata": {},
   "outputs": [
    {
     "name": "stdout",
     "output_type": "stream",
     "text": [
      "Collecting flask\n",
      "  Downloading flask-3.0.3-py3-none-any.whl (101 kB)\n",
      "\u001b[2K     \u001b[90m━━━━━━━━━━━━━━━━━━━━━━━━━━━━━━━━━━━━━━━\u001b[0m \u001b[32m101.7/101.7 kB\u001b[0m \u001b[31m3.8 MB/s\u001b[0m eta \u001b[36m0:00:00\u001b[0m\n",
      "\u001b[?25hRequirement already satisfied: bokeh in /opt/conda/lib/python3.10/site-packages (3.0.3)\n",
      "Requirement already satisfied: Jinja2>=3.1.2 in /opt/conda/lib/python3.10/site-packages (from flask) (3.1.2)\n",
      "Collecting blinker>=1.6.2\n",
      "  Downloading blinker-1.8.2-py3-none-any.whl (9.5 kB)\n",
      "Requirement already satisfied: Werkzeug>=3.0.0 in /opt/conda/lib/python3.10/site-packages (from flask) (3.0.3)\n",
      "Requirement already satisfied: click>=8.1.3 in /opt/conda/lib/python3.10/site-packages (from flask) (8.1.3)\n",
      "Collecting itsdangerous>=2.1.2\n",
      "  Downloading itsdangerous-2.2.0-py3-none-any.whl (16 kB)\n",
      "Requirement already satisfied: packaging>=16.8 in /opt/conda/lib/python3.10/site-packages (from bokeh) (22.0)\n",
      "Requirement already satisfied: pillow>=7.1.0 in /opt/conda/lib/python3.10/site-packages (from bokeh) (9.2.0)\n",
      "Requirement already satisfied: tornado>=5.1 in /opt/conda/lib/python3.10/site-packages (from bokeh) (6.1)\n",
      "Requirement already satisfied: xyzservices>=2021.09.1 in /opt/conda/lib/python3.10/site-packages (from bokeh) (2022.9.0)\n",
      "Requirement already satisfied: contourpy>=1 in /opt/conda/lib/python3.10/site-packages (from bokeh) (1.0.6)\n",
      "Requirement already satisfied: PyYAML>=3.10 in /opt/conda/lib/python3.10/site-packages (from bokeh) (6.0)\n",
      "Requirement already satisfied: pandas>=1.2 in /opt/conda/lib/python3.10/site-packages (from bokeh) (1.5.2)\n",
      "Requirement already satisfied: numpy>=1.11.3 in /opt/conda/lib/python3.10/site-packages (from bokeh) (1.23.5)\n",
      "Requirement already satisfied: MarkupSafe>=2.0 in /opt/conda/lib/python3.10/site-packages (from Jinja2>=3.1.2->flask) (2.1.1)\n",
      "Requirement already satisfied: python-dateutil>=2.8.1 in /opt/conda/lib/python3.10/site-packages (from pandas>=1.2->bokeh) (2.8.2)\n",
      "Requirement already satisfied: pytz>=2020.1 in /opt/conda/lib/python3.10/site-packages (from pandas>=1.2->bokeh) (2022.6)\n",
      "Requirement already satisfied: six>=1.5 in /opt/conda/lib/python3.10/site-packages (from python-dateutil>=2.8.1->pandas>=1.2->bokeh) (1.16.0)\n",
      "Installing collected packages: itsdangerous, blinker, flask\n",
      "  Attempting uninstall: blinker\n",
      "    Found existing installation: blinker 1.5\n",
      "    Uninstalling blinker-1.5:\n",
      "      Successfully uninstalled blinker-1.5\n",
      "Successfully installed blinker-1.8.2 flask-3.0.3 itsdangerous-2.2.0\n",
      "Note: you may need to restart the kernel to use updated packages.\n"
     ]
    }
   ],
   "source": [
    "pip install flask bokeh\n"
   ]
  },
  {
   "cell_type": "code",
   "execution_count": 13,
   "id": "f378b95d-d346-49b5-9d42-df1c8eaea329",
   "metadata": {},
   "outputs": [],
   "source": [
    "from bokeh.plotting import figure\n",
    "from bokeh.embed import components\n",
    "\n",
    "# Create a simple plot\n",
    "p = figure(title=\"Simple Bokeh Plot\", x_axis_label='x', y_axis_label='y')\n",
    "p.line([1, 2, 3, 4, 5], [6, 7, 2, 4, 5], legend_label=\"Temp.\", line_width=2)\n",
    "\n",
    "# Extract the script and div components\n",
    "script, div = components(p)\n"
   ]
  },
  {
   "cell_type": "code",
   "execution_count": 14,
   "id": "b4588164-1ab5-46fe-9736-77ba69354351",
   "metadata": {},
   "outputs": [
    {
     "name": "stdout",
     "output_type": "stream",
     "text": [
      " * Serving Flask app '__main__'\n",
      " * Debug mode: on\n"
     ]
    },
    {
     "name": "stderr",
     "output_type": "stream",
     "text": [
      "WARNING: This is a development server. Do not use it in a production deployment. Use a production WSGI server instead.\n",
      " * Running on http://127.0.0.1:5000\n",
      "Press CTRL+C to quit\n",
      " * Restarting with stat\n",
      "Traceback (most recent call last):\n",
      "  File \"/opt/conda/lib/python3.10/runpy.py\", line 196, in _run_module_as_main\n",
      "    return _run_code(code, main_globals, None,\n",
      "  File \"/opt/conda/lib/python3.10/runpy.py\", line 86, in _run_code\n",
      "    exec(code, run_globals)\n",
      "  File \"/opt/conda/lib/python3.10/site-packages/ipykernel_launcher.py\", line 17, in <module>\n",
      "    app.launch_new_instance()\n",
      "  File \"/opt/conda/lib/python3.10/site-packages/traitlets/config/application.py\", line 991, in launch_instance\n",
      "    app.initialize(argv)\n",
      "  File \"/opt/conda/lib/python3.10/site-packages/traitlets/config/application.py\", line 113, in inner\n",
      "    return method(app, *args, **kwargs)\n",
      "  File \"/opt/conda/lib/python3.10/site-packages/ipykernel/kernelapp.py\", line 665, in initialize\n",
      "    self.init_sockets()\n",
      "  File \"/opt/conda/lib/python3.10/site-packages/ipykernel/kernelapp.py\", line 309, in init_sockets\n",
      "    self.shell_port = self._bind_socket(self.shell_socket, self.shell_port)\n",
      "  File \"/opt/conda/lib/python3.10/site-packages/ipykernel/kernelapp.py\", line 246, in _bind_socket\n",
      "    return self._try_bind_socket(s, port)\n",
      "  File \"/opt/conda/lib/python3.10/site-packages/ipykernel/kernelapp.py\", line 222, in _try_bind_socket\n",
      "    s.bind(\"tcp://%s:%i\" % (self.ip, port))\n",
      "  File \"/opt/conda/lib/python3.10/site-packages/zmq/sugar/socket.py\", line 232, in bind\n",
      "    super().bind(addr)\n",
      "  File \"zmq/backend/cython/socket.pyx\", line 568, in zmq.backend.cython.socket.Socket.bind\n",
      "  File \"zmq/backend/cython/checkrc.pxd\", line 28, in zmq.backend.cython.checkrc._check_rc\n",
      "zmq.error.ZMQError: Address already in use\n"
     ]
    },
    {
     "ename": "SystemExit",
     "evalue": "1",
     "output_type": "error",
     "traceback": [
      "An exception has occurred, use %tb to see the full traceback.\n",
      "\u001b[0;31mSystemExit\u001b[0m\u001b[0;31m:\u001b[0m 1\n"
     ]
    },
    {
     "name": "stderr",
     "output_type": "stream",
     "text": [
      "/opt/conda/lib/python3.10/site-packages/IPython/core/interactiveshell.py:3441: UserWarning: To exit: use 'exit', 'quit', or Ctrl-D.\n",
      "  warn(\"To exit: use 'exit', 'quit', or Ctrl-D.\", stacklevel=1)\n"
     ]
    }
   ],
   "source": [
    "from flask import Flask, render_template_string\n",
    "from bokeh.plotting import figure\n",
    "from bokeh.embed import components\n",
    "\n",
    "app = Flask(__name__)\n",
    "\n",
    "@app.route('/')\n",
    "def index():\n",
    "    # Create a simple plot\n",
    "    p = figure(title=\"Simple Bokeh Plot\", x_axis_label='x', y_axis_label='y')\n",
    "    p.line([1, 2, 3, 4, 5], [6, 7, 2, 4, 5], legend_label=\"Temp.\", line_width=2)\n",
    "    \n",
    "    # Extract the script and div components\n",
    "    script, div = components(p)\n",
    "    \n",
    "    # Define the HTML template\n",
    "    html = f\"\"\"\n",
    "    <!DOCTYPE html>\n",
    "    <html lang=\"en\">\n",
    "    <head>\n",
    "        <meta charset=\"UTF-8\">\n",
    "        <title>Bokeh Plot</title>\n",
    "        <link rel=\"stylesheet\" href=\"https://cdn.bokeh.org/bokeh/release/bokeh-2.4.3.min.css\" type=\"text/css\" />\n",
    "        <script type=\"text/javascript\" src=\"https://cdn.bokeh.org/bokeh/release/bokeh-2.4.3.min.js\"></script>\n",
    "        {script}\n",
    "    </head>\n",
    "    <body>\n",
    "        <h1>My Bokeh Plot</h1>\n",
    "        {div}\n",
    "    </body>\n",
    "    </html>\n",
    "    \"\"\"\n",
    "    \n",
    "    return render_template_string(html)\n",
    "\n",
    "if __name__ == '__main__':\n",
    "    app.run(debug=True)\n"
   ]
  },
  {
   "cell_type": "code",
   "execution_count": 15,
   "id": "e51e5776-eddb-436f-aa50-f60883e34fa2",
   "metadata": {},
   "outputs": [
    {
     "name": "stdout",
     "output_type": "stream",
     "text": [
      "Collecting django\n",
      "  Downloading Django-5.0.6-py3-none-any.whl (8.2 MB)\n",
      "\u001b[2K     \u001b[90m━━━━━━━━━━━━━━━━━━━━━━━━━━━━━━━━━━━━━━━━\u001b[0m \u001b[32m8.2/8.2 MB\u001b[0m \u001b[31m39.8 MB/s\u001b[0m eta \u001b[36m0:00:00\u001b[0m00:01\u001b[0m00:01\u001b[0m\n",
      "\u001b[?25hRequirement already satisfied: bokeh in /opt/conda/lib/python3.10/site-packages (3.0.3)\n",
      "Collecting asgiref<4,>=3.7.0\n",
      "  Downloading asgiref-3.8.1-py3-none-any.whl (23 kB)\n",
      "Collecting sqlparse>=0.3.1\n",
      "  Downloading sqlparse-0.5.0-py3-none-any.whl (43 kB)\n",
      "\u001b[2K     \u001b[90m━━━━━━━━━━━━━━━━━━━━━━━━━━━━━━━━━━━━━━━━\u001b[0m \u001b[32m44.0/44.0 kB\u001b[0m \u001b[31m8.7 MB/s\u001b[0m eta \u001b[36m0:00:00\u001b[0m\n",
      "\u001b[?25hRequirement already satisfied: packaging>=16.8 in /opt/conda/lib/python3.10/site-packages (from bokeh) (22.0)\n",
      "Requirement already satisfied: numpy>=1.11.3 in /opt/conda/lib/python3.10/site-packages (from bokeh) (1.23.5)\n",
      "Requirement already satisfied: xyzservices>=2021.09.1 in /opt/conda/lib/python3.10/site-packages (from bokeh) (2022.9.0)\n",
      "Requirement already satisfied: PyYAML>=3.10 in /opt/conda/lib/python3.10/site-packages (from bokeh) (6.0)\n",
      "Requirement already satisfied: pandas>=1.2 in /opt/conda/lib/python3.10/site-packages (from bokeh) (1.5.2)\n",
      "Requirement already satisfied: pillow>=7.1.0 in /opt/conda/lib/python3.10/site-packages (from bokeh) (9.2.0)\n",
      "Requirement already satisfied: contourpy>=1 in /opt/conda/lib/python3.10/site-packages (from bokeh) (1.0.6)\n",
      "Requirement already satisfied: Jinja2>=2.9 in /opt/conda/lib/python3.10/site-packages (from bokeh) (3.1.2)\n",
      "Requirement already satisfied: tornado>=5.1 in /opt/conda/lib/python3.10/site-packages (from bokeh) (6.1)\n",
      "Requirement already satisfied: typing-extensions>=4 in /opt/conda/lib/python3.10/site-packages (from asgiref<4,>=3.7.0->django) (4.4.0)\n",
      "Requirement already satisfied: MarkupSafe>=2.0 in /opt/conda/lib/python3.10/site-packages (from Jinja2>=2.9->bokeh) (2.1.1)\n",
      "Requirement already satisfied: python-dateutil>=2.8.1 in /opt/conda/lib/python3.10/site-packages (from pandas>=1.2->bokeh) (2.8.2)\n",
      "Requirement already satisfied: pytz>=2020.1 in /opt/conda/lib/python3.10/site-packages (from pandas>=1.2->bokeh) (2022.6)\n",
      "Requirement already satisfied: six>=1.5 in /opt/conda/lib/python3.10/site-packages (from python-dateutil>=2.8.1->pandas>=1.2->bokeh) (1.16.0)\n",
      "Installing collected packages: sqlparse, asgiref, django\n",
      "Successfully installed asgiref-3.8.1 django-5.0.6 sqlparse-0.5.0\n",
      "Note: you may need to restart the kernel to use updated packages.\n"
     ]
    }
   ],
   "source": [
    "pip install django bokeh\n"
   ]
  },
  {
   "cell_type": "code",
   "execution_count": 20,
   "id": "5b0c2e78-e320-488e-81fc-53bb42b7113e",
   "metadata": {},
   "outputs": [
    {
     "ename": "SyntaxError",
     "evalue": "invalid syntax (1938177194.py, line 1)",
     "output_type": "error",
     "traceback": [
      "\u001b[0;36m  Cell \u001b[0;32mIn[20], line 1\u001b[0;36m\u001b[0m\n\u001b[0;31m    django-admin startproject myproject\u001b[0m\n\u001b[0m                 ^\u001b[0m\n\u001b[0;31mSyntaxError\u001b[0m\u001b[0;31m:\u001b[0m invalid syntax\n"
     ]
    }
   ],
   "source": [
    "django-admin startproject myproject\n",
    "cd myproject\n",
    "django-admin startapp myapp\n"
   ]
  },
  {
   "cell_type": "code",
   "execution_count": 19,
   "id": "c8f227a9-c2c4-439d-a084-d0e113dfbd5f",
   "metadata": {},
   "outputs": [],
   "source": [
    "# myapp/views.py\n",
    "from django.shortcuts import render\n",
    "from bokeh.plotting import figure\n",
    "from bokeh.embed import components\n",
    "\n",
    "def index(request):\n",
    "    # Create a simple plot\n",
    "    p = figure(title=\"Simple Bokeh Plot\", x_axis_label='x', y_axis_label='y')\n",
    "    p.line([1, 2, 3, 4, 5], [6, 7, 2, 4, 5], legend_label=\"Temp.\", line_width=2)\n",
    "    \n",
    "    # Extract the script and div components\n",
    "    script, div = components(p)\n",
    "    \n",
    "    return render(request, 'myapp/index.html', {'script': script, 'div': div})\n"
   ]
  },
  {
   "cell_type": "code",
   "execution_count": 21,
   "id": "d87fa306-396d-4321-b5bd-c900c0301105",
   "metadata": {},
   "outputs": [
    {
     "ename": "SyntaxError",
     "evalue": "invalid syntax (3949985628.py, line 1)",
     "output_type": "error",
     "traceback": [
      "\u001b[0;36m  Cell \u001b[0;32mIn[21], line 1\u001b[0;36m\u001b[0m\n\u001b[0;31m    <!-- myapp/templates/myapp/index.html -->\u001b[0m\n\u001b[0m    ^\u001b[0m\n\u001b[0;31mSyntaxError\u001b[0m\u001b[0;31m:\u001b[0m invalid syntax\n"
     ]
    }
   ],
   "source": [
    "<!-- myapp/templates/myapp/index.html -->\n",
    "<!DOCTYPE html>\n",
    "<html lang=\"en\">\n",
    "<head>\n",
    "    <meta charset=\"UTF-8\">\n",
    "    <title>Bokeh Plot</title>\n",
    "    <link rel=\"stylesheet\" href=\"https://cdn.bokeh.org/bokeh/release/bokeh-2.4.3.min.css\" type=\"text/css\" />\n",
    "    <script type=\"text/javascript\" src=\"https://cdn.bokeh.org/bokeh/release/bokeh-2.4.3.min.js\"></script>\n",
    "    {{ script|safe }}\n",
    "</head>\n",
    "<body>\n",
    "    <h1>My Bokeh Plot</h1>\n",
    "    {{ div|safe }}\n",
    "</body>\n",
    "</html>\n"
   ]
  },
  {
   "cell_type": "code",
   "execution_count": null,
   "id": "2a968090-285c-497d-897f-91570ee182a7",
   "metadata": {},
   "outputs": [],
   "source": []
  },
  {
   "cell_type": "code",
   "execution_count": null,
   "id": "08f7da4b-1f5c-4cb6-8aad-301f36bafc6f",
   "metadata": {},
   "outputs": [],
   "source": [
    "# myproject/urls.py\n",
    "from django.contrib import admin\n",
    "from django.urls import path\n",
    "from myapp.views import index\n",
    "\n",
    "urlpatterns = [\n",
    "    path('admin/', admin.site.urls),\n",
    "    path('', index, name='index'),\n",
    "]\n",
    "\n"
   ]
  }
 ],
 "metadata": {
  "kernelspec": {
   "display_name": "Python 3 (ipykernel)",
   "language": "python",
   "name": "python3"
  },
  "language_info": {
   "codemirror_mode": {
    "name": "ipython",
    "version": 3
   },
   "file_extension": ".py",
   "mimetype": "text/x-python",
   "name": "python",
   "nbconvert_exporter": "python",
   "pygments_lexer": "ipython3",
   "version": "3.10.8"
  }
 },
 "nbformat": 4,
 "nbformat_minor": 5
}
