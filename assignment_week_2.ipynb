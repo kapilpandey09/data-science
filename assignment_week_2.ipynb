{
 "cells": [
  {
   "cell_type": "markdown",
   "id": "a0b25b4f-84ef-494b-b68d-9c469330cfcb",
   "metadata": {},
   "source": [
    "Q1. How do you comment code in Python? What are the different types of comments?"
   ]
  },
  {
   "cell_type": "code",
   "execution_count": 1,
   "id": "c946eff4-eece-4b20-bde6-03e9bb1f681a",
   "metadata": {},
   "outputs": [],
   "source": [
    "# This is a comment show '#' "
   ]
  },
  {
   "cell_type": "code",
   "execution_count": 1,
   "id": "0849e40a-d2e5-4769-a826-9074abb9d53b",
   "metadata": {},
   "outputs": [
    {
     "data": {
      "text/plain": [
       "' this is a multiline comment \\nthis use type of string \\nand use in also comment '"
      ]
     },
     "execution_count": 1,
     "metadata": {},
     "output_type": "execute_result"
    }
   ],
   "source": [
    "# string type comment given the below\n",
    "''' this is a multiline comment \n",
    "this use type of string \n",
    "and use in also comment '''"
   ]
  },
  {
   "cell_type": "markdown",
   "id": "1c3d6b96-b639-4630-9ec6-d7f32b7e09d1",
   "metadata": {},
   "source": [
    "Q2. What are variables in Python? How do you declare and assign values to variables?"
   ]
  },
  {
   "cell_type": "raw",
   "id": "94ad9246-a785-4d3f-8b7a-67357740ef53",
   "metadata": {},
   "source": [
    "python variables are used to store and manage data. A variable is essentially a name given to a memory location where you can store a value, a variables conatain data and manipulate and access that data   "
   ]
  },
  {
   "cell_type": "code",
   "execution_count": 2,
   "id": "6367dac4-191b-4a97-8b9b-5a4ead623ea1",
   "metadata": {},
   "outputs": [],
   "source": [
    "# This is a example\n",
    "a = \"kapil\"\n",
    "# where a is variable to use store data (\"kapil\") and some example to use multiply type coasting and a assign a value\n",
    "b = 180\n",
    "# this is b assign a integer value "
   ]
  },
  {
   "cell_type": "markdown",
   "id": "a7238eb4-fa5e-4668-8eac-922038ef0310",
   "metadata": {},
   "source": [
    "Q3. How do you convert one data type to another in Python?"
   ]
  },
  {
   "cell_type": "code",
   "execution_count": 3,
   "id": "4a1a8e16-90d8-4709-be2e-b110d33be2d7",
   "metadata": {},
   "outputs": [
    {
     "data": {
      "text/plain": [
       "int"
      ]
     },
     "execution_count": 3,
     "metadata": {},
     "output_type": "execute_result"
    }
   ],
   "source": [
    "a = 45\n",
    "type(a)"
   ]
  },
  {
   "cell_type": "code",
   "execution_count": 5,
   "id": "ea7a335d-576b-47f0-b56a-b7892f96012c",
   "metadata": {},
   "outputs": [
    {
     "data": {
      "text/plain": [
       "str"
      ]
     },
     "execution_count": 5,
     "metadata": {},
     "output_type": "execute_result"
    }
   ],
   "source": [
    "type(str(a)) # a conver to string"
   ]
  },
  {
   "cell_type": "code",
   "execution_count": 7,
   "id": "58b394f7-b0b7-40e3-bbbe-a688e64d7c61",
   "metadata": {},
   "outputs": [],
   "source": [
    "ten = \"steing\"\n",
    "tan = list(ten) # this is a coner to list"
   ]
  },
  {
   "cell_type": "code",
   "execution_count": null,
   "id": "d8b986c5-8f1f-4861-85d5-e3a552e002a5",
   "metadata": {},
   "outputs": [
    {
     "data": {
      "text/plain": [
       "['s', 't', 'e', 'i', 'n', 'g']"
      ]
     },
     "execution_count": 11,
     "metadata": {},
     "output_type": "execute_result"
    }
   ],
   "source": [
    "type(tan)\n",
    "tan"
   ]
  },
  {
   "cell_type": "markdown",
   "id": "9c95db53-402c-4e9a-86bd-bd1523f9a4e9",
   "metadata": {},
   "source": [
    "Q4. How do you write and execute a Python script from the command line?"
   ]
  },
  {
   "cell_type": "code",
   "execution_count": 10,
   "id": "1cbb23d6-72b8-4e89-bb66-70fcf1e866d7",
   "metadata": {},
   "outputs": [
    {
     "name": "stdout",
     "output_type": "stream",
     "text": [
      "data-scienctist\n"
     ]
    }
   ],
   "source": [
    "execute = 'data-scienctist' # this is a python script  and print function help to python script execute\n",
    "print(execute) # this execution only .ipynb file execute"
   ]
  },
  {
   "cell_type": "raw",
   "id": "790064cc-18a8-4746-bd52-8a1e9e354b9e",
   "metadata": {},
   "source": []
  },
  {
   "cell_type": "markdown",
   "id": "12ef08e6-99c6-4a0e-a845-81e56c710c03",
   "metadata": {},
   "source": [
    "Q5. Given a list my_list = [1, 2, 3, 4, 5], write the code to slice the list and obtain the sub-list [2, 3]."
   ]
  },
  {
   "cell_type": "markdown",
   "id": "eb4b58f3-2378-49d0-90ea-e323046d128d",
   "metadata": {},
   "source": [
    "Answer"
   ]
  },
  {
   "cell_type": "code",
   "execution_count": 14,
   "id": "f91959e0-c43d-4e99-b95f-db2aadd04fa1",
   "metadata": {},
   "outputs": [
    {
     "data": {
      "text/plain": [
       "[2, 3]"
      ]
     },
     "execution_count": 14,
     "metadata": {},
     "output_type": "execute_result"
    }
   ],
   "source": [
    "my_list = [1,2,3,4,5]\n",
    "sub_list = my_list[1:3]\n",
    "sub_list"
   ]
  },
  {
   "cell_type": "markdown",
   "id": "ca7980ce-30db-47eb-9371-c94a158d66ce",
   "metadata": {},
   "source": [
    "Q6. What is a complex number in mathematics, and how is it represented in Python?"
   ]
  },
  {
   "cell_type": "markdown",
   "id": "1ec48506-eb55-4f93-a348-bd13313cfa52",
   "metadata": {},
   "source": [
    "Answer"
   ]
  },
  {
   "cell_type": "raw",
   "id": "301d5190-173f-4106-a68b-fe78a6954420",
   "metadata": {},
   "source": [
    "In mathematics, a complex number is a number that comprises both a real part and an imaginary part It is represented in the form a + bi, where a is the real part, b is the imaginary part, and i is the imaginary unit (defined as the square root of -1). The real and imaginary parts can be any real numbers."
   ]
  },
  {
   "cell_type": "code",
   "execution_count": null,
   "id": "cc6efe8c-56e3-4346-a739-e282cc09697b",
   "metadata": {},
   "outputs": [],
   "source": [
    "z = 1 + 2j  # this is a complex number j is a represented imagenary part and other is real \n",
    "z1 = 2+ 4J  # this is a capital J is also represented imagenarypart\n",
    "z\n",
    "z.real    # this  is represented a real part of z is 1\n",
    "z.imag    # this is represented a imaginary pary of z is 2"
   ]
  },
  {
   "cell_type": "markdown",
   "id": "72f23625-2ac8-4b98-86a4-0d12eb8e3263",
   "metadata": {},
   "source": [
    "Q7. What is the correct way to declare a variable named age and assign the value 25 to it?"
   ]
  },
  {
   "cell_type": "markdown",
   "id": "8c664cd6-3ef2-4dea-a0e0-57b6b2f0f7b3",
   "metadata": {},
   "source": [
    "Answer"
   ]
  },
  {
   "cell_type": "code",
   "execution_count": 1,
   "id": "e0f875d0-57b9-4d04-a303-58baace108a4",
   "metadata": {},
   "outputs": [],
   "source": [
    "age =  25 # this is a best way of declare of variable name beacause this name talk to use own propertity "
   ]
  },
  {
   "cell_type": "markdown",
   "id": "5d7aa802-850d-4607-89a4-20a34a332a0c",
   "metadata": {},
   "source": [
    "Q8. Declare a variable named price and assign the value 9.99 to it. What data type does this variable\n",
    "belong to?"
   ]
  },
  {
   "cell_type": "markdown",
   "id": "9a48ddeb-9d1c-4279-8ace-925df9a44680",
   "metadata": {},
   "source": [
    "Answer"
   ]
  },
  {
   "cell_type": "code",
   "execution_count": 2,
   "id": "964c0a3f-7182-48ff-b08c-aaf2c3cceecc",
   "metadata": {},
   "outputs": [
    {
     "data": {
      "text/plain": [
       "float"
      ]
     },
     "execution_count": 2,
     "metadata": {},
     "output_type": "execute_result"
    }
   ],
   "source": [
    "price = 9.99 # This variable belong to float data type value\n",
    "type(price)"
   ]
  },
  {
   "cell_type": "markdown",
   "id": "360aaf57-e2d1-4ea6-9295-d7b54a134cf0",
   "metadata": {},
   "source": [
    "Q9. Create a variable named name and assign your full name to it as a string. How would you print the\n",
    "value of this variable?"
   ]
  },
  {
   "cell_type": "markdown",
   "id": "1abba680-928c-4b1f-bcd0-07f9d8923243",
   "metadata": {},
   "source": [
    "Answer"
   ]
  },
  {
   "cell_type": "code",
   "execution_count": 3,
   "id": "9ab2323b-f793-41d7-bae8-294ddc02a4cd",
   "metadata": {},
   "outputs": [
    {
     "name": "stdout",
     "output_type": "stream",
     "text": [
      "kapil pandey\n"
     ]
    }
   ],
   "source": [
    "name = \"kapil pandey\"\n",
    "print(name) # print is a fuction to use show print in console a variable which is assign tha value "
   ]
  },
  {
   "cell_type": "markdown",
   "id": "6a41094d-38b0-4043-bb5c-62a69935d52d",
   "metadata": {},
   "source": [
    "Q10. Given the string \"Hello, World!\", extract the substring \"World\"."
   ]
  },
  {
   "cell_type": "markdown",
   "id": "61d4c6d8-32d1-453a-abea-1541642892a4",
   "metadata": {},
   "source": [
    "Answer"
   ]
  },
  {
   "cell_type": "code",
   "execution_count": null,
   "id": "f0165cb7-f98d-4684-99a8-54110eaad140",
   "metadata": {},
   "outputs": [
    {
     "name": "stdout",
     "output_type": "stream",
     "text": [
      "World\n"
     ]
    }
   ],
   "source": [
    "string = \"Hello, World!\"\n",
    "sub_string = stri[7:12]\n",
    "print(sub_string)ng"
   ]
  },
  {
   "cell_type": "markdown",
   "id": "3f049c3c-bea9-4b7c-a2c5-93ba1ff94f00",
   "metadata": {},
   "source": [
    "Q11. Create a variable named \"is_student\" and assign it a boolean value indicating whether you are\n",
    "currently a student or not."
   ]
  },
  {
   "cell_type": "markdown",
   "id": "8a1ba8a0-7e5e-4b49-b3f0-b9d10895e754",
   "metadata": {},
   "source": [
    "Answer"
   ]
  },
  {
   "cell_type": "code",
   "execution_count": 20,
   "id": "5d03f8a1-b985-4682-877c-5ef90f4b9c57",
   "metadata": {},
   "outputs": [],
   "source": [
    "is_student = True  # you are a student\n",
    "is_student = False  # you are not a student"
   ]
  },
  {
   "cell_type": "code",
   "execution_count": null,
   "id": "9b8a937a-4f2d-48f1-a292-9728597693a5",
   "metadata": {},
   "outputs": [],
   "source": []
  }
 ],
 "metadata": {
  "kernelspec": {
   "display_name": "Python 3 (ipykernel)",
   "language": "python",
   "name": "python3"
  },
  "language_info": {
   "codemirror_mode": {
    "name": "ipython",
    "version": 3
   },
   "file_extension": ".py",
   "mimetype": "text/x-python",
   "name": "python",
   "nbconvert_exporter": "python",
   "pygments_lexer": "ipython3",
   "version": "3.10.8"
  }
 },
 "nbformat": 4,
 "nbformat_minor": 5
}
