{
 "cells": [
  {
   "cell_type": "markdown",
   "id": "c3cd2199-c02e-4add-950e-e881975ac2e0",
   "metadata": {},
   "source": [
    "Q1. Create a python program to sort the given list of tuples based on integer value using a\n",
    "lambda function.\n",
    "[('Sachin Tendulkar', 34357), ('Ricky Ponting', 27483), ('Jack Kallis', 25534), ('Virat Kohli', 24936)]"
   ]
  },
  {
   "cell_type": "markdown",
   "id": "2e4d08b4-6251-40e0-9bd9-e15b8aab95d2",
   "metadata": {},
   "source": [
    "Answer:"
   ]
  },
  {
   "cell_type": "code",
   "execution_count": 9,
   "id": "051c5c25-91a2-43d2-bfaa-af831816a05a",
   "metadata": {},
   "outputs": [
    {
     "name": "stdout",
     "output_type": "stream",
     "text": [
      "('Virat Kohli', 24936)\n",
      "('Jack Kallis', 25534)\n",
      "('Ricky Ponting', 27483)\n",
      "('Sachin Tendulkar', 34357)\n"
     ]
    }
   ],
   "source": [
    "data = [('Sachin Tendulkar', 34357), ('Ricky Ponting', 27483), ('Jack Kallis', 25534), ('Virat Kohli', 24936)]\n",
    "data.sort(key = lambda y : y[1])\n",
    "\n",
    "for i in data:\n",
    "    print(i)"
   ]
  },
  {
   "cell_type": "raw",
   "id": "0fa2ee57-27be-45cd-a729-9b7b221f65f5",
   "metadata": {},
   "source": []
  },
  {
   "cell_type": "markdown",
   "id": "2b455a9d-026d-465c-8662-82e19b93cd79",
   "metadata": {},
   "source": [
    "Q2. Write a Python Program to find the squares of all the numbers in the given list of integers using\n",
    "lambda and map functions.\n",
    "[1, 2, 3, 4, 5, 6, 7, 8, 9, 10]"
   ]
  },
  {
   "cell_type": "markdown",
   "id": "20a408cd-4108-41a1-abeb-8aeb022afa45",
   "metadata": {},
   "source": [
    "Answer:"
   ]
  },
  {
   "cell_type": "code",
   "execution_count": 11,
   "id": "89dc733b-fd98-4b16-9f5b-167c8baa0a0d",
   "metadata": {},
   "outputs": [
    {
     "data": {
      "text/plain": [
       "[1, 4, 9, 16, 25, 36, 49, 64, 81, 100]"
      ]
     },
     "execution_count": 11,
     "metadata": {},
     "output_type": "execute_result"
    }
   ],
   "source": [
    "_list_ = [1,2,3,4,5,6,7,8,9,10]\n",
    "list(map(lambda x : x**2 , _list_))"
   ]
  },
  {
   "cell_type": "raw",
   "id": "18fce71f-5aef-43e8-9ae8-72e0e6fef35d",
   "metadata": {},
   "source": []
  },
  {
   "cell_type": "markdown",
   "id": "19e01d6d-e7ba-4816-857a-446b4fb67751",
   "metadata": {},
   "source": [
    "Q3. Write a python program to convert the given list of integers into a tuple of strings. Use map and\n",
    "lambda functions\n",
    "\n",
    "Given String: [1, 2, 3, 4, 5, 6, 7, 8, 9, 10]\n",
    "Expected output: ('1', '2', '3', '4', '5', '6', '7', '8', '9', '10')"
   ]
  },
  {
   "cell_type": "markdown",
   "id": "393eda99-4577-49ef-bc24-938f8095e788",
   "metadata": {},
   "source": [
    "Answer:"
   ]
  },
  {
   "cell_type": "code",
   "execution_count": 12,
   "id": "4ba5c518-9768-490f-8a5f-acefaaabb694",
   "metadata": {},
   "outputs": [
    {
     "data": {
      "text/plain": [
       "('1', '2', '3', '4', '5', '6', '7', '8', '9', '10')"
      ]
     },
     "execution_count": 12,
     "metadata": {},
     "output_type": "execute_result"
    }
   ],
   "source": [
    "int_list = [1, 2, 3, 4, 5, 6, 7, 8, 9, 10]\n",
    "tuple(map(lambda x : str(x), int_list))"
   ]
  },
  {
   "cell_type": "raw",
   "id": "b820fdb2-75a2-4215-8ba0-d4e502389544",
   "metadata": {},
   "source": []
  },
  {
   "cell_type": "markdown",
   "id": "c6dae71d-f913-48f1-9a03-ed4d89f52db8",
   "metadata": {},
   "source": [
    "Q4. Write a python program using reduce function to compute the product of a list containing numbers\n",
    "from 1 to 25."
   ]
  },
  {
   "cell_type": "markdown",
   "id": "7a8f9b22-56fa-4718-ba38-c34d85529d54",
   "metadata": {},
   "source": [
    "Answer:"
   ]
  },
  {
   "cell_type": "code",
   "execution_count": 13,
   "id": "2d704aae-971e-4485-9591-b384e0692228",
   "metadata": {},
   "outputs": [
    {
     "data": {
      "text/plain": [
       "15511210043330985984000000"
      ]
     },
     "execution_count": 13,
     "metadata": {},
     "output_type": "execute_result"
    }
   ],
   "source": [
    "from functools import reduce\n",
    "l = list(range(1,26))\n",
    "reduce(lambda x,y : x*y, l)"
   ]
  },
  {
   "cell_type": "raw",
   "id": "6959e295-5d0b-4659-83ef-0a8e1a338022",
   "metadata": {},
   "source": []
  },
  {
   "cell_type": "markdown",
   "id": "cbfd156a-4cf8-4916-80ef-56550c2e51d2",
   "metadata": {},
   "source": [
    "Q5. Write a python program to filter the numbers in a given list that are divisible by 2 and 3 using the\n",
    "filter function.\n",
    "[2, 3, 6, 9, 27, 60, 90, 120, 55, 46]"
   ]
  },
  {
   "cell_type": "markdown",
   "id": "ff176cdd-f854-4ace-a310-999a4924c4e2",
   "metadata": {},
   "source": [
    "Answer:"
   ]
  },
  {
   "cell_type": "code",
   "execution_count": 19,
   "id": "4858df8c-845a-4564-9954-6086a2a1efb7",
   "metadata": {},
   "outputs": [
    {
     "data": {
      "text/plain": [
       "[6, 60, 90, 120]"
      ]
     },
     "execution_count": 19,
     "metadata": {},
     "output_type": "execute_result"
    }
   ],
   "source": [
    "data = [2,3,6,9,27,60,90,120,55,46]\n",
    "list(filter(lambda x : x%2 == 0 and x%3 == 0 , data))"
   ]
  },
  {
   "cell_type": "raw",
   "id": "b852840d-ccf4-4d68-9c86-e56b7ab8ccda",
   "metadata": {},
   "source": []
  },
  {
   "cell_type": "markdown",
   "id": "b966a19c-7e0c-4e58-be3a-1a61990d89de",
   "metadata": {},
   "source": [
    "Q6. Write a python program to find palindromes in the given list of strings using lambda and filter\n",
    "function.\n",
    "\n",
    "['python', 'php', 'aba', 'radar', 'level']"
   ]
  },
  {
   "cell_type": "markdown",
   "id": "30c78608-ec3c-476d-89d6-d835aa18ade3",
   "metadata": {},
   "source": [
    "Answer:"
   ]
  },
  {
   "cell_type": "code",
   "execution_count": 21,
   "id": "0dc1e2fd-5ac9-4f9b-93c6-ba29bdf9d952",
   "metadata": {},
   "outputs": [
    {
     "data": {
      "text/plain": [
       "['php', 'aba', 'radar', 'level']"
      ]
     },
     "execution_count": 21,
     "metadata": {},
     "output_type": "execute_result"
    }
   ],
   "source": [
    "list_pm = ['python', 'php', 'aba', 'radar', 'level']\n",
    "list(filter(lambda x : x==x[::-1] , list_pm))"
   ]
  },
  {
   "cell_type": "code",
   "execution_count": null,
   "id": "68c1b014-0cb1-4c14-8722-258ac7e42829",
   "metadata": {},
   "outputs": [],
   "source": []
  }
 ],
 "metadata": {
  "kernelspec": {
   "display_name": "Python 3 (ipykernel)",
   "language": "python",
   "name": "python3"
  },
  "language_info": {
   "codemirror_mode": {
    "name": "ipython",
    "version": 3
   },
   "file_extension": ".py",
   "mimetype": "text/x-python",
   "name": "python",
   "nbconvert_exporter": "python",
   "pygments_lexer": "ipython3",
   "version": "3.10.8"
  }
 },
 "nbformat": 4,
 "nbformat_minor": 5
}
