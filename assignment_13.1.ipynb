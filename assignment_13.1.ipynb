{
 "cells": [
  {
   "cell_type": "markdown",
   "id": "4d31273b-44d2-4dd7-8a6b-194e1f3cb5b9",
   "metadata": {},
   "source": [
    "Q1. Explain the following with an example:\n",
    "\n",
    "1. Artificial Intelligence\n",
    "2. Machine Learning \n",
    "3. Deep Learning"
   ]
  },
  {
   "cell_type": "markdown",
   "id": "aded04e8-c9ca-4373-8aee-c58cdef3b416",
   "metadata": {},
   "source": [
    "Answer:\n",
    "    \n",
    "    Artificial intelligence (AI) is the field of computer science that seeks to create intelligent agents, which are systems that can reason, learn, and act autonomously.\n",
    "    AI research has been highly successful in developing effective techniques for solving a wide range of problems, from game playing to medical diagnosis.\n",
    "    \n",
    "    \n",
    "    Example: A self-driving car is an example of AI. It is a system that can perceive its surroundings, make decisions, and take actions to navigate to its destination without human intervention."
   ]
  },
  {
   "cell_type": "markdown",
   "id": "ac51d7c7-fb79-4a77-aaba-2e85c2b3e273",
   "metadata": {},
   "source": [
    "Machine learning (ML) is a subset of AI that focuses on developing algorithms that can learn from data. ML algorithms are able to improve their performance over time without being explicitly programmed. ML is used in a wide range of applications, including spam filtering, product recommendation systems, and image recognition.\n",
    "\n",
    "Example: A spam filter is an example of ML. It is a program that learns to identify spam emails by analyzing a large dataset of labeled emails. Once the filter has been trained, it can be used to automatically filter out spam emails from a user's inbox."
   ]
  },
  {
   "cell_type": "markdown",
   "id": "ce4be6ae-07c6-4cb3-9ed2-0f0ef7e5c4ea",
   "metadata": {},
   "source": [
    "\n",
    "Here is an explanation of artificial intelligence, machine learning, and deep learning, with an example for each:\n",
    "\n",
    "Artificial intelligence (AI) is the field of computer science that seeks to create intelligent agents, which are systems that can reason, learn, and act autonomously. AI research has been highly successful in developing effective techniques for solving a wide range of problems, from game playing to medical diagnosis.\n",
    "\n",
    "Example: A self-driving car is an example of AI. It is a system that can perceive its surroundings, make decisions, and take actions to navigate to its destination without human intervention.\n",
    "\n",
    "Machine learning (ML) is a subset of AI that focuses on developing algorithms that can learn from data. ML algorithms are able to improve their performance over time without being explicitly programmed. ML is used in a wide range of applications, including spam filtering, product recommendation systems, and image recognition.\n",
    "\n",
    "Example: A spam filter is an example of ML. It is a program that learns to identify spam emails by analyzing a large dataset of labeled emails. Once the filter has been trained, it can be used to automatically filter out spam emails from a user's inbox.\n",
    "\n",
    "Deep learning (DL) is a subset of ML that uses artificial neural networks to learn from data. Neural networks are inspired by the structure and function of the human brain. They are able to learn complex patterns from data and make predictions. DL has been highly successful in solving a wide range of problems, including image recognition, natural language processing, and machine translation.\n",
    "\n",
    "Example: A facial recognition system is an example of DL. It is a program that uses a neural network to learn to identify faces in images. Once the system has been trained, it can be used to automatically identify people in photos and videos."
   ]
  },
  {
   "cell_type": "raw",
   "id": "fe827448-efc5-4204-a28e-f3106c089974",
   "metadata": {},
   "source": [
    "Q2. What is supervised learning? List some examples of supervised learning."
   ]
  },
  {
   "cell_type": "markdown",
   "id": "a1dde896-df44-41e7-9879-183a611f06e4",
   "metadata": {},
   "source": [
    "Supervised learning is a type of machine learning where the algorithm is trained on a labeled dataset. This means that each input data point in the dataset has a corresponding output, or label. The algorithm learns to map the input data to the output labels, and then uses this knowledge to make predictions on new, unseen data."
   ]
  },
  {
   "cell_type": "markdown",
   "id": "6227ce03-9316-4b50-b621-bcff0004cb79",
   "metadata": {},
   "source": [
    "Here are some examples of supervised learning:\n",
    "\n",
    "Classification: Classifying emails as spam or not spam\n",
    "\n",
    "Regression: Predicting the price of a house\n",
    "\n",
    "Image recognition: Identifying objects in an image\n",
    "\n",
    "Medical diagnosis: Predicting whether a patient has a particular disease\n",
    "\n",
    "Recommendation systems: Recommending products to users based on their past purchases"
   ]
  },
  {
   "cell_type": "raw",
   "id": "d674328a-bf05-4a4c-bf72-d880e7e1e2ba",
   "metadata": {},
   "source": [
    "Q3- What is unsupervised learning? List some examples of unsupervised learning."
   ]
  },
  {
   "cell_type": "markdown",
   "id": "5296915d-5ddf-42d3-b0a0-7dd242773e42",
   "metadata": {},
   "source": [
    "Data set == clusture or similaer group\n",
    "\n",
    "\n",
    "Unsupervised learning is a type of machine learning where the algorithm is trained on an unlabeled dataset. This means that the input data points in the dataset do not have any corresponding output labels. The algorithm must learn to find patterns and structure in the data on its own."
   ]
  },
  {
   "cell_type": "markdown",
   "id": "4a9d82ed-9293-4d90-8981-5618dd68806e",
   "metadata": {},
   "source": [
    "Example of unsupervised learning\n",
    "\n",
    "Clustering: Grouping similar data points together\n",
    "\n",
    "Anomaly detection: Identifying unusual or unexpected data points\n",
    "\n",
    "Dimensionality reduction: Reducing the number of features in a dataset without losing too much information\n",
    "\n",
    "Association rule learning: Finding patterns in transactional data"
   ]
  },
  {
   "cell_type": "raw",
   "id": "2083636d-d721-4120-bcf5-41b54ecb5982",
   "metadata": {},
   "source": [
    "Q4- What is the difference between AI, ML, DL, and DS?"
   ]
  },
  {
   "cell_type": "code",
   "execution_count": null,
   "id": "ce094911-1652-4644-9b31-f5cf78b5f46c",
   "metadata": {},
   "outputs": [],
   "source": [
    "# Answer: \n",
    "#     ML is the subset of AI . AI is artifiicial intelligence and this is smart agent and machine learning is set of algoritham\n",
    "#     and DL (Deep Learning) is netural network who was subset of ML and last of DS means Data science this is a cover all domain of AI , ML and DL . \n",
    "    "
   ]
  },
  {
   "cell_type": "raw",
   "id": "5c26ab5b-5b92-4845-a6eb-7ecea786853c",
   "metadata": {},
   "source": [
    "Q5- What are the main differences between supervised, unsupervised, and semi-supervised learning?"
   ]
  },
  {
   "cell_type": "raw",
   "id": "ad16fd93-1fd7-4ea1-922e-e3901e7f901e",
   "metadata": {},
   "source": [
    "The main differences between supervised, unsupervised, and semi-supervised learning are as follows:\n",
    "\n",
    "    Type of learning\tTraining data\t                                  Goal\n",
    "   Supervised learning: \t   Labeled:        To predict or classify new data points based on the training data\n",
    "   Unsupervised learning\tUnlabeled\t       To find patterns and structure in the training data without any prior knowledge\n",
    "    Semi-supervised learning\tMixed        \tTo improve the performance of supervised learning algorithms by using a small amount of labeled data and a large amount of unlabeled data\n",
    "                              (labeled and\n",
    "                              unlabeled)"
   ]
  },
  {
   "cell_type": "raw",
   "id": "828f7369-6155-4c55-8da6-670bf98068be",
   "metadata": {},
   "source": [
    "Q6- What is train, test and validation split? explain the importance of each term."
   ]
  },
  {
   "cell_type": "raw",
   "id": "1fe07e42-df45-4793-a4c2-aa97f03c3b26",
   "metadata": {},
   "source": [
    "Training data is the set of the data on which the actual training takes place. Validation split helps to improve the model performance by fine-tuning the model after each epoch. The test set informs us about the final accuracy of the model after completing the training phase.\n",
    "\n",
    "The train-test-validation split is a fundamental concept in machine learning and model development. It involves dividing a dataset into three subsets: the training set, the test set, and the validation set. Each of these subsets serves a specific purpose, and their proper use is crucial for developing and evaluating machine learning models.\n",
    "\n",
    "\n",
    "\n",
    "The train-test-validation split is a fundamental concept in machine learning and model development. It involves dividing a dataset into three subsets: the training set, the test set, and the validation set. Each of these subsets serves a specific purpose, and their proper use is crucial for developing and evaluating machine learning models.\n",
    "\n",
    "Training Set:\n",
    "\n",
    "The training set is the largest portion of the dataset, and its primary purpose is for training the machine learning model.\n",
    "\n",
    "Validation Set: The validation set is used to fine-tune the model's hyperparameters and monitor its performance during training.\n",
    "\n",
    "Test Set: The test set is kept separate and not used during model training or hyperparameter tuning. It serves as an independent dataset to assess the model's performance and generalization to new, unseen data.\n",
    "\n"
   ]
  },
  {
   "cell_type": "raw",
   "id": "ce22e7ff-5517-41c8-be33-8a983c84eebc",
   "metadata": {},
   "source": [
    "Q7- How can unsupervised learning be used in anomaly detection?"
   ]
  },
  {
   "cell_type": "raw",
   "id": "44922408-8e29-4804-93bf-39cb6ecb3a3e",
   "metadata": {},
   "source": [
    "Unsupervised learning can be a powerful technique for anomaly detection. Anomaly detection is the process of identifying data points or events that deviate significantly from the norm or expected behavior. Unsupervised learning methods can help with this task by learning the underlying structure of the data and identifying anomalies as data points that do not conform to this learned structure. Here's how unsupervised learning can be used in anomaly detection:"
   ]
  },
  {
   "cell_type": "raw",
   "id": "2ccf0e85-24fc-4f16-8ded-3dfe12fccbae",
   "metadata": {},
   "source": [
    "Clustering: Unsupervised learning algorithms, such as k-means or hierarchical clustering, can group data points into clusters based on their similarity. Anomalies are often data points that don't belong to any cluster or belong to a very small cluster. By identifying data points that are far from the centroids of clusters, you can flag them as potential anomalies."
   ]
  },
  {
   "cell_type": "code",
   "execution_count": null,
   "id": "4aafeac3-d5a5-4645-a879-b2da08b1e182",
   "metadata": {},
   "outputs": [],
   "source": []
  },
  {
   "cell_type": "code",
   "execution_count": null,
   "id": "9c82e579-df08-4ad6-ab44-4b25394538e0",
   "metadata": {},
   "outputs": [],
   "source": []
  },
  {
   "cell_type": "markdown",
   "id": "b3e6ce84-8151-45ab-8cb6-5b49536c4323",
   "metadata": {},
   "source": [
    "Q8- List  down  some  commonly  used  supervised  learning  algorithms  and  unsupervised  learning \n",
    " algorithms ."
   ]
  },
  {
   "cell_type": "raw",
   "id": "50c592e3-579e-4374-b799-f0512ceaf98a",
   "metadata": {},
   "source": [
    "Supervised Learning Algorithms:\n",
    "\n",
    "Linear Regression: Used for regression tasks to model the relationship between the input features and a continuous target variable.\n",
    "\n",
    "Random Forest: An ensemble method that consists of multiple decision trees to improve accuracy and reduce overfitting.\n",
    "\n",
    "Decision Trees: Build tree-like models of decisions and their possible consequences. They can be used for both classification and regression tasks.\n",
    "\n",
    "Support Vector Machines (SVM): Used for classification and regression tasks. SVM finds a hyperplane that best separates different classes.\n",
    "\n",
    "k-Nearest Neighbors (k-NN): A simple algorithm used for classification and regression tasks that make predictions based on the majority class or average value of its k-nearest neighbors.\n",
    "\n",
    "Neural Networks: Deep learning neural networks, including feedforward, convolutional, and recurrent neural networks, are used for a wide range of tasks, including image recognition, natural language processing, and more."
   ]
  },
  {
   "cell_type": "raw",
   "id": "660c6cfe-f9f6-4ed2-88b7-1764718d1b2d",
   "metadata": {},
   "source": [
    "Unsupervised Learning Algorithms:\n",
    "\n",
    "K-Means Clustering: Used to partition data into clusters based on similarity, with k being the number of clusters to create.\n",
    "\n",
    "Hierarchical Clustering: Builds a hierarchy of clusters by iteratively merging or splitting clusters based on similarity.\n",
    "\n",
    "Principal Component Analysis (PCA): A dimensionality reduction technique used to transform data into a lower-dimensional space while preserving as much variance as possible.\n",
    "\n",
    "Gaussian Mixture Models (GMM): Used for density estimation and clustering. It models data as a mixture of Gaussian distributions.\n",
    "\n",
    "t-Distributed Stochastic Neighbor Embedding (t-SNE): Used for dimensionality reduction and visualization, particularly for high-dimensional data.\n"
   ]
  }
 ],
 "metadata": {
  "kernelspec": {
   "display_name": "Python 3 (ipykernel)",
   "language": "python",
   "name": "python3"
  },
  "language_info": {
   "codemirror_mode": {
    "name": "ipython",
    "version": 3
   },
   "file_extension": ".py",
   "mimetype": "text/x-python",
   "name": "python",
   "nbconvert_exporter": "python",
   "pygments_lexer": "ipython3",
   "version": "3.10.8"
  }
 },
 "nbformat": 4,
 "nbformat_minor": 5
}
