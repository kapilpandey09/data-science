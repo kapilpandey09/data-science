{
 "cells": [
  {
   "cell_type": "code",
   "execution_count": null,
   "id": "6410a064-66ac-4ca5-b489-7e18a32c6a49",
   "metadata": {},
   "outputs": [],
   "source": [
    "Q1. What are the three measures of central tendency?\n"
   ]
  },
  {
   "cell_type": "code",
   "execution_count": null,
   "id": "fa7b493e-e664-44d0-87f7-7df8ef566ada",
   "metadata": {},
   "outputs": [],
   "source": [
    "Answer: Three type of measures of central tendency \n",
    "1. mean: The average of all the values in a dataset.\n",
    "Calculated by adding up all the values and dividing by the number of values.\n",
    "2. mode: The most frequent value in a dataset\n",
    "3. median: The middle value in a dataset when the values are ordered from least to greatest.\n",
    "If there are two middle values, the median is the average of those two values."
   ]
  },
  {
   "cell_type": "code",
   "execution_count": null,
   "id": "1a469534-c82f-49c6-80bf-6fbd261fbf2f",
   "metadata": {},
   "outputs": [],
   "source": [
    "Q2. What is the difference between the mean, median, and mode? How are they used to measure the\n",
    "central tendency of a dataset?"
   ]
  },
  {
   "cell_type": "code",
   "execution_count": null,
   "id": "796ed899-f7fb-4106-b944-bca87d2c4acd",
   "metadata": {},
   "outputs": [],
   "source": [
    "Answer:\n",
    "    The mean, median, and mode are all measures of central tendency, \n",
    "    but they are calculated in different ways.\n",
    "    \n",
    "    MEAN:  This is measure of average data \n",
    "    MEDIAN: This is different measure of middle average data\n",
    "    mode: this most frequent data set \n",
    "    \n",
    "    \n",
    "    \n",
    "How are they used to measure the central tendency of a dataset?\n",
    "    \n",
    "    The best way to choose which measure of central tendency to use is to consider the specific dataset and the question being asked.\n",
    "    If the dataset has outliers, the median is a good choice. If the dataset is very symmetrical, the mean is a good choice. \n",
    "    If the dataset has a single dominant value, the mode is a good choice."
   ]
  },
  {
   "cell_type": "code",
   "execution_count": null,
   "id": "406977d4-2a80-4ef0-bd55-71ae88441a0a",
   "metadata": {},
   "outputs": [],
   "source": [
    "Q3. Measure the three measures of central tendency for the given height data:\n",
    "[178,177,176,177,178.2,178,175,179,180,175,178.9,176.2,177,172.5,178,176.5]"
   ]
  },
  {
   "cell_type": "code",
   "execution_count": 2,
   "id": "12427fb4-5cfb-4ec7-98d5-7978c56bee06",
   "metadata": {},
   "outputs": [
    {
     "name": "stdout",
     "output_type": "stream",
     "text": [
      "height of mean is : 177.01875\n",
      "height of median is :  177.0\n"
     ]
    }
   ],
   "source": [
    "# Answer:\n",
    "import numpy as np\n",
    "height = [178,177,176,177,178.2,178,175,179,180,175,178.9,176.2,177,172.5,178,176.5]\n",
    "print(\"height of mean is :\", np.mean(height))\n",
    "print(\"height of median is : \",np.median(height))"
   ]
  },
  {
   "cell_type": "code",
   "execution_count": 3,
   "id": "b684f426-d1db-4f44-a1bc-851b44d5ff4a",
   "metadata": {},
   "outputs": [
    {
     "name": "stderr",
     "output_type": "stream",
     "text": [
      "/tmp/ipykernel_286/3979292238.py:2: FutureWarning: Unlike other reduction functions (e.g. `skew`, `kurtosis`), the default behavior of `mode` typically preserves the axis it acts along. In SciPy 1.11.0, this behavior will change: the default value of `keepdims` will become False, the `axis` over which the statistic is taken will be eliminated, and the value None will no longer be accepted. Set `keepdims` to True or False to avoid this warning.\n",
      "  st.mode(height)\n"
     ]
    },
    {
     "data": {
      "text/plain": [
       "ModeResult(mode=array([177.]), count=array([3]))"
      ]
     },
     "execution_count": 3,
     "metadata": {},
     "output_type": "execute_result"
    }
   ],
   "source": [
    "from scipy import stats as st\n",
    "st.mode(height)"
   ]
  },
  {
   "cell_type": "code",
   "execution_count": null,
   "id": "a93b2315-7544-40f3-bd1b-4ff4fb422086",
   "metadata": {},
   "outputs": [],
   "source": [
    "Q4. Find the standard deviation for the given data:\n",
    "[178,177,176,177,178.2,178,175,179,180,175,178.9,176.2,177,172.5,178,176.5]"
   ]
  },
  {
   "cell_type": "code",
   "execution_count": 4,
   "id": "6bb97d11-1158-44ae-bbdf-3fc9475248db",
   "metadata": {},
   "outputs": [
    {
     "data": {
      "text/plain": [
       "1.7885814036548633"
      ]
     },
     "execution_count": 4,
     "metadata": {},
     "output_type": "execute_result"
    }
   ],
   "source": [
    "import numpy as np\n",
    "height = [178,177,176,177,178.2,178,175,179,180,175,178.9,176.2,177,172.5,178,176.5]\n",
    "np.std(height)"
   ]
  },
  {
   "cell_type": "code",
   "execution_count": null,
   "id": "6261c90d-e21a-49dd-84fc-4583f75045ed",
   "metadata": {},
   "outputs": [],
   "source": [
    "Q5. How are measures of dispersion such as range, variance, and standard deviation used to describe\n",
    "the spread of a dataset? Provide an example."
   ]
  },
  {
   "cell_type": "markdown",
   "id": "af5aad24-0dd2-401a-b637-3787ddf199e6",
   "metadata": {},
   "source": [
    "Measures of dispersion such as range, variance, and standard deviation are used to describe the spread of a dataset by quantifying how much the data values vary from the mean or median."
   ]
  },
  {
   "cell_type": "markdown",
   "id": "9801f7c2-e81b-4b17-af97-be829dfa9c99",
   "metadata": {},
   "source": [
    "Range: Range is the simplest measure of dispersion, and it is calculated by subtracting the smallest value in the dataset from the largest value. The range is a good measure of dispersion for datasets that are symmetrical and have no outliers. However, it can be affected by outliers, and it can be less informative for datasets that are not symmetrical.\n",
    "\n",
    "Example: 70, 75, 80, 85, 90. \n",
    "The range would be 90 (maximum) - 70 (minimum) = 20.\n"
   ]
  },
  {
   "cell_type": "markdown",
   "id": "ea069569-c575-45e3-9746-ea1d644eade2",
   "metadata": {},
   "source": [
    "Variance: Variance is a more sophisticated measure of dispersion, and it is calculated by averaging the squared deviations from the mean. The variance is a good measure of dispersion for datasets that are symmetrical and have no outliers. However, it can be difficult to interpret, and it can be affected by outliers.\n",
    "\n",
    "Example: Let's use the same dataset of exam scores. The mean is (70 + 75 + 80 + 85 + 90) / 5 = 80. The variance would be:\n",
    "\n",
    "Variance = [(70-80)^2 + (75-80)^2 + (80-80)^2 + (85-80)^2 + (90-80)^2] / 5\n",
    "Variance = (100 + 25 + 0 + 25 + 100) / 5\n",
    "Variance = 250 / 5\n",
    "Variance = 50"
   ]
  },
  {
   "cell_type": "markdown",
   "id": "4ba7d67d-2996-48f2-81f9-df36430bca35",
   "metadata": {},
   "source": [
    "standard deviation: Standard deviation is the square root of the variance, and it is often used instead of the variance because it is easier to interpret. The standard deviation is a good measure of dispersion for datasets that are symmetrical and have no outliers. However, it can be affected by outliers.\n",
    "\n",
    "Example: Using the same dataset, the standard deviation is the square root of the variance:\n",
    "\n",
    "Standard Deviation = √Variance = √50 ≈ 7.07 (rounded to two decimal places)\n",
    "\n",
    "In this example, the range tells us the data's extent, while the variance and standard deviation provide more insight into how individual data points deviate from the mean. A larger standard deviation indicates greater variability, meaning the data points are more spread out from the mean, while a smaller standard deviation suggests that the data points are closer to the mean."
   ]
  },
  {
   "cell_type": "code",
   "execution_count": null,
   "id": "b87368ec-995e-43a5-8762-1994ceecf295",
   "metadata": {},
   "outputs": [],
   "source": [
    "Q6. What is a Venn diagram?"
   ]
  },
  {
   "cell_type": "raw",
   "id": "2a80a5c0-1212-4cb8-a1bb-200e457c7f04",
   "metadata": {},
   "source": [
    "\n",
    "A Venn diagram is a graphical representation of sets. It is used to show the relationships between different sets of data. Venn diagrams are named after John Venn, who invented them in 1880.\n",
    "\n",
    "Venn diagrams are made up of circles, with each circle representing a different set of data. The overlapping areas of the circles represent the data that is common to both sets. For example, a Venn diagram could be used to show the relationship between the sets of people who like cats, dogs, and both cats and dogs.\n",
    "\n",
    "\n",
    "A Venn diagram is a graphical representation of sets. It is used to show the relationships between different sets of data. Venn diagrams are named after John Venn, who invented them in 1880.\n",
    "\n",
    "Venn diagrams are made up of circles, with each circle representing a different set of data. The overlapping areas of the circles represent the data that is common to both sets. For example, a Venn diagram could be used to show the relationship between the sets of people who like cats, dogs, and both cats and dogs."
   ]
  },
  {
   "cell_type": "code",
   "execution_count": null,
   "id": "1c1e7195-68f1-4c67-bf8c-49b7bfc6f063",
   "metadata": {},
   "outputs": [],
   "source": []
  },
  {
   "cell_type": "code",
   "execution_count": null,
   "id": "edb67d19-e08f-4b43-b26e-fa18611a32f8",
   "metadata": {},
   "outputs": [],
   "source": []
  },
  {
   "cell_type": "code",
   "execution_count": null,
   "id": "8d6b48cb-2020-4112-948a-c601e1558b47",
   "metadata": {},
   "outputs": [],
   "source": [
    "Q7. For the two given sets A = (2,3,4,5,6,7) & B = (0,2,6,8,10). Find:\n",
    "(i) A interset B\n",
    "(ii) A ⋃ B"
   ]
  },
  {
   "cell_type": "code",
   "execution_count": null,
   "id": "b9371c22-b794-44bb-ac33-cd96483aa23c",
   "metadata": {},
   "outputs": [],
   "source": [
    "# Answer:\n",
    "(i) A interset B = (2,6)\n",
    "(ii) A union B = (0,2,3,4,5,6,7,8,10)"
   ]
  },
  {
   "cell_type": "code",
   "execution_count": null,
   "id": "d42efa7b-950e-4351-b8d2-aa4b610ebf98",
   "metadata": {},
   "outputs": [],
   "source": [
    "Q8. What do you understand about skewness in data?"
   ]
  },
  {
   "cell_type": "raw",
   "id": "7e6d4f1a-9387-435c-9968-7abafaa09283",
   "metadata": {},
   "source": [
    "\n",
    "Skewness in data is a measure of how asymmetrical a distribution is. It quantifies how much the data is skewed or shifted to one side. Positive skewness indicates a longer tail on the right side of the distribution, while negative skewness indicates a longer tail on the left side. Skewness is often measured using a statistic called the skewness coefficient, which can range from -3 to 3. A skewness coefficient of 0 indicates a perfectly symmetrical distribution.\n",
    "\n",
    "Limitations of the measurement scale: Some measurement scales, such as the Likert scale, are inherently skewed.\n",
    "Outliers: A small number of outliers can have a big impact on the skewness of a distribution.\n",
    "The underlying process: The process that generated the data may be skewed. For example, the distribution of income is often skewed to the right because there are a few very wealthy people and many people with modest incomes."
   ]
  },
  {
   "cell_type": "code",
   "execution_count": null,
   "id": "8303c087-cd2f-4045-b155-aa43f9bb1875",
   "metadata": {},
   "outputs": [],
   "source": [
    "Q9. If a data is right skewed then what will be the position of median with respect to mean?"
   ]
  },
  {
   "cell_type": "raw",
   "id": "d05c44fd-53f7-46f7-9111-9de518801abd",
   "metadata": {},
   "source": [
    " A data is right skewed, then the median will be less than the mean. This is because the right skew indicates that there are more extreme values on the right side of the distribution than on the left side. This means that the median, which is the middle value of the distribution, will be pulled towards the left side, while the mean, which is the average of all the values, will be pulled towards the right side.\n",
    "\n",
    "For example, consider the following right-skewed distribution:\n",
    "\n",
    "1, 2, 3, 4, 5, 6, 7, 8, 9, 10, 100\n",
    "\n",
    "he median of this distribution is 5, while the mean is 10.5. As you can see, the median is less than the mean.\n",
    "\n",
    "Another way to think about it is that the right skew indicates that the tail of the distribution on the right side is longer than the tail on the left side. This means that there are more extreme values on the right side, which will pull the mean towards the right side. The median, on the other hand, is not affected by extreme values, so it will remain closer to the middle of the distribution.\n",
    "\n",
    "In general, the more right-skewed the distribution, the greater the difference between the median and the mean will be."
   ]
  },
  {
   "cell_type": "raw",
   "id": "83bfb3ee-7f03-41b6-83c2-1e02447ed850",
   "metadata": {},
   "source": [
    "Q10. Explain the difference between covariance and correlation. How are these measures used in\n",
    "statistical analysis?"
   ]
  },
  {
   "cell_type": "markdown",
   "id": "9e9f55e4-70be-46a9-b9ac-4adcbc4e06f9",
   "metadata": {},
   "source": [
    "Covariance is a statistical measure of the relationship between two variables. It tells us how two variables tend to move together. For example, if the covariance between height and weight is positive, then it means that taller people tend to be heavier, and vice versa.\n",
    "\n",
    "Correlation is a standardized measure of covariance. It tells us how strong the relationship between two variables is, and whether the relationship is positive or negative. Correlation values range from -1 to 1, with a correlation of 1 indicating a perfect positive relationship, a correlation of -1 indicating a perfect negative relationship, and a correlation of 0 indicating no relationship.\n",
    "\n",
    "## measured difference\n",
    "\n",
    "Covariance and correlation are both used in statistical analysis to measure the relationship between two variables. However, they are used in different ways. Covariance is often used as a preliminary step in statistical analysis, to determine whether there is a relationship between two variables before conducting more sophisticated analyses. Correlation is often used to report the strength and direction of the relationship between two variables."
   ]
  },
  {
   "cell_type": "raw",
   "id": "9ea55db6-8ace-4094-b4b2-4851f772e82d",
   "metadata": {},
   "source": [
    "Q11. What is the formula for calculating the sample mean? Provide an example calculation for a\n",
    "dataset."
   ]
  },
  {
   "cell_type": "raw",
   "id": "77904953-6b75-4807-b269-8eda49f41906",
   "metadata": {},
   "source": [
    "mean = (sum of alll values of set)/number of element int the set\n",
    "\n",
    "x̄ = (∑ xi) / n\n",
    "\n",
    "Dataset: {1, 2, 3, 4, 5}\n",
    "This is a data set\n",
    "mean = (1+2+3+4+5)/5\n",
    "mean = 3\n",
    "the sample mean of the dataset is 3."
   ]
  },
  {
   "cell_type": "markdown",
   "id": "2d71bee5-7009-4de1-9dca-e9b8573abbd1",
   "metadata": {},
   "source": [
    "Q12. For a normal distribution data what is the relationship between its measure of central tendency?"
   ]
  },
  {
   "cell_type": "raw",
   "id": "7a8a0e9f-94c9-4474-8e31-893ac40e74a9",
   "metadata": {},
   "source": [
    "\n",
    "In a normal distribution, the mean, median, and mode are all equal. This is because a normal distribution is symmetrical, meaning that the left and right halves of the distribution are the same. As a result, the middle value of the distribution (the median) and the most frequent value of the distribution (the mode) are both equal to the mean.\n",
    "\n",
    "Another way to think about it is that the mean, median, and mode are all measures of central tendency, which means that they all represent the center of the distribution. In a normal distribution, the center of the distribution is the same, regardless of which measure of central tendency you use."
   ]
  },
  {
   "cell_type": "markdown",
   "id": "46d12f71-b516-4ab3-90af-6c165ed3a921",
   "metadata": {},
   "source": [
    "# Q13. How is covariance different from correlation?"
   ]
  },
  {
   "cell_type": "raw",
   "id": "f5a8bf4d-3e0d-49c1-a0c1-f7aa2b48c9e8",
   "metadata": {},
   "source": [
    "Covariance and correlation are both measures of the relationship between two variables. However, they have some key differences.\n",
    "In general, covariance is a more technical measure of the relationship between two variables, while correlation is a more intuitive measure. Correlation is often used in reporting the results of statistical analyses, as it is easier to interpret than covariance."
   ]
  },
  {
   "cell_type": "code",
   "execution_count": null,
   "id": "c0bad3fd-bc5e-4b05-91b7-f0d13b59e39d",
   "metadata": {},
   "outputs": [],
   "source": []
  },
  {
   "cell_type": "markdown",
   "id": "d29e192a-95c1-4baa-935a-84ea68c03bcf",
   "metadata": {},
   "source": [
    "# Q14. How do outliers affect measures of central tendency and dispersion? Provide an example."
   ]
  },
  {
   "cell_type": "raw",
   "id": "84257ad1-e401-45d9-9e36-cb58d77b4f27",
   "metadata": {},
   "source": [
    "#  Mean: The mean is particularly sensitive to outliers because it takes into account the value of each data point.\n",
    "# A single extreme outlier can pull the mean in its direction. For example, consider the following dataset of exam scores:\n",
    "\n",
    "import numpy as np\n",
    "set= [80, 85, 88, 90, 98, 45, 92, 1000]\n",
    "\n",
    "np.mean(set)\n",
    "# output 197.25\n",
    " # effect the value of mean\n",
    "    \n",
    "    # b. Median: The median is less affected by outliers because it only considers the middle value when the data is sorted. For the same dataset, the median remains 88, even with the outlier 200.\n",
    "\n",
    "# c. Mode: The mode is not impacted by outliers since it represents the most frequent value in the dataset. In this case, the mode remains the same, which is 88.\n",
    "\n",
    "\n",
    "\n",
    "\n",
    "\n"
   ]
  },
  {
   "cell_type": "code",
   "execution_count": null,
   "id": "0123c6bf-e553-4533-a3a5-45bf7fdc0bb0",
   "metadata": {},
   "outputs": [],
   "source": []
  }
 ],
 "metadata": {
  "kernelspec": {
   "display_name": "Python 3 (ipykernel)",
   "language": "python",
   "name": "python3"
  },
  "language_info": {
   "codemirror_mode": {
    "name": "ipython",
    "version": 3
   },
   "file_extension": ".py",
   "mimetype": "text/x-python",
   "name": "python",
   "nbconvert_exporter": "python",
   "pygments_lexer": "ipython3",
   "version": "3.10.8"
  }
 },
 "nbformat": 4,
 "nbformat_minor": 5
}
