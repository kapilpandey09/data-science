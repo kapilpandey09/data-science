{
 "cells": [
  {
   "cell_type": "markdown",
   "id": "82efade3-48f3-4f20-be60-9723872474cd",
   "metadata": {},
   "source": [
    "Q1. Explain why we have to use the Exception class while creating a Custom Exception.\n",
    "\n",
    "Note: Here Exception class refers to the base class for all the exceptions."
   ]
  },
  {
   "cell_type": "markdown",
   "id": "87909999-f11d-4950-9546-3e2c7bca8595",
   "metadata": {},
   "source": [
    "Exception Hierarchy: Python has a built-in exception hierarchy, with the BaseException class at the top and the Exception class as one of its immediate descendants. This hierarchy allows for organized and structured exception handling. When you create a custom exception by inheriting from the Exception class, you position your custom exception within this hierarchy, making it easier to catch and handle specific exceptions while allowing more general exceptions to be caught higher up in the hierarchy.\n"
   ]
  },
  {
   "cell_type": "markdown",
   "id": "96580d28-2fa1-4156-a738-21a5d2ab8776",
   "metadata": {},
   "source": [
    "Samarthanta: Exception class ko custom exceptions ke liye base banakar aap Python mein sthapit paramparaon ka palan karte hain. Aapke code ko padhne wale dusre developers aapke custom exception ko ek exception ke roop mein pehchan sakenge, jo code ko padhne aur maintain karne mein madad karta hai. Coding vyavharon mein samarthan ka palan karna, visheshkar saanjha pryojan vale project mein, mahatvapurn hota hai.\n",
    "\n",
    "Exception Handling Mechanisms ke saath Mel: Python mein banae gaye exception handling mechanisms, jaise try, except, aur finally, Exception class se virasat mein aaye exceptions ke saath sahaj roop se kaam karne ke liye banaye gaye hain. Agar aap Exception se virasat nahi lete hain, to aapka custom exception in mechanisms ke saath sahi dhang se kaam nahi kar sakta. Exception class ka upayog karne se aapka custom exception Python mein kisi bhi dusre exception ke tarah pakda aur sambhala ja sakta hai.\n",
    "\n",
    "Safai aur Icchashakti: Exception class se virasat lekar aap apni icchashakti ko saaf taur par darust karte hain. Isse aapka code swavikhyat banata hai aur dusre developers ko bina vyaktigat roop se class ki vifalata ki janch ke bina aapke custom exception ka uddeshya samajhne mein madad milti hai.\n",
    "\n",
    "Maintainability: Jab ek project par kei developers kaam karte hain, to coding vyavharon mein samarthan ka palan karna mahatvapurn hota hai. Exception class ko custom exceptions ke liye istemal karke aap apne codebase mein ek consistent pattern sthapit karte hain, jisse team members saath mein kaam karne, samajhne aur code ko maintain karne mein aasani hoti hai.\n",
    "\n",
    "Saransh mein, Python mein custom exceptions ke liye Exception class ka istemal karna ek acchi pratha hai jo Python ki exception hierarchy aur paramparaon ke saath anukool hai. Isse code padhne, maintain karne, aur standard exception handling mechanisms ke saath samarthan mein sudhar hota hai, jisse ant mein majboot aur samajhne mein aasan code banta hai."
   ]
  },
  {
   "cell_type": "markdown",
   "id": "13faac3b-6c91-4f83-8e77-528d40bbd177",
   "metadata": {},
   "source": [
    "Q2. Write a python program to print Python Exception Hierarchy."
   ]
  },
  {
   "cell_type": "markdown",
   "id": "d286f598-318e-4ecd-8418-1ae692e69713",
   "metadata": {},
   "source": [
    "Answer:"
   ]
  },
  {
   "cell_type": "code",
   "execution_count": null,
   "id": "aefbf497-e363-459b-9494-fc8be44d7c96",
   "metadata": {},
   "outputs": [],
   "source": []
  },
  {
   "cell_type": "markdown",
   "id": "641361ed-08ee-44fc-b0a7-a7d6662230c0",
   "metadata": {},
   "source": [
    "You can print Python's exception hierarchy by iterating through the exception classes using the __bases__ attribute and the built-in Exception class as the starting point. Here's a Python program to do that:"
   ]
  },
  {
   "cell_type": "code",
   "execution_count": 4,
   "id": "5e90e71a-745d-4df2-8fa9-a53c882e7a25",
   "metadata": {},
   "outputs": [
    {
     "name": "stdout",
     "output_type": "stream",
     "text": [
      "Python Exception Hierarchy:\n",
      "Exception\n",
      "  BaseException\n",
      "    object\n"
     ]
    }
   ],
   "source": [
    "def print_exception_hierarchy(exception_class, indent=0):\n",
    "    spaces = \" \" * indent\n",
    "    print(f\"{spaces}{exception_class.__name__}\")\n",
    "\n",
    "    for base_exception in exception_class.__bases__:\n",
    "        print_exception_hierarchy(base_exception, indent + 2)\n",
    "\n",
    "# Start with the base Exception class\n",
    "print(\"Python Exception Hierarchy:\")\n",
    "print_exception_hierarchy(Exception)\n"
   ]
  },
  {
   "cell_type": "markdown",
   "id": "2400493c-51c8-47bf-8602-1e7b2f3b956c",
   "metadata": {},
   "source": [
    "This program defines a recursive function print_exception_hierarchy that takes an exception class and an optional indent parameter to format the output. It starts with the Exception class and iterates through the __bases__ attribute to print the exception hierarchy in a nested format.\n",
    "\n",
    "When you run this program, it will print the Python exception hierarchy, showing how different exception classes are related to one another."
   ]
  },
  {
   "cell_type": "markdown",
   "id": "bd16c11e-90fc-45e2-ade9-128a6689aa1e",
   "metadata": {},
   "source": [
    "Q3. What errors are defined in the ArithmeticError class? Explain any two with an example."
   ]
  },
  {
   "cell_type": "code",
   "execution_count": 11,
   "id": "403fba0a-2b4f-43e6-9d2b-a30ad00553cd",
   "metadata": {},
   "outputs": [
    {
     "name": "stdout",
     "output_type": "stream",
     "text": [
      "division by zero\n"
     ]
    }
   ],
   "source": [
    "try:\n",
    "    a = 5/0\n",
    "    print(a)\n",
    "    print(\"sdf\")\n",
    "except Exception as e:\n",
    "    print(e)\n",
    "    # this is a arithmeticalError class example show that zero division error"
   ]
  },
  {
   "cell_type": "code",
   "execution_count": null,
   "id": "33cd9969-c3d2-4edb-9900-c37f3972f4f9",
   "metadata": {},
   "outputs": [],
   "source": [
    "\n"
   ]
  },
  {
   "cell_type": "markdown",
   "id": "dd13812a-9422-47b7-b90f-53d175cacf8f",
   "metadata": {},
   "source": [
    "Q4. Why LookupError class is used? Explain with an example KeyError and IndexError."
   ]
  },
  {
   "cell_type": "code",
   "execution_count": 29,
   "id": "824b27c9-2def-4858-8b16-22aaaddd09d5",
   "metadata": {},
   "outputs": [
    {
     "name": "stdout",
     "output_type": "stream",
     "text": [
      "Error: 'grape'\n"
     ]
    }
   ],
   "source": [
    "# This exception is raised when you try to access a dictionary key that does not exist.\n",
    "\n",
    "dic = {'apple': 5, 'banana': 3, 'cherry': 8}\n",
    "\n",
    "try:\n",
    "    value = dic['grape']  # Attempt to access a non-existent key\n",
    "except KeyError as e:\n",
    "    print(f\"Error: {e}\")\n",
    "\n"
   ]
  },
  {
   "cell_type": "code",
   "execution_count": 33,
   "id": "c5c8dbfe-2df9-4290-91b9-620b59de188c",
   "metadata": {},
   "outputs": [
    {
     "name": "stdout",
     "output_type": "stream",
     "text": [
      "Error : list index out of range\n"
     ]
    }
   ],
   "source": [
    "# IndexError: This exception is raised when you try to access an index that is out of range in a sequence (such as a list or tuple).\n",
    "list_no = [1,2,3,4,5,6,7,8,9]\n",
    "\n",
    "try:\n",
    "    list = list_no[10]  # Attempt to access an out-of-range index\n",
    "except IndexError as  e:\n",
    "    print(f\"Error : {e}\")"
   ]
  },
  {
   "cell_type": "markdown",
   "id": "f696b6cf-7d1a-4ff4-9a75-cc5a9310dd53",
   "metadata": {},
   "source": [
    "Both KeyError and IndexError are derived from the LookupError class, which is used to handle errors related to looking up values in sequences (like lists, tuples, and strings) and mappings (like dictionaries). By catching these exceptions, you can gracefully handle situations where you attempt to access nonexistent keys or out-of-range indices, preventing your program from crashing and allowing you to provide appropriate error handling or messages to the user."
   ]
  },
  {
   "cell_type": "code",
   "execution_count": 37,
   "id": "449644b1-8946-419c-9d2a-95b00e234882",
   "metadata": {},
   "outputs": [
    {
     "name": "stdout",
     "output_type": "stream",
     "text": [
      "Error: 'mango'\n"
     ]
    }
   ],
   "source": [
    "set_of_fruits = {'apple': 45 , 'orage': 60 , 'banana':  80}\n",
    "set_of_nuber = [1,2,3,4,56,74,3,2]\n",
    "try:\n",
    "    value_1 = set_of_fruits['mango']\n",
    "    numebr = set_of_nuber[10]\n",
    "except LookupError as e :\n",
    "    print(f\"Error: {e}\")"
   ]
  },
  {
   "cell_type": "markdown",
   "id": "e129d77b-8bb7-4c30-b00f-7b0fe5c0ff88",
   "metadata": {},
   "source": [
    "Q5. Explain ImportError. What is ModuleNotFoundError?"
   ]
  },
  {
   "cell_type": "code",
   "execution_count": 41,
   "id": "e737d769-7c15-4b89-9ed9-969fd9ee7815",
   "metadata": {},
   "outputs": [
    {
     "name": "stdout",
     "output_type": "stream",
     "text": [
      "Import error: No module named 'pygame'\n"
     ]
    }
   ],
   "source": [
    "# ImportError and ModuleNotFoundError are both exceptions in Python that are raised when there are issues with importing modules or packages. However, they serve slightly different purposes and are related to different aspects of module imports:\n",
    "\n",
    "try:\n",
    "    import pygame  # Attempt to import a non-existent module\n",
    "except ImportError as e:\n",
    "    print(f\"Import error: {e}\")\n"
   ]
  },
  {
   "cell_type": "markdown",
   "id": "6c99bd81-3f6e-4f8d-b31c-597ede440d77",
   "metadata": {},
   "source": [
    "ModuleNotFoundError is a specific subclass of ImportError that is introduced in Python 3.6 and later versions.\n",
    "It is raised when Python cannot find the module specified in the import statement. This exception provides a more informative error message explicitly stating that the module was not found.\n",
    "ModuleNotFoundError is especially useful for identifying cases where a module you are trying to import simply does not exist on your system or is not in a location where Python can locate it."
   ]
  },
  {
   "cell_type": "code",
   "execution_count": 42,
   "id": "15c282b0-4d1c-46aa-adaa-8f27a682e7c9",
   "metadata": {},
   "outputs": [
    {
     "name": "stdout",
     "output_type": "stream",
     "text": [
      "Module not found: No module named 'non_existent_module'\n"
     ]
    }
   ],
   "source": [
    "try:\n",
    "    import non_existent_module # Attempt to import a non-existent module\n",
    "except ModuleNotFoundError as e:\n",
    "    print(f\"Module not found: {e}\")\n"
   ]
  },
  {
   "cell_type": "markdown",
   "id": "274deb82-c501-4475-ac85-3a847956e912",
   "metadata": {},
   "source": [
    "In summary, while both ImportError and ModuleNotFoundError are related to issues with importing modules, ModuleNotFoundError is a more specific exception that is raised when the specified module is not found, providing a clearer error message. ImportError is a more general exception that can cover a broader range of import-related problems. In Python 3.6 and later versions, ModuleNotFoundError is preferred for handling cases where a module is missing or cannot be located."
   ]
  },
  {
   "cell_type": "markdown",
   "id": "cc4229de-97d2-45ed-b12f-e0f1c4cb18b0",
   "metadata": {},
   "source": [
    "Q6. List down some best practices for exception handling in python."
   ]
  },
  {
   "cell_type": "markdown",
   "id": "b791431e-4e81-45d5-9d33-50068a6112d5",
   "metadata": {},
   "source": [
    "1. Use Specific Exception Types\n",
    "\n",
    "2.Avoid Bare `except` Clauses\n",
    "\n",
    "3.Use `finally` for `Cleanup`\n",
    "\n",
    "4.Provide Descriptive Error Messages\n",
    "\n",
    "5.Avoid Excessive Nesting\n",
    "\n",
    "6.Handle Expected Exceptions\n",
    "\n",
    "7.Avoid Silent Failures\n",
    "\n",
    "8.Use Context Managers\n",
    "\n",
    "9.Reraise Exceptions Sparingly\n",
    "\n",
    "10.Handle KeyboardInterrupt"
   ]
  },
  {
   "cell_type": "markdown",
   "id": "645eaab5-d89c-4c55-a295-bfae65081555",
   "metadata": {},
   "source": []
  }
 ],
 "metadata": {
  "kernelspec": {
   "display_name": "Python 3 (ipykernel)",
   "language": "python",
   "name": "python3"
  },
  "language_info": {
   "codemirror_mode": {
    "name": "ipython",
    "version": 3
   },
   "file_extension": ".py",
   "mimetype": "text/x-python",
   "name": "python",
   "nbconvert_exporter": "python",
   "pygments_lexer": "ipython3",
   "version": "3.10.8"
  }
 },
 "nbformat": 4,
 "nbformat_minor": 5
}
