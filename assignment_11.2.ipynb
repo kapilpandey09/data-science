{
 "cells": [
  {
   "cell_type": "markdown",
   "id": "0a25f3b1-1de1-42d7-90dc-06d2d34212b1",
   "metadata": {},
   "source": [
    "## Q1: What are the Probability Mass Function (PMF) and Probability Density Function (PDF)? Explain with an example."
   ]
  },
  {
   "cell_type": "raw",
   "id": "894521b1-683a-48f4-b03b-65bd5a6fb007",
   "metadata": {},
   "source": [
    "Probability Mass Function (PMF) and Probability Density Function (PDF) are mathematical concepts used to describe the probability distribution of a discrete random variable and a continuous random variable, respectively.\n",
    "\n",
    "Probability Mass Function (PMF):\n",
    "\n",
    "PMF is used for discrete random variables, which can take on specific, separate values.\n",
    "It assigns a probability to each possible value that the random variable can take.\n",
    "The PMF is defined as P(X = x), where X is the random variable, and x is a specific value that X can take.\n",
    "The sum of all probabilities in the PMF should equal 1.\n",
    "Example:\n",
    "Let's consider the random variable X representing the outcome of rolling a fair six-sided die. The PMF for X is as follows:\n",
    "\n",
    "P(X = 1) = 1/6\n",
    "P(X = 2) = 1/6\n",
    "P(X = 3) = 1/6\n",
    "P(X = 4) = 1/6\n",
    "P(X = 5) = 1/6\n",
    "P(X = 6) = 1/6\n",
    "\n",
    "In this example, the PMF assigns equal probabilities of 1/6 to each of the six possible outcomes (1, 2, 3, 4, 5, 6) when rolling the die."
   ]
  },
  {
   "cell_type": "raw",
   "id": "93adb29f-2038-4c8c-8104-915733c7c747",
   "metadata": {},
   "source": [
    "Probability Density Function (PDF):\n",
    "\n",
    "PDF is used for continuous random variables, which can take on a range of values within an interval.\n",
    "It represents the probability that a continuous random variable falls within a specific interval.\n",
    "Unlike the PMF, the PDF does not assign probabilities to specific values but rather describes the likelihood of the variable being in a given range.\n",
    "The area under the PDF curve over a specific interval represents the probability of the random variable falling within that interval.\n",
    "Example:\n",
    "Consider a continuous random variable X that represents the height of individuals in a population. The PDF for X might be described by a normal distribution curve, which is often used to model height data. The PDF for this variable might look like a bell-shaped curve, where the x-axis represents height values, and the y-axis represents the likelihood of observing individuals with those heights.\n",
    "\n",
    "The probability of an individual having a height between 160 cm and 170 cm can be calculated by finding the area under the curve between those two points. In this case, the PDF provides a smooth probability distribution for height values rather than assigning probabilities to specific heights."
   ]
  },
  {
   "cell_type": "markdown",
   "id": "d6b57036-2025-432a-a543-a07cbb1d96bb",
   "metadata": {},
   "source": [
    "### Q2: What is Cumulative Density Function (CDF)? Explain with an example. Why CDF is used?"
   ]
  },
  {
   "cell_type": "raw",
   "id": "36d59f50-6566-4f4d-981f-4709a3edc17d",
   "metadata": {},
   "source": [
    "The cumulative distribution function (CDF) of a random variable is a function that gives the probability that the random variable will be less than or equal to a certain value. It is denoted by F(x).\n",
    "\n",
    "x | F(x)\n",
    "1   0.01\n",
    "2   0.02\n",
    "3   0.23\n",
    "4   0.45\n",
    "5   0.95\n",
    "6    1"
   ]
  },
  {
   "cell_type": "markdown",
   "id": "5daab499-799e-46ab-876b-31400784d598",
   "metadata": {},
   "source": [
    "### Q3: What are some examples of situations where the normal distribution might be used as a model? Explain how the parameters of the normal distribution relate to the shape of the distribution."
   ]
  },
  {
   "cell_type": "raw",
   "id": "507c93a1-19b2-4101-bd58-2f6c448bc052",
   "metadata": {},
   "source": [
    "The normal distribution know as gaussian distribution is a bell curve is a fundamentail distrubution property.\n",
    "The normal distribution is a very versatile model that can be used to represent a wide variety of phenomena. Some examples of situations where the normal distribution might be used as a model include:\n",
    "\n",
    "\n",
    "Heights of a Population:\n",
    "        Example: The heights of individuals in a population often follow a normal distribution. The mean height (μ) represents the average height, while the standard deviation (σ) measures the spread or variability in heights. A higher σ indicates a broader range of heights."
   ]
  },
  {
   "cell_type": "markdown",
   "id": "31c7c866-5958-48d0-91ea-46361029be50",
   "metadata": {},
   "source": [
    "### Q4: Explain the importance of Normal Distribution. Give a few real-life examples of Normal Distribution."
   ]
  },
  {
   "cell_type": "raw",
   "id": "7d1ea5d7-be8a-4c73-90f1-dd86725654e2",
   "metadata": {},
   "source": [
    "The normal distribution is important because it is a very versatile model that can be used to represent a wide variety of phenomena. It is also a very well-studied distribution, which means that we have a lot of mathematical tools and techniques that we can use to work with it.\n",
    "\n",
    "It is a good model for many natural phenomena. Many natural phenomena, such as height, weight, and IQ scores, are approximately normally distributed. This means that we can use the normal distribution to model these phenomena and make predictions about them.\n",
    "\n",
    "Height of Individuals: The heights of people in a population tend to follow a normal distribution. This is used in fields like healthcare, clothing manufacturing, and ergonomic design.\n",
    "\n",
    "Weight: The weights of adults are also approximately normally distributed, with the same general pattern as heights.\n",
    "\n",
    "IQ scores: IQ scores are normally distributed, with most people having average IQ scores and fewer people \n",
    "having very high or very low IQ scores.\n",
    "\n",
    "Test scores: Test scores, such as SAT scores and GRE scores, are also often normally distributed."
   ]
  },
  {
   "cell_type": "markdown",
   "id": "5fc30584-fe66-4c73-b13a-ce3905c40ed6",
   "metadata": {},
   "source": [
    "### Q5: What is Bernaulli Distribution? Give an Example. What is the difference between Bernoulli Distribution and Binomial Distribution?"
   ]
  },
  {
   "cell_type": "raw",
   "id": "6ab06adf-f5f1-4f45-a7db-e5c00becb503",
   "metadata": {},
   "source": [
    "in probility theory distribution name after swisss mathematices jacob bernoulli is the discreate probalitiy distribution of a random variable which takes the value wit probability pand the value o with probability q = p-1 lessformally it can be thought of as a model for the set of possible outcomes  of any single experiment that asks a yes no question.\n",
    "\n",
    "Example :\n",
    "suppose that a flip coin. There a two possible outcomes head and tails We can model this event with a Bernoulli distribution\n",
    "with p = 0.5 which is the probability of getting heads and 1-0.5 = 0.5 this is probility of getting tails"
   ]
  },
  {
   "cell_type": "raw",
   "id": "1e9e0a32-9ef8-47b4-ae41-00cae0a8b203",
   "metadata": {},
   "source": [
    "difference bernolli distribution and binomial distribution\n",
    "binomial distrbution is a no of trial of flipping coin  and who was suusessive of each trial.\n",
    "\n",
    "Example:\n",
    "   Suppose we flip a coin 5 times. We can model this event with a binomial distribution with n=5 and p=0.5. The probability of getting exactly 3 heads in 5 flips is then given by the binomial distribution.\n",
    "   \n",
    "   \n",
    "The main difference between the Bernoulli and binomial distributions is that the Bernoulli distribution models the probability of a success or failure in a single trial, while the binomial distribution models the probability of getting a certain number of successes in a fixed number of independent trials."
   ]
  },
  {
   "cell_type": "markdown",
   "id": "40414d4b-bbc6-4f65-b8ae-7db99875db7c",
   "metadata": {},
   "source": [
    "### Q6. Consider a dataset with a mean of 50 and a standard deviation of 10. If we assume that the dataset is normally distributed, what is the probability that a randomly selected observation will be greater than 60? Use the appropriate formula and show your calculations."
   ]
  },
  {
   "cell_type": "raw",
   "id": "978194fe-57fb-43be-9a2a-e5f35e8dfc4e",
   "metadata": {},
   "source": [
    "mean = 50\n",
    "std = 10\n",
    "\n",
    "z-score =  (variable-mean)/std\n",
    "z-score = (60-10)/10 = 1\n",
    "\n",
    "We can then use the z-score to find the probability that the observation will be less than or equal to 60 using the CDF table. The CDF table shows that the probability of a standard normal variable being less than or equal to 1 is 0.8413.\n",
    "p(X>60) = 1 - 0.8413\n",
    "p(X>60) = 0.1587\n",
    "p(X>60) probability is 15.87 % of randomly selected "
   ]
  },
  {
   "cell_type": "markdown",
   "id": "8197562e-96c3-4353-a52c-301c12a8030f",
   "metadata": {},
   "source": [
    "### Q7: Explain uniform Distribution with an example."
   ]
  },
  {
   "cell_type": "raw",
   "id": "ec013f45-a8cb-4a27-bc95-a8597fee1196",
   "metadata": {},
   "source": [
    "Uniform Distribution:\n",
    "\n",
    "A uniform distribution is a type of probability distribution in which all outcomes are equally likely. This means that each outcome has the same probability of occurring. Uniform distributions are often used to model situations where there is no prior knowledge about which outcome is more likely.\n",
    "\n",
    "Example:\n",
    "\n",
    "Suppose you flip a coin. The two possible outcomes are heads and tails. Since there is no prior knowledge about which outcome is more likely, we can assume that the coin flip follows a uniform distribution. This means that both heads and tails have the same probability of occurring, which is 0.5."
   ]
  },
  {
   "cell_type": "markdown",
   "id": "9bfa8df9-8e56-413f-a6ff-092f693aafd3",
   "metadata": {},
   "source": [
    "### Q8: What is the z score? State the importance of the z score."
   ]
  },
  {
   "cell_type": "raw",
   "id": "be50747f-241c-4dec-8dd3-33a1a75ed454",
   "metadata": {},
   "source": [
    "The z-score, also known as the standard score, is a statistical measure that quantifies how far a data point is from the mean of a dataset in terms of standard deviations. It is calculated using the formula:\n",
    "\n",
    "z-score =  (value-mean)/std\n",
    "\n",
    "X is the individual data point,\n",
    "\n",
    "μ is the mean of the dataset,\n",
    "\n",
    "σ is the standard deviation of the dataset.\n",
    "\n",
    "\n",
    "Importance of Z-Score:\n",
    "\n",
    "Standardization and Comparison: Z-scores allow for the standardization of different datasets, making it easier to compare values from different distributions. This is particularly useful in various fields, including statistics, finance, and quality control.\n",
    "\n",
    "Identifying Outliers: Z-scores help in identifying outliers in a dataset. Data points with extreme z-scores (far from zero) may be considered outliers, suggesting unusual or potentially significant observations.\n",
    "\n",
    "Probability Calculation: Z-scores are used in calculating probabilities in a standard normal distribution. By converting values to z-scores, one can determine the probability of obtaining a value within a certain range or above/below a specific threshold.\n",
    "\n",
    "Data Transformation: Z-scores are often used to transform variables, making them more amenable to analysis. This transformation can simplify the interpretation of data and make it more suitable for certain statistical techniques.\n",
    "\n",
    "Quality Control: In industries like manufacturing, z-scores are used in quality control to assess whether a process is operating within acceptable limits. Deviations beyond a certain number of standard deviations may indicate a problem in the process.\n",
    "\n",
    "Hypothesis Testing: Z-scores play a crucial role in hypothesis testing, helping researchers determine the statistical significance of their findings."
   ]
  },
  {
   "cell_type": "markdown",
   "id": "f16966f2-bd56-457c-9402-3b5ce849ba1d",
   "metadata": {},
   "source": [
    "## Q9: What is Central Limit Theorem? State the significance of the Central Limit Theorem."
   ]
  },
  {
   "cell_type": "raw",
   "id": "ce1e5e8b-f0cd-4410-976c-40c5394dfa17",
   "metadata": {},
   "source": [
    "Central Limit Theorem (CLT)\n",
    "\n",
    "The central limit theorem (CLT) is a theorem in probability theory that states that, under certain conditions, the distribution of the sample mean of a sufficiently large number of independent and identically distributed (i.i.d.) random variables will be approximately normally distributed, regardless of the distribution of the individual random variables.\n",
    "\n",
    "Formula:\n",
    "μ_x̄ = μ\n",
    "σ_x̄ = σ / √n\n",
    "\n",
    "Significance of the Central Limit Theorem\n",
    "\n",
    "The CLT is significant because it allows us to use the normal distribution to approximate the distribution of the sample mean of a sufficiently large number of i.i.d. random variables, regardless of the distribution of the individual random variables. This is useful because the normal distribution is well-studied and has many desirable properties."
   ]
  },
  {
   "cell_type": "markdown",
   "id": "e47e0aac-7ec2-4d83-b92c-4dba2746603b",
   "metadata": {},
   "source": [
    "### Q10: State the assumptions of the Central Limit Theorem."
   ]
  },
  {
   "cell_type": "raw",
   "id": "8340a6af-df48-47b8-92c6-5f79d018c772",
   "metadata": {},
   "source": [
    "The central limit theorem (CLT) has the following assumptions:\n",
    "\n",
    "Independence: The random variables must be independent of each other.\n",
    "Identical distribution: The random variables must be identically distributed, meaning that they come from the same population and have the same distribution.\n",
    "Sample size: The sample size must be sufficiently large. The exact sample size required depends on the distribution of the individual random variables, but it is generally recommended that the sample size be at least 30.\n",
    "If these assumptions are met, then the distribution of the sample mean will be approximately normally distributed, regardless of the distribution of the individual random variables.\n",
    "\n",
    "Here are some examples of situations where the CLT can be applied:\n",
    "\n",
    "Estimating the average height of all adults in the United States.\n",
    "Estimating the average price of a house in a certain city.\n",
    "Estimating the average number of customers who visit a store each day.\n",
    "In each of these cases, we can collect a sample of data and use the CLT to calculate a confidence interval for the population mean.\n",
    "\n",
    "It is important to note that the CLT is only an approximation. If the sample size is small or if the distribution of the individual random variables is highly skewed, then the distribution of the sample mean may not be very close to the normal distribution. However, the CLT is still a useful tool for many statistical applications."
   ]
  }
 ],
 "metadata": {
  "kernelspec": {
   "display_name": "Python 3 (ipykernel)",
   "language": "python",
   "name": "python3"
  },
  "language_info": {
   "codemirror_mode": {
    "name": "ipython",
    "version": 3
   },
   "file_extension": ".py",
   "mimetype": "text/x-python",
   "name": "python",
   "nbconvert_exporter": "python",
   "pygments_lexer": "ipython3",
   "version": "3.10.8"
  }
 },
 "nbformat": 4,
 "nbformat_minor": 5
}
