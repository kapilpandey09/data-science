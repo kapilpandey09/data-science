{
 "cells": [
  {
   "cell_type": "markdown",
   "id": "5f0ce986-c9f8-436b-b1e8-a1e3c8bb9435",
   "metadata": {},
   "source": [
    "Q1. Which keyword is used to create a function? Create a function to return a list of odd numbers in the\n",
    "range of 1 to 25."
   ]
  },
  {
   "cell_type": "code",
   "execution_count": 10,
   "id": "afa7b242-4b9e-43db-9094-d547b8361507",
   "metadata": {},
   "outputs": [
    {
     "data": {
      "text/plain": [
       "[1, 3, 5, 7, 9, 11, 13, 15, 17, 19, 21, 23, 25]"
      ]
     },
     "execution_count": 10,
     "metadata": {},
     "output_type": "execute_result"
    }
   ],
   "source": [
    "l1 = []\n",
    "def odd_fun():\n",
    "    for i in range(26):\n",
    "        if i%2 !=0:\n",
    "            l1.append(i)      \n",
    "    return l1\n",
    "odd_fun()\n",
    "        \n",
    "    "
   ]
  },
  {
   "cell_type": "markdown",
   "id": "5b734adc-26f7-483a-acf3-2d67c1c85551",
   "metadata": {},
   "source": [
    "Q2. Why *args and **kwargs is used in some functions? Create a function each for *args and **kwargs\n",
    "to demonstrate their use."
   ]
  },
  {
   "cell_type": "raw",
   "id": "8b50294d-fdc0-49d9-8b94-1681b7bf0b37",
   "metadata": {},
   "source": [
    "Answer\n",
    "*args (Arbitrary Arguments):\n",
    "The *args syntax allows a function to accept any number of positional arguments. These arguments are collected into a tuple, which can then be accessed within the function"
   ]
  },
  {
   "cell_type": "code",
   "execution_count": 1,
   "id": "e241825e-ac3f-4778-9a43-ae0577434517",
   "metadata": {},
   "outputs": [],
   "source": [
    "def argsfun(*args):\n",
    "    return args"
   ]
  },
  {
   "cell_type": "code",
   "execution_count": 2,
   "id": "e634f9a0-33cd-4396-9f06-9f6ef5412f35",
   "metadata": {},
   "outputs": [
    {
     "data": {
      "text/plain": [
       "(1, 2, 4, 6, 6, 78, 'kapil', 'data', 'science')"
      ]
     },
     "execution_count": 2,
     "metadata": {},
     "output_type": "execute_result"
    }
   ],
   "source": [
    "argsfun(1,2,4,6,6,78,\"kapil\", \"data\",\"science\")"
   ]
  },
  {
   "cell_type": "raw",
   "id": "a42300df-2f47-4828-b4e1-3e0019c60862",
   "metadata": {},
   "source": [
    "**kwargs (keyword argument)\n",
    "The **kwargs syntax allows a function to accept any number of keyword arguments (i.e., named arguments). These arguments are collected into a dictionary, which can then be accessed within the function."
   ]
  },
  {
   "cell_type": "code",
   "execution_count": 4,
   "id": "6c450c4e-eae5-4445-8786-786da1575be2",
   "metadata": {},
   "outputs": [],
   "source": [
    "def dict(**kwargs):\n",
    "    return kwargs"
   ]
  },
  {
   "cell_type": "code",
   "execution_count": 8,
   "id": "439f8859-c29f-4107-8530-67c53025d3b9",
   "metadata": {},
   "outputs": [
    {
     "data": {
      "text/plain": [
       "{'a': 'kapil', 'b': 45, 'c': 'data', 'd_1': '54'}"
      ]
     },
     "execution_count": 8,
     "metadata": {},
     "output_type": "execute_result"
    }
   ],
   "source": [
    "dict(a = \"kapil\", b = 45, c = \"data\", d_1='54')"
   ]
  },
  {
   "cell_type": "code",
   "execution_count": 9,
   "id": "ca252629-ab67-4200-b4ef-8e13b20ec8c3",
   "metadata": {},
   "outputs": [
    {
     "ename": "TypeError",
     "evalue": "dict() takes 0 positional arguments but 6 were given",
     "output_type": "error",
     "traceback": [
      "\u001b[0;31m---------------------------------------------------------------------------\u001b[0m",
      "\u001b[0;31mTypeError\u001b[0m                                 Traceback (most recent call last)",
      "Cell \u001b[0;32mIn[9], line 1\u001b[0m\n\u001b[0;32m----> 1\u001b[0m \u001b[38;5;28;43mdict\u001b[39;49m\u001b[43m(\u001b[49m\u001b[38;5;241;43m1\u001b[39;49m\u001b[43m,\u001b[49m\u001b[38;5;241;43m2\u001b[39;49m\u001b[43m,\u001b[49m\u001b[38;5;241;43m3\u001b[39;49m\u001b[43m,\u001b[49m\u001b[38;5;241;43m45\u001b[39;49m\u001b[43m,\u001b[49m\u001b[38;5;241;43m6\u001b[39;49m\u001b[43m,\u001b[49m\u001b[38;5;241;43m7\u001b[39;49m\u001b[43m)\u001b[49m\n",
      "\u001b[0;31mTypeError\u001b[0m: dict() takes 0 positional arguments but 6 were given"
     ]
    }
   ],
   "source": [
    "dict(1,2,3,45,6,7)"
   ]
  },
  {
   "cell_type": "markdown",
   "id": "522449da-f4b6-4155-a21b-82125933365b",
   "metadata": {},
   "source": [
    "Q3. What is an iterator in python? Name the method used to initialise the iterator object and the method\n",
    "used for iteration. Use these methods to print the first five elements of the given list [2, 4, 6, 8, 10, 12, 14,\n",
    "16, 18, 20]."
   ]
  },
  {
   "cell_type": "raw",
   "id": "85b21760-c7e6-44c5-9a2b-81f7174ed41a",
   "metadata": {},
   "source": [
    "Answer: Iterator is an object that implements two methods: __iter__() and __next__(). Iterators are used to loop through elements of a collection (like a list) or to generate values on the fly, without having to store them all in memory.\n",
    "and This used some string to change iterator used this funcion \"__iter__\""
   ]
  },
  {
   "cell_type": "code",
   "execution_count": 15,
   "id": "3156e0f2-c471-4181-9879-613e48e5b9ab",
   "metadata": {},
   "outputs": [
    {
     "name": "stdout",
     "output_type": "stream",
     "text": [
      "2\n",
      "4\n",
      "6\n",
      "8\n",
      "10\n"
     ]
    }
   ],
   "source": [
    "list = [2, 4, 6, 8, 10, 12, 14, 16, 18, 20]\n",
    "\n",
    "iterator = iter(my_list)\n",
    "\n",
    "for i in range(5):  \n",
    "    element = next(iterator)\n",
    "    print(element)"
   ]
  },
  {
   "cell_type": "markdown",
   "id": "59e9ade7-0bbc-456d-aeaf-0ac655dda144",
   "metadata": {},
   "source": [
    "Q4. What is a generator function in python? Why yield keyword is used? Give an example of a generator\n",
    "function."
   ]
  },
  {
   "cell_type": "raw",
   "id": "7d73bbd6-5422-4e7c-913d-23c377010c6f",
   "metadata": {},
   "source": [
    "Answer: genertor function is  a no data store like list genertor functiongenerate the data an dused generate data yield function is a called a value who assign the value "
   ]
  },
  {
   "cell_type": "code",
   "execution_count": 4,
   "id": "4c9a3490-deb0-4ec6-a32f-a7f7344d3440",
   "metadata": {},
   "outputs": [],
   "source": [
    "def func(n):\n",
    "    a,b, = 2,5\n",
    "    for i in range(n):\n",
    "        yield a \n",
    "        a,b=  b*2, a+b\n",
    "        \n",
    "    "
   ]
  },
  {
   "cell_type": "code",
   "execution_count": 8,
   "id": "8dca497e-7f51-421c-b4a8-abf49e04c8ec",
   "metadata": {},
   "outputs": [
    {
     "name": "stdout",
     "output_type": "stream",
     "text": [
      "2\n",
      "10\n",
      "14\n",
      "34\n",
      "62\n",
      "130\n",
      "254\n",
      "514\n",
      "1022\n"
     ]
    }
   ],
   "source": [
    "for i in func(9):\n",
    "    print(i) # this is a genrate function"
   ]
  },
  {
   "cell_type": "code",
   "execution_count": 11,
   "id": "4347eb2a-52ec-40e8-aea2-1b724f14a913",
   "metadata": {},
   "outputs": [
    {
     "data": {
      "text/plain": [
       "generator"
      ]
     },
     "execution_count": 11,
     "metadata": {},
     "output_type": "execute_result"
    }
   ],
   "source": [
    "type(func(435))\n"
   ]
  },
  {
   "cell_type": "markdown",
   "id": "f2a60ea1-d102-4515-933b-76d4b1f7c862",
   "metadata": {},
   "source": [
    "Q5. Create a generator function for prime numbers less than 1000. Use the next() method to print the\n",
    "first 20 prime numbers."
   ]
  },
  {
   "cell_type": "markdown",
   "id": "fae9a1c1-d30c-45e7-b53e-abbac0054150",
   "metadata": {},
   "source": [
    "Answer:"
   ]
  },
  {
   "cell_type": "code",
   "execution_count": 4,
   "id": "d4fb7bf6-a98a-49c1-8131-ca8d5c4dad57",
   "metadata": {},
   "outputs": [
    {
     "name": "stdout",
     "output_type": "stream",
     "text": [
      "2\n",
      "3\n",
      "5\n",
      "7\n",
      "11\n",
      "13\n",
      "17\n",
      "19\n",
      "23\n",
      "29\n",
      "31\n",
      "37\n",
      "41\n",
      "43\n",
      "47\n",
      "53\n",
      "59\n",
      "61\n",
      "67\n",
      "71\n"
     ]
    }
   ],
   "source": [
    "from sympy import primerange\n",
    "\n",
    "# Generating the first 20 prime numbers less than 1000\n",
    "prime_numbers = list(primerange(0, 1000))[:20]\n",
    "\n",
    "for prime in prime_numbers:\n",
    "    print(prime)\n",
    "            "
   ]
  },
  {
   "cell_type": "markdown",
   "id": "08c169f8-a0bc-4e65-8206-01dacf39f4af",
   "metadata": {},
   "source": [
    "Q6. Write a python program to print the first 10 Fibonacci numbers using a while loop."
   ]
  },
  {
   "cell_type": "raw",
   "id": "5c1c8846-7262-4003-97f2-4b8e160c3b2f",
   "metadata": {},
   "source": [
    "Answer:"
   ]
  },
  {
   "cell_type": "code",
   "execution_count": 3,
   "id": "04232e8f-df37-438a-9de4-4e8f1e7db544",
   "metadata": {},
   "outputs": [
    {
     "name": "stdout",
     "output_type": "stream",
     "text": [
      "0\n",
      "1\n",
      "1\n",
      "2\n",
      "3\n",
      "5\n",
      "8\n",
      "13\n",
      "21\n",
      "34\n"
     ]
    }
   ],
   "source": [
    "a, b = 0, 1\n",
    "num = 0\n",
    "\n",
    "while num < 10:\n",
    "    print(a)\n",
    "    a, b = b, a + b\n",
    "    num += 1\n"
   ]
  },
  {
   "cell_type": "markdown",
   "id": "78bd2a8d-88d3-4e9f-853b-baeffadbcc34",
   "metadata": {},
   "source": [
    "Q7. Write a List Comprehension to iterate through the given string: ‘pwskills’.\n",
    "Expected output: ['p', 'w', 's', 'k', 'i', 'l', 'l', 's']"
   ]
  },
  {
   "cell_type": "raw",
   "id": "74dc5ad9-7399-41b6-89b3-c4ef1daf909b",
   "metadata": {},
   "source": [
    "Answer:"
   ]
  },
  {
   "cell_type": "code",
   "execution_count": 1,
   "id": "fda356b3-854f-4fe1-8f4d-9a6bdacd6ab7",
   "metadata": {},
   "outputs": [
    {
     "name": "stdout",
     "output_type": "stream",
     "text": [
      "['p', 'w', 's', 'k', 'i', 'l', 'l', 's']\n"
     ]
    }
   ],
   "source": [
    "pw_str = 'pwskills'\n",
    "pw_list = []\n",
    "for i in pw_str:\n",
    "    pw_list.append(i)\n",
    "    \n",
    "print(pw_list)\n",
    "    "
   ]
  },
  {
   "cell_type": "markdown",
   "id": "5ec5f9ce-b99d-40ee-a8ed-373e1d7141bb",
   "metadata": {},
   "source": [
    "Q8. Write a python program to check whether a given number is Palindrome or not using a while loop."
   ]
  },
  {
   "cell_type": "raw",
   "id": "83b151a8-94ee-40e9-9951-4539df65f065",
   "metadata": {},
   "source": [
    "Answer:"
   ]
  },
  {
   "cell_type": "code",
   "execution_count": 9,
   "id": "4f95a8d4-4606-4ece-9c84-e4cc37bedfe7",
   "metadata": {},
   "outputs": [
    {
     "name": "stdin",
     "output_type": "stream",
     "text": [
      "enter a number 121\n"
     ]
    },
    {
     "name": "stdout",
     "output_type": "stream",
     "text": [
      "121 is a palindrome\n"
     ]
    }
   ],
   "source": [
    "def palindrome(number):\n",
    "    orignal_num = str(number)\n",
    "    reverse_num = orignal_num[::-1]\n",
    "    return orignal_num == reverse_num\n",
    "num_input = int(input(\"enter a number\"))\n",
    "if palindrome(num_input):\n",
    "    print(f\"{num_input} is a palindrome\")\n",
    "else:\n",
    "    print(f\"{num_input} is not palindrome\")\n",
    "    \n",
    "    "
   ]
  },
  {
   "cell_type": "markdown",
   "id": "814ce3ea-6040-4120-a0f0-92c6839904b6",
   "metadata": {},
   "source": [
    "Q9. Write a code to print odd numbers from 1 to 100 using list comprehension."
   ]
  },
  {
   "cell_type": "raw",
   "id": "8ad97012-db13-4b27-a2f3-9dc1af8d67e4",
   "metadata": {},
   "source": [
    "Answer:"
   ]
  },
  {
   "cell_type": "code",
   "execution_count": 18,
   "id": "06a83939-6d9b-437f-8098-213e5873e1d1",
   "metadata": {},
   "outputs": [
    {
     "name": "stdout",
     "output_type": "stream",
     "text": [
      "[1, 3, 5, 7, 9, 11, 13, 15, 17, 19, 21, 23, 25, 27, 29, 31, 33, 35, 37, 39, 41, 43, 45, 47, 49, 51, 53, 55, 57, 59, 61, 63, 65, 67, 69, 71, 73, 75, 77, 79, 81, 83, 85, 87, 89, 91, 93, 95, 97, 99]\n"
     ]
    }
   ],
   "source": [
    "odd_list = []\n",
    "for i in range(100):\n",
    "    if i % 2 != 0:\n",
    "        odd_list.append(i)\n",
    "       \n",
    "print(odd_list)\n",
    "\n",
    "    "
   ]
  },
  {
   "cell_type": "code",
   "execution_count": null,
   "id": "f72580cc-2bef-48fd-9914-b820373ebb77",
   "metadata": {},
   "outputs": [],
   "source": []
  }
 ],
 "metadata": {
  "kernelspec": {
   "display_name": "Python 3 (ipykernel)",
   "language": "python",
   "name": "python3"
  },
  "language_info": {
   "codemirror_mode": {
    "name": "ipython",
    "version": 3
   },
   "file_extension": ".py",
   "mimetype": "text/x-python",
   "name": "python",
   "nbconvert_exporter": "python",
   "pygments_lexer": "ipython3",
   "version": "3.10.8"
  }
 },
 "nbformat": 4,
 "nbformat_minor": 5
}
