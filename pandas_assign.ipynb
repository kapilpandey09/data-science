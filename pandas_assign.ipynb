{
 "cells": [
  {
   "cell_type": "code",
   "execution_count": 99,
   "id": "f34d1e8b-7242-4ee1-a481-94a04f1537fe",
   "metadata": {},
   "outputs": [],
   "source": [
    "import pandas as pd\n",
    "course_name = [\"Data Science\", \"Machine Learning\", \"Big Data\", \"Data Engineer\"]\n",
    "duration = [2,3,6,4]\n",
    "df = pd.DataFrame(data = {\"course_name\" : course_name, \"duration\" : duration})"
   ]
  },
  {
   "cell_type": "markdown",
   "id": "099a9439-f9fd-4226-ac9a-cd8bba9ed962",
   "metadata": {},
   "source": [
    "# Q1. Write a code to print the data present in the second row of the dataframe, df"
   ]
  },
  {
   "cell_type": "code",
   "execution_count": 19,
   "id": "2f69a677-e7d8-41dc-98fb-2f1bd9f1c159",
   "metadata": {},
   "outputs": [
    {
     "data": {
      "text/plain": [
       "0    2\n",
       "1    3\n",
       "2    6\n",
       "3    4\n",
       "Name: duration, dtype: int64"
      ]
     },
     "execution_count": 19,
     "metadata": {},
     "output_type": "execute_result"
    }
   ],
   "source": [
    "df[\"duration\"]"
   ]
  },
  {
   "cell_type": "markdown",
   "id": "6af0f838-a5f2-4e93-bb9c-327f083e277f",
   "metadata": {},
   "source": [
    "# Q2. What is the difference between the functions loc and iloc in pandas.DataFrame?"
   ]
  },
  {
   "cell_type": "code",
   "execution_count": 28,
   "id": "5478331a-20e6-4314-b835-f06a152a3d46",
   "metadata": {},
   "outputs": [
    {
     "data": {
      "text/html": [
       "<div>\n",
       "<style scoped>\n",
       "    .dataframe tbody tr th:only-of-type {\n",
       "        vertical-align: middle;\n",
       "    }\n",
       "\n",
       "    .dataframe tbody tr th {\n",
       "        vertical-align: top;\n",
       "    }\n",
       "\n",
       "    .dataframe thead th {\n",
       "        text-align: right;\n",
       "    }\n",
       "</style>\n",
       "<table border=\"1\" class=\"dataframe\">\n",
       "  <thead>\n",
       "    <tr style=\"text-align: right;\">\n",
       "      <th></th>\n",
       "      <th>course_name</th>\n",
       "      <th>duration</th>\n",
       "    </tr>\n",
       "  </thead>\n",
       "  <tbody>\n",
       "    <tr>\n",
       "      <th>0</th>\n",
       "      <td>Data Science</td>\n",
       "      <td>2</td>\n",
       "    </tr>\n",
       "    <tr>\n",
       "      <th>1</th>\n",
       "      <td>Machine Learning</td>\n",
       "      <td>3</td>\n",
       "    </tr>\n",
       "    <tr>\n",
       "      <th>2</th>\n",
       "      <td>Big Data</td>\n",
       "      <td>6</td>\n",
       "    </tr>\n",
       "    <tr>\n",
       "      <th>3</th>\n",
       "      <td>Data Engineer</td>\n",
       "      <td>4</td>\n",
       "    </tr>\n",
       "  </tbody>\n",
       "</table>\n",
       "</div>"
      ],
      "text/plain": [
       "        course_name  duration\n",
       "0      Data Science         2\n",
       "1  Machine Learning         3\n",
       "2          Big Data         6\n",
       "3     Data Engineer         4"
      ]
     },
     "execution_count": 28,
     "metadata": {},
     "output_type": "execute_result"
    }
   ],
   "source": [
    "df"
   ]
  },
  {
   "cell_type": "code",
   "execution_count": 29,
   "id": "de8ccf4f-c9d7-49ed-8606-60ac8083f4db",
   "metadata": {},
   "outputs": [
    {
     "data": {
      "text/plain": [
       "<pandas.core.indexing._iLocIndexer at 0x7fba6caa53f0>"
      ]
     },
     "execution_count": 29,
     "metadata": {},
     "output_type": "execute_result"
    }
   ],
   "source": [
    "df.iloc"
   ]
  },
  {
   "cell_type": "code",
   "execution_count": 30,
   "id": "e3a05bcc-58c2-4620-ab02-c5a84c68fa29",
   "metadata": {},
   "outputs": [
    {
     "data": {
      "text/plain": [
       "'Data Science'"
      ]
     },
     "execution_count": 30,
     "metadata": {},
     "output_type": "execute_result"
    }
   ],
   "source": [
    "df[\"course_name\"].values[0]"
   ]
  },
  {
   "cell_type": "code",
   "execution_count": 31,
   "id": "c6070e4a-7410-4797-8c56-769a47ab079e",
   "metadata": {},
   "outputs": [
    {
     "data": {
      "text/html": [
       "<div>\n",
       "<style scoped>\n",
       "    .dataframe tbody tr th:only-of-type {\n",
       "        vertical-align: middle;\n",
       "    }\n",
       "\n",
       "    .dataframe tbody tr th {\n",
       "        vertical-align: top;\n",
       "    }\n",
       "\n",
       "    .dataframe thead th {\n",
       "        text-align: right;\n",
       "    }\n",
       "</style>\n",
       "<table border=\"1\" class=\"dataframe\">\n",
       "  <thead>\n",
       "    <tr style=\"text-align: right;\">\n",
       "      <th></th>\n",
       "      <th>course_name</th>\n",
       "      <th>duration</th>\n",
       "    </tr>\n",
       "  </thead>\n",
       "  <tbody>\n",
       "    <tr>\n",
       "      <th>2</th>\n",
       "      <td>Big Data</td>\n",
       "      <td>6</td>\n",
       "    </tr>\n",
       "  </tbody>\n",
       "</table>\n",
       "</div>"
      ],
      "text/plain": [
       "  course_name  duration\n",
       "2    Big Data         6"
      ]
     },
     "execution_count": 31,
     "metadata": {},
     "output_type": "execute_result"
    }
   ],
   "source": [
    "df.loc[df['duration'] > 4]"
   ]
  },
  {
   "cell_type": "markdown",
   "id": "8e592240-fb36-458a-bb95-138125f014ff",
   "metadata": {},
   "source": [
    "loc is label-based and includes the stop label in slicing.\n",
    "\n",
    "iloc is integer position-based and excludes the stop position in slicing.\n",
    "\n",
    "Both methods are powerful and offer flexibility in selecting data from a DataFrame based on labels or positions."
   ]
  },
  {
   "cell_type": "markdown",
   "id": "c2530df8-27cd-46bb-9b25-c79a91552560",
   "metadata": {},
   "source": [
    "### Q3. Reindex the given dataframe using a variable, reindex = [3,0,1,2] and store it in the variable, new_df\n",
    "#### then find the output for both new_df.loc[2] and new_df.iloc[2].\n",
    "\n",
    "\n",
    "#### Did you observe any difference in both the outputs? If so then explain it.\n",
    "#### Consider the below code to answer further questions:\n",
    "#### import pandas as pd\n",
    "#### import numpy as np\n",
    "#### columns = ['column_1', 'column_2', 'column_3', 'column_4', 'column_5', 'column_6']\n",
    "#### indices = [1,2,3,4,5,6]\n",
    "#### #Creating a dataframe:\n",
    "#### df1 = pd.DataFrame(np.random.rand(6,6), columns = columns, index = indices)"
   ]
  },
  {
   "cell_type": "code",
   "execution_count": 32,
   "id": "5a17ed9c-a24a-4986-bafd-75bc23bd7608",
   "metadata": {},
   "outputs": [],
   "source": [
    "import pandas as pd\n",
    "import numpy as np\n",
    "columns = ['column_1', 'column_2', 'column_3', 'column_4', 'column_5', 'column_6']\n",
    "indices = [1,2,3,4,5,6]"
   ]
  },
  {
   "cell_type": "code",
   "execution_count": 33,
   "id": "0315e04d-b03f-4621-bcaa-1597bc92cabc",
   "metadata": {},
   "outputs": [],
   "source": [
    "df1 = pd.DataFrame(np.random.rand(6,6), columns = columns, index = indices)"
   ]
  },
  {
   "cell_type": "code",
   "execution_count": 34,
   "id": "d08b0bda-57da-42d8-90ef-210d3226b08b",
   "metadata": {},
   "outputs": [
    {
     "data": {
      "text/html": [
       "<div>\n",
       "<style scoped>\n",
       "    .dataframe tbody tr th:only-of-type {\n",
       "        vertical-align: middle;\n",
       "    }\n",
       "\n",
       "    .dataframe tbody tr th {\n",
       "        vertical-align: top;\n",
       "    }\n",
       "\n",
       "    .dataframe thead th {\n",
       "        text-align: right;\n",
       "    }\n",
       "</style>\n",
       "<table border=\"1\" class=\"dataframe\">\n",
       "  <thead>\n",
       "    <tr style=\"text-align: right;\">\n",
       "      <th></th>\n",
       "      <th>column_1</th>\n",
       "      <th>column_2</th>\n",
       "      <th>column_3</th>\n",
       "      <th>column_4</th>\n",
       "      <th>column_5</th>\n",
       "      <th>column_6</th>\n",
       "    </tr>\n",
       "  </thead>\n",
       "  <tbody>\n",
       "    <tr>\n",
       "      <th>1</th>\n",
       "      <td>0.704865</td>\n",
       "      <td>0.473826</td>\n",
       "      <td>0.924830</td>\n",
       "      <td>0.334771</td>\n",
       "      <td>0.070716</td>\n",
       "      <td>0.180492</td>\n",
       "    </tr>\n",
       "    <tr>\n",
       "      <th>2</th>\n",
       "      <td>0.103500</td>\n",
       "      <td>0.920716</td>\n",
       "      <td>0.087114</td>\n",
       "      <td>0.617159</td>\n",
       "      <td>0.152511</td>\n",
       "      <td>0.307057</td>\n",
       "    </tr>\n",
       "    <tr>\n",
       "      <th>3</th>\n",
       "      <td>0.398428</td>\n",
       "      <td>0.850050</td>\n",
       "      <td>0.438906</td>\n",
       "      <td>0.270007</td>\n",
       "      <td>0.152909</td>\n",
       "      <td>0.715162</td>\n",
       "    </tr>\n",
       "    <tr>\n",
       "      <th>4</th>\n",
       "      <td>0.123161</td>\n",
       "      <td>0.699748</td>\n",
       "      <td>0.801026</td>\n",
       "      <td>0.059086</td>\n",
       "      <td>0.104575</td>\n",
       "      <td>0.875597</td>\n",
       "    </tr>\n",
       "    <tr>\n",
       "      <th>5</th>\n",
       "      <td>0.580724</td>\n",
       "      <td>0.746229</td>\n",
       "      <td>0.927532</td>\n",
       "      <td>0.776412</td>\n",
       "      <td>0.785037</td>\n",
       "      <td>0.231936</td>\n",
       "    </tr>\n",
       "    <tr>\n",
       "      <th>6</th>\n",
       "      <td>0.750336</td>\n",
       "      <td>0.589836</td>\n",
       "      <td>0.436797</td>\n",
       "      <td>0.849497</td>\n",
       "      <td>0.656404</td>\n",
       "      <td>0.862292</td>\n",
       "    </tr>\n",
       "  </tbody>\n",
       "</table>\n",
       "</div>"
      ],
      "text/plain": [
       "   column_1  column_2  column_3  column_4  column_5  column_6\n",
       "1  0.704865  0.473826  0.924830  0.334771  0.070716  0.180492\n",
       "2  0.103500  0.920716  0.087114  0.617159  0.152511  0.307057\n",
       "3  0.398428  0.850050  0.438906  0.270007  0.152909  0.715162\n",
       "4  0.123161  0.699748  0.801026  0.059086  0.104575  0.875597\n",
       "5  0.580724  0.746229  0.927532  0.776412  0.785037  0.231936\n",
       "6  0.750336  0.589836  0.436797  0.849497  0.656404  0.862292"
      ]
     },
     "execution_count": 34,
     "metadata": {},
     "output_type": "execute_result"
    }
   ],
   "source": [
    "df1"
   ]
  },
  {
   "cell_type": "code",
   "execution_count": 35,
   "id": "fbab5d03-5843-4800-8b17-5d62368dc8bd",
   "metadata": {},
   "outputs": [],
   "source": [
    "reindex = [3,0,1,2]\n",
    "new_df = df1.reindex(reindex)"
   ]
  },
  {
   "cell_type": "code",
   "execution_count": 36,
   "id": "ae9bc19e-e40a-4ee3-a144-1c785b37edab",
   "metadata": {},
   "outputs": [
    {
     "data": {
      "text/html": [
       "<div>\n",
       "<style scoped>\n",
       "    .dataframe tbody tr th:only-of-type {\n",
       "        vertical-align: middle;\n",
       "    }\n",
       "\n",
       "    .dataframe tbody tr th {\n",
       "        vertical-align: top;\n",
       "    }\n",
       "\n",
       "    .dataframe thead th {\n",
       "        text-align: right;\n",
       "    }\n",
       "</style>\n",
       "<table border=\"1\" class=\"dataframe\">\n",
       "  <thead>\n",
       "    <tr style=\"text-align: right;\">\n",
       "      <th></th>\n",
       "      <th>column_1</th>\n",
       "      <th>column_2</th>\n",
       "      <th>column_3</th>\n",
       "      <th>column_4</th>\n",
       "      <th>column_5</th>\n",
       "      <th>column_6</th>\n",
       "    </tr>\n",
       "  </thead>\n",
       "  <tbody>\n",
       "    <tr>\n",
       "      <th>3</th>\n",
       "      <td>0.398428</td>\n",
       "      <td>0.850050</td>\n",
       "      <td>0.438906</td>\n",
       "      <td>0.270007</td>\n",
       "      <td>0.152909</td>\n",
       "      <td>0.715162</td>\n",
       "    </tr>\n",
       "    <tr>\n",
       "      <th>0</th>\n",
       "      <td>NaN</td>\n",
       "      <td>NaN</td>\n",
       "      <td>NaN</td>\n",
       "      <td>NaN</td>\n",
       "      <td>NaN</td>\n",
       "      <td>NaN</td>\n",
       "    </tr>\n",
       "    <tr>\n",
       "      <th>1</th>\n",
       "      <td>0.704865</td>\n",
       "      <td>0.473826</td>\n",
       "      <td>0.924830</td>\n",
       "      <td>0.334771</td>\n",
       "      <td>0.070716</td>\n",
       "      <td>0.180492</td>\n",
       "    </tr>\n",
       "    <tr>\n",
       "      <th>2</th>\n",
       "      <td>0.103500</td>\n",
       "      <td>0.920716</td>\n",
       "      <td>0.087114</td>\n",
       "      <td>0.617159</td>\n",
       "      <td>0.152511</td>\n",
       "      <td>0.307057</td>\n",
       "    </tr>\n",
       "  </tbody>\n",
       "</table>\n",
       "</div>"
      ],
      "text/plain": [
       "   column_1  column_2  column_3  column_4  column_5  column_6\n",
       "3  0.398428  0.850050  0.438906  0.270007  0.152909  0.715162\n",
       "0       NaN       NaN       NaN       NaN       NaN       NaN\n",
       "1  0.704865  0.473826  0.924830  0.334771  0.070716  0.180492\n",
       "2  0.103500  0.920716  0.087114  0.617159  0.152511  0.307057"
      ]
     },
     "execution_count": 36,
     "metadata": {},
     "output_type": "execute_result"
    }
   ],
   "source": [
    "new_df"
   ]
  },
  {
   "cell_type": "code",
   "execution_count": 37,
   "id": "c1d59657-e052-41bc-9605-c21a75757f9a",
   "metadata": {},
   "outputs": [
    {
     "name": "stdout",
     "output_type": "stream",
     "text": [
      "new_df.loc[2]:\n",
      " column_1    0.103500\n",
      "column_2    0.920716\n",
      "column_3    0.087114\n",
      "column_4    0.617159\n",
      "column_5    0.152511\n",
      "column_6    0.307057\n",
      "Name: 2, dtype: float64\n",
      "new_df.iloc[2]:\n",
      " column_1    0.704865\n",
      "column_2    0.473826\n",
      "column_3    0.924830\n",
      "column_4    0.334771\n",
      "column_5    0.070716\n",
      "column_6    0.180492\n",
      "Name: 1, dtype: float64\n"
     ]
    }
   ],
   "source": [
    "loc_2 = new_df.loc[2]\n",
    "iloc_2 = new_df.iloc[2]\n",
    "print(\"new_df.loc[2]:\\n\", loc_2)\n",
    "print(\"new_df.iloc[2]:\\n\", iloc_2)\n"
   ]
  },
  {
   "cell_type": "markdown",
   "id": "d6c3ea12-3ce0-4218-a1b8-e2a529dccb44",
   "metadata": {},
   "source": [
    "new_df.loc[2] retrieves the row with index label 2, showing data from the original DataFrame's index 2.\n",
    "new_df.iloc[2] retrieves the row at the 3rd position in the reindexed DataFrame, showing data from the original DataFrame's index 1 (since the reindexed order is [3, 0, 1, 2]).\n",
    "The difference arises because loc uses the DataFrame’s index labels, while iloc uses the integer positions."
   ]
  },
  {
   "cell_type": "code",
   "execution_count": 38,
   "id": "6ecbdcdd-e66d-43dd-95f3-2e1bef855f9b",
   "metadata": {},
   "outputs": [],
   "source": [
    "# so i obserevd to iloc is postion vector and loc is labeling and indexing"
   ]
  },
  {
   "cell_type": "markdown",
   "id": "6267ffec-cb29-4be2-8f8e-76a5e3110a62",
   "metadata": {},
   "source": [
    "# Q4. Write a code to find the following statistical measurements for the above dataframe df1:\n",
    "# (i) mean of each and every column present in the dataframe.\n",
    "# (ii) standard deviation of column, ‘column_2’"
   ]
  },
  {
   "cell_type": "code",
   "execution_count": 71,
   "id": "2a5f9a5e-555c-40e7-bfef-0245d89d91dc",
   "metadata": {},
   "outputs": [
    {
     "data": {
      "text/plain": [
       "column_1    0.443502\n",
       "column_2    0.713401\n",
       "column_3    0.602701\n",
       "column_4    0.484489\n",
       "column_5    0.320359\n",
       "column_6    0.528756\n",
       "dtype: float64"
      ]
     },
     "execution_count": 71,
     "metadata": {},
     "output_type": "execute_result"
    }
   ],
   "source": [
    "df1.mean()"
   ]
  },
  {
   "cell_type": "code",
   "execution_count": 72,
   "id": "3fef4dcb-9d92-4bc1-a82e-3fd215362643",
   "metadata": {},
   "outputs": [
    {
     "data": {
      "text/plain": [
       "0.16467020300924248"
      ]
     },
     "execution_count": 72,
     "metadata": {},
     "output_type": "execute_result"
    }
   ],
   "source": [
    "df1[\"column_2\"].std()"
   ]
  },
  {
   "cell_type": "code",
   "execution_count": 73,
   "id": "274fe822-c08a-4b26-bb6d-fe84e49dbd2e",
   "metadata": {},
   "outputs": [],
   "source": [
    "df = df1.mean().index"
   ]
  },
  {
   "cell_type": "code",
   "execution_count": null,
   "id": "7f00ad8e-51e4-4c15-95a2-2f894cdaa5f4",
   "metadata": {},
   "outputs": [],
   "source": []
  },
  {
   "cell_type": "code",
   "execution_count": 75,
   "id": "9de5d992-86c5-4140-b958-44b7f71f9e6b",
   "metadata": {},
   "outputs": [
    {
     "data": {
      "text/plain": [
       "column_1    0.443502\n",
       "column_2    0.713401\n",
       "column_3    0.602701\n",
       "column_4    0.484489\n",
       "column_5    0.320359\n",
       "column_6    0.528756\n",
       "dtype: float64"
      ]
     },
     "execution_count": 75,
     "metadata": {},
     "output_type": "execute_result"
    }
   ],
   "source": [
    "column"
   ]
  },
  {
   "cell_type": "markdown",
   "id": "5f790b35-6edc-49eb-b83d-cc4459cd48f4",
   "metadata": {},
   "source": [
    "# Q5. Replace the data present in the second row of column, ‘column_2’ by a string variable then find the\n",
    "# mean of column, column_2.\n",
    "# If you are getting errors in executing it then explain why.\n",
    "# [Hint: To replace the data use df1.loc[] and equate this to string data of your choice.]"
   ]
  },
  {
   "cell_type": "code",
   "execution_count": 81,
   "id": "39c173bf-5272-4a1c-ae2e-1f00b6128cd9",
   "metadata": {},
   "outputs": [
    {
     "name": "stdout",
     "output_type": "stream",
     "text": [
      "Original DataFrame:\n",
      "    column_1  column_2  column_3  column_4  column_5  column_6\n",
      "1  0.773036  0.111678  0.158848  0.084087  0.453205  0.810309\n",
      "2  0.624343  0.999358  0.197312  0.921380  0.587985  0.912345\n",
      "3  0.343899  0.644614  0.766818  0.593967  0.912420  0.558710\n",
      "4  0.606697  0.707712  0.245866  0.708273  0.268702  0.418735\n",
      "5  0.696252  0.294111  0.587647  0.269753  0.289978  0.948438\n",
      "6  0.029785  0.605843  0.089649  0.206606  0.872825  0.934945\n"
     ]
    }
   ],
   "source": [
    "import pandas as pd\n",
    "import numpy as np\n",
    "\n",
    "columns = ['column_1', 'column_2', 'column_3', 'column_4', 'column_5', 'column_6']\n",
    "indices = [1, 2, 3, 4, 5, 6]\n",
    "df1 = pd.DataFrame(np.random.rand(6, 6), columns=columns, index=indices)\n",
    "print(\"Original DataFrame:\\n\", df1)\n"
   ]
  },
  {
   "cell_type": "code",
   "execution_count": 77,
   "id": "f669137f-c84c-4f7f-b49f-078d527a8317",
   "metadata": {},
   "outputs": [
    {
     "name": "stdout",
     "output_type": "stream",
     "text": [
      "DataFrame after replacing data in the second row of column_2 with a string:\n",
      "    column_1      column_2  column_3  column_4  column_5  column_6\n",
      "1  0.281559      0.649918  0.744109  0.392423  0.741715  0.245114\n",
      "2  0.136401  string_value  0.173484  0.560126  0.683061  0.258083\n",
      "3  0.822026      0.027072  0.617021  0.380661  0.466408  0.271018\n",
      "4  0.198533      0.170685  0.232068  0.037944  0.762227  0.484049\n",
      "5  0.373541      0.611984  0.211318  0.294336  0.078979  0.436513\n",
      "6  0.753231      0.375791  0.741753  0.389294  0.235906  0.775214\n"
     ]
    }
   ],
   "source": [
    "df1.loc[2, 'column_2'] = 'string_value'\n",
    "print(\"DataFrame after replacing data in the second row of column_2 with a string:\\n\", df1)\n"
   ]
  },
  {
   "cell_type": "code",
   "execution_count": 78,
   "id": "120f1d39-5e2f-444b-8de7-fdb3258c56a7",
   "metadata": {},
   "outputs": [
    {
     "name": "stdout",
     "output_type": "stream",
     "text": [
      "Error: unsupported operand type(s) for +: 'float' and 'str'\n"
     ]
    }
   ],
   "source": [
    "try:\n",
    "    mean_column_2 = df1['column_2'].mean()\n",
    "    print(\"Mean of column_2:\\n\", mean_column_2)\n",
    "except Exception as e:\n",
    "    print(\"Error:\", e)\n"
   ]
  },
  {
   "cell_type": "markdown",
   "id": "5b4ec7ad-ef20-481a-8ead-f672346db8f0",
   "metadata": {},
   "source": [
    "# Q6. What do you understand about the windows function in pandas and list the types of windows functions?"
   ]
  },
  {
   "cell_type": "markdown",
   "id": "2ed9e947-b44f-402a-85eb-7edd6d95e757",
   "metadata": {},
   "source": [
    "\n",
    "In pandas, window functions are used to perform operations on a set of data points (a \"window\") defined by a specific criterion. These functions are particularly useful for time series data or any data where the context of neighboring values is important. Window functions allow you to perform calculations across a sliding window of data, enabling tasks like moving averages, cumulative sums, and exponentially weighted calculations."
   ]
  },
  {
   "cell_type": "code",
   "execution_count": 82,
   "id": "fbf9ea47-e224-40f1-af08-177266d2e981",
   "metadata": {},
   "outputs": [
    {
     "data": {
      "text/html": [
       "<div>\n",
       "<style scoped>\n",
       "    .dataframe tbody tr th:only-of-type {\n",
       "        vertical-align: middle;\n",
       "    }\n",
       "\n",
       "    .dataframe tbody tr th {\n",
       "        vertical-align: top;\n",
       "    }\n",
       "\n",
       "    .dataframe thead th {\n",
       "        text-align: right;\n",
       "    }\n",
       "</style>\n",
       "<table border=\"1\" class=\"dataframe\">\n",
       "  <thead>\n",
       "    <tr style=\"text-align: right;\">\n",
       "      <th></th>\n",
       "      <th>column_1</th>\n",
       "      <th>column_2</th>\n",
       "      <th>column_3</th>\n",
       "      <th>column_4</th>\n",
       "      <th>column_5</th>\n",
       "      <th>column_6</th>\n",
       "    </tr>\n",
       "  </thead>\n",
       "  <tbody>\n",
       "    <tr>\n",
       "      <th>1</th>\n",
       "      <td>NaN</td>\n",
       "      <td>NaN</td>\n",
       "      <td>NaN</td>\n",
       "      <td>NaN</td>\n",
       "      <td>NaN</td>\n",
       "      <td>NaN</td>\n",
       "    </tr>\n",
       "    <tr>\n",
       "      <th>2</th>\n",
       "      <td>NaN</td>\n",
       "      <td>NaN</td>\n",
       "      <td>NaN</td>\n",
       "      <td>NaN</td>\n",
       "      <td>NaN</td>\n",
       "      <td>NaN</td>\n",
       "    </tr>\n",
       "    <tr>\n",
       "      <th>3</th>\n",
       "      <td>0.580426</td>\n",
       "      <td>0.585216</td>\n",
       "      <td>0.374326</td>\n",
       "      <td>0.533145</td>\n",
       "      <td>0.651203</td>\n",
       "      <td>0.760455</td>\n",
       "    </tr>\n",
       "    <tr>\n",
       "      <th>4</th>\n",
       "      <td>0.524980</td>\n",
       "      <td>0.783894</td>\n",
       "      <td>0.403332</td>\n",
       "      <td>0.741207</td>\n",
       "      <td>0.589702</td>\n",
       "      <td>0.629930</td>\n",
       "    </tr>\n",
       "    <tr>\n",
       "      <th>5</th>\n",
       "      <td>0.548949</td>\n",
       "      <td>0.548812</td>\n",
       "      <td>0.533443</td>\n",
       "      <td>0.523997</td>\n",
       "      <td>0.490367</td>\n",
       "      <td>0.641961</td>\n",
       "    </tr>\n",
       "    <tr>\n",
       "      <th>6</th>\n",
       "      <td>0.444244</td>\n",
       "      <td>0.535889</td>\n",
       "      <td>0.307720</td>\n",
       "      <td>0.394877</td>\n",
       "      <td>0.477168</td>\n",
       "      <td>0.767373</td>\n",
       "    </tr>\n",
       "  </tbody>\n",
       "</table>\n",
       "</div>"
      ],
      "text/plain": [
       "   column_1  column_2  column_3  column_4  column_5  column_6\n",
       "1       NaN       NaN       NaN       NaN       NaN       NaN\n",
       "2       NaN       NaN       NaN       NaN       NaN       NaN\n",
       "3  0.580426  0.585216  0.374326  0.533145  0.651203  0.760455\n",
       "4  0.524980  0.783894  0.403332  0.741207  0.589702  0.629930\n",
       "5  0.548949  0.548812  0.533443  0.523997  0.490367  0.641961\n",
       "6  0.444244  0.535889  0.307720  0.394877  0.477168  0.767373"
      ]
     },
     "execution_count": 82,
     "metadata": {},
     "output_type": "execute_result"
    }
   ],
   "source": [
    "df1.rolling(window=3).mean()\n"
   ]
  },
  {
   "cell_type": "code",
   "execution_count": 84,
   "id": "61578376-6b70-4ea9-b5ea-52785daa086f",
   "metadata": {},
   "outputs": [
    {
     "data": {
      "text/html": [
       "<div>\n",
       "<style scoped>\n",
       "    .dataframe tbody tr th:only-of-type {\n",
       "        vertical-align: middle;\n",
       "    }\n",
       "\n",
       "    .dataframe tbody tr th {\n",
       "        vertical-align: top;\n",
       "    }\n",
       "\n",
       "    .dataframe thead th {\n",
       "        text-align: right;\n",
       "    }\n",
       "</style>\n",
       "<table border=\"1\" class=\"dataframe\">\n",
       "  <thead>\n",
       "    <tr style=\"text-align: right;\">\n",
       "      <th></th>\n",
       "      <th>column_1</th>\n",
       "      <th>column_2</th>\n",
       "      <th>column_3</th>\n",
       "      <th>column_4</th>\n",
       "      <th>column_5</th>\n",
       "      <th>column_6</th>\n",
       "    </tr>\n",
       "  </thead>\n",
       "  <tbody>\n",
       "    <tr>\n",
       "      <th>1</th>\n",
       "      <td>0.773036</td>\n",
       "      <td>0.111678</td>\n",
       "      <td>0.158848</td>\n",
       "      <td>0.084087</td>\n",
       "      <td>0.453205</td>\n",
       "      <td>0.810309</td>\n",
       "    </tr>\n",
       "    <tr>\n",
       "      <th>2</th>\n",
       "      <td>0.698690</td>\n",
       "      <td>0.555518</td>\n",
       "      <td>0.178080</td>\n",
       "      <td>0.502734</td>\n",
       "      <td>0.520595</td>\n",
       "      <td>0.861327</td>\n",
       "    </tr>\n",
       "    <tr>\n",
       "      <th>3</th>\n",
       "      <td>0.580426</td>\n",
       "      <td>0.585216</td>\n",
       "      <td>0.374326</td>\n",
       "      <td>0.533145</td>\n",
       "      <td>0.651203</td>\n",
       "      <td>0.760455</td>\n",
       "    </tr>\n",
       "    <tr>\n",
       "      <th>4</th>\n",
       "      <td>0.586994</td>\n",
       "      <td>0.615840</td>\n",
       "      <td>0.342211</td>\n",
       "      <td>0.576927</td>\n",
       "      <td>0.555578</td>\n",
       "      <td>0.675025</td>\n",
       "    </tr>\n",
       "    <tr>\n",
       "      <th>5</th>\n",
       "      <td>0.608845</td>\n",
       "      <td>0.551494</td>\n",
       "      <td>0.391298</td>\n",
       "      <td>0.515492</td>\n",
       "      <td>0.502458</td>\n",
       "      <td>0.729708</td>\n",
       "    </tr>\n",
       "    <tr>\n",
       "      <th>6</th>\n",
       "      <td>0.512335</td>\n",
       "      <td>0.560552</td>\n",
       "      <td>0.341023</td>\n",
       "      <td>0.464011</td>\n",
       "      <td>0.564186</td>\n",
       "      <td>0.763914</td>\n",
       "    </tr>\n",
       "  </tbody>\n",
       "</table>\n",
       "</div>"
      ],
      "text/plain": [
       "   column_1  column_2  column_3  column_4  column_5  column_6\n",
       "1  0.773036  0.111678  0.158848  0.084087  0.453205  0.810309\n",
       "2  0.698690  0.555518  0.178080  0.502734  0.520595  0.861327\n",
       "3  0.580426  0.585216  0.374326  0.533145  0.651203  0.760455\n",
       "4  0.586994  0.615840  0.342211  0.576927  0.555578  0.675025\n",
       "5  0.608845  0.551494  0.391298  0.515492  0.502458  0.729708\n",
       "6  0.512335  0.560552  0.341023  0.464011  0.564186  0.763914"
      ]
     },
     "execution_count": 84,
     "metadata": {},
     "output_type": "execute_result"
    }
   ],
   "source": [
    "df1.expanding().mean()\n"
   ]
  },
  {
   "cell_type": "code",
   "execution_count": 86,
   "id": "7e308474-5015-4288-8bfc-7a28ba12eac0",
   "metadata": {},
   "outputs": [
    {
     "data": {
      "text/html": [
       "<div>\n",
       "<style scoped>\n",
       "    .dataframe tbody tr th:only-of-type {\n",
       "        vertical-align: middle;\n",
       "    }\n",
       "\n",
       "    .dataframe tbody tr th {\n",
       "        vertical-align: top;\n",
       "    }\n",
       "\n",
       "    .dataframe thead th {\n",
       "        text-align: right;\n",
       "    }\n",
       "</style>\n",
       "<table border=\"1\" class=\"dataframe\">\n",
       "  <thead>\n",
       "    <tr style=\"text-align: right;\">\n",
       "      <th></th>\n",
       "      <th>column_1</th>\n",
       "      <th>column_2</th>\n",
       "      <th>column_3</th>\n",
       "      <th>column_4</th>\n",
       "      <th>column_5</th>\n",
       "      <th>column_6</th>\n",
       "    </tr>\n",
       "  </thead>\n",
       "  <tbody>\n",
       "    <tr>\n",
       "      <th>1</th>\n",
       "      <td>0.773036</td>\n",
       "      <td>0.111678</td>\n",
       "      <td>0.158848</td>\n",
       "      <td>0.084087</td>\n",
       "      <td>0.453205</td>\n",
       "      <td>0.810309</td>\n",
       "    </tr>\n",
       "    <tr>\n",
       "      <th>2</th>\n",
       "      <td>0.673908</td>\n",
       "      <td>0.703464</td>\n",
       "      <td>0.184491</td>\n",
       "      <td>0.642283</td>\n",
       "      <td>0.543058</td>\n",
       "      <td>0.878333</td>\n",
       "    </tr>\n",
       "    <tr>\n",
       "      <th>3</th>\n",
       "      <td>0.485331</td>\n",
       "      <td>0.669835</td>\n",
       "      <td>0.517249</td>\n",
       "      <td>0.614673</td>\n",
       "      <td>0.754122</td>\n",
       "      <td>0.695692</td>\n",
       "    </tr>\n",
       "    <tr>\n",
       "      <th>4</th>\n",
       "      <td>0.550059</td>\n",
       "      <td>0.690036</td>\n",
       "      <td>0.372511</td>\n",
       "      <td>0.664593</td>\n",
       "      <td>0.495231</td>\n",
       "      <td>0.547981</td>\n",
       "    </tr>\n",
       "    <tr>\n",
       "      <th>5</th>\n",
       "      <td>0.625513</td>\n",
       "      <td>0.485688</td>\n",
       "      <td>0.483549</td>\n",
       "      <td>0.460805</td>\n",
       "      <td>0.389294</td>\n",
       "      <td>0.754669</td>\n",
       "    </tr>\n",
       "    <tr>\n",
       "      <th>6</th>\n",
       "      <td>0.322921</td>\n",
       "      <td>0.546719</td>\n",
       "      <td>0.283473</td>\n",
       "      <td>0.331688</td>\n",
       "      <td>0.634897</td>\n",
       "      <td>0.846238</td>\n",
       "    </tr>\n",
       "  </tbody>\n",
       "</table>\n",
       "</div>"
      ],
      "text/plain": [
       "   column_1  column_2  column_3  column_4  column_5  column_6\n",
       "1  0.773036  0.111678  0.158848  0.084087  0.453205  0.810309\n",
       "2  0.673908  0.703464  0.184491  0.642283  0.543058  0.878333\n",
       "3  0.485331  0.669835  0.517249  0.614673  0.754122  0.695692\n",
       "4  0.550059  0.690036  0.372511  0.664593  0.495231  0.547981\n",
       "5  0.625513  0.485688  0.483549  0.460805  0.389294  0.754669\n",
       "6  0.322921  0.546719  0.283473  0.331688  0.634897  0.846238"
      ]
     },
     "execution_count": 86,
     "metadata": {},
     "output_type": "execute_result"
    }
   ],
   "source": [
    "df1.ewm(span=3).mean()\n"
   ]
  },
  {
   "cell_type": "markdown",
   "id": "c800d8f4-324a-4f79-b963-c9198961676d",
   "metadata": {},
   "source": [
    "# Q7. Write a code to print only the current month and year at the time of answering this question.\n",
    "# [Hint: Use pandas.datetime function]"
   ]
  },
  {
   "cell_type": "code",
   "execution_count": 87,
   "id": "68af0c36-9e99-413e-b8ef-97f9dd5f9a17",
   "metadata": {},
   "outputs": [
    {
     "name": "stdout",
     "output_type": "stream",
     "text": [
      "June 2024\n"
     ]
    }
   ],
   "source": [
    "import pandas as pd\n",
    "\n",
    "# Get the current date and time\n",
    "current_datetime = pd.Timestamp.now()\n",
    "\n",
    "# Extract the current month and year\n",
    "current_month_year = current_datetime.strftime(\"%B %Y\")\n",
    "\n",
    "print(current_month_year)\n"
   ]
  },
  {
   "cell_type": "markdown",
   "id": "9fca2b61-0101-41a7-b106-1655da29d326",
   "metadata": {},
   "source": [
    "# Q8. Write a Python program that takes in two dates as input (in the format YYYY-MM-DD) and\n",
    "# calculates the difference between them in days, hours, and minutes using Pandas time delta. The\n",
    "# program should prompt the user to enter the dates and display the result."
   ]
  },
  {
   "cell_type": "code",
   "execution_count": 89,
   "id": "a5f451cf-7412-4fef-b22c-911d8c695e2d",
   "metadata": {},
   "outputs": [
    {
     "name": "stdin",
     "output_type": "stream",
     "text": [
      "Enter the first date (YYYY-MM-DD):  2004-09-19\n",
      "Enter the second date (YYYY-MM-DD):  2024-06-22\n"
     ]
    },
    {
     "name": "stdout",
     "output_type": "stream",
     "text": [
      "The difference between 2004-09-19 and 2024-06-22 is 7216 days, 0 hours, and 0 minutes.\n"
     ]
    }
   ],
   "source": [
    "import pandas as pd\n",
    "\n",
    "def calculate_time_difference(date1, date2):\n",
    "    # Convert the input strings to pandas Timestamp objects\n",
    "    timestamp1 = pd.Timestamp(date1)\n",
    "    timestamp2 = pd.Timestamp(date2)\n",
    "    \n",
    "    # Calculate the difference between the two timestamps\n",
    "    time_difference = timestamp2 - timestamp1\n",
    "    \n",
    "    # Extract the difference in days, hours, and minutes\n",
    "    days = time_difference.days\n",
    "    hours = time_difference.seconds // 3600\n",
    "    minutes = (time_difference.seconds % 3600) // 60\n",
    "    \n",
    "    return days, hours, minutes\n",
    "\n",
    "def main():\n",
    "    # Prompt the user to enter the dates\n",
    "    date1 = input(\"Enter the first date (YYYY-MM-DD): \")\n",
    "    date2 = input(\"Enter the second date (YYYY-MM-DD): \")\n",
    "    \n",
    "    # Calculate the time difference\n",
    "    days, hours, minutes = calculate_time_difference(date1, date2)\n",
    "    \n",
    "    # Display the result\n",
    "    print(f\"The difference between {date1} and {date2} is {days} days, {hours} hours, and {minutes} minutes.\")\n",
    "\n",
    "if __name__ == \"__main__\":\n",
    "    main()\n"
   ]
  },
  {
   "cell_type": "markdown",
   "id": "16f6c4aa-51af-4d62-819b-a8ea604d12b7",
   "metadata": {},
   "source": [
    "# Q9. Write a Python program that reads a CSV file containing categorical data and converts a specified  column to a categorical data type. The program should prompt the user to enter the file path, column name, and category order, and then display the sorted data."
   ]
  },
  {
   "cell_type": "code",
   "execution_count": 91,
   "id": "971953bc-c09d-4ad8-80ca-a17232ad9a0d",
   "metadata": {},
   "outputs": [
    {
     "name": "stdin",
     "output_type": "stream",
     "text": [
      "Enter the file path:  youtube_videos.csv\n",
      "Enter the column name:  Title\n",
      "Enter the category order (comma-separated values):  Low,Medium,High\n"
     ]
    },
    {
     "name": "stdout",
     "output_type": "stream",
     "text": [
      "\n",
      "Sorted DataFrame:\n",
      "Empty DataFrame\n",
      "Columns: [Video URL, Thumbnail URL, Title, Views, Posted Time]\n",
      "Index: []\n"
     ]
    }
   ],
   "source": [
    "import pandas as pd\n",
    "\n",
    "def convert_to_categorical(file_path, column_name, category_order):\n",
    "    # Read the CSV file into a pandas DataFrame\n",
    "    df = pd.read_csv(file_path)\n",
    "    \n",
    "    # Convert the specified column to a categorical data type with the given category order\n",
    "    df[column_name] = pd.Categorical(df[column_name], categories=category_order, ordered=True)\n",
    "    \n",
    "    # Sort the DataFrame by the categorical column\n",
    "    sorted_df = df.sort_values(by=column_name)\n",
    "    \n",
    "    return sorted_df\n",
    "\n",
    "def main():\n",
    "    # Prompt the user to enter the file path, column name, and category order\n",
    "    file_path = input(\"Enter the file path: \")\n",
    "    column_name = input(\"Enter the column name: \")\n",
    "    category_order_input = input(\"Enter the category order (comma-separated values): \")\n",
    "    category_order = category_order_input.split(',')\n",
    "    \n",
    "    # Convert the column to categorical and sort the DataFrame\n",
    "    sorted_df = convert_to_categorical(file_path, column_name, category_order)\n",
    "    \n",
    "    # Display the sorted DataFrame\n",
    "    print(\"\\nSorted DataFrame:\")\n",
    "    print(sorted_df)\n",
    "\n",
    "if __name__ == \"__main__\":\n",
    "    main()\n"
   ]
  },
  {
   "cell_type": "code",
   "execution_count": 92,
   "id": "dfcd2152-f083-40e1-b31c-6a1f5b5f67d7",
   "metadata": {},
   "outputs": [
    {
     "data": {
      "text/html": [
       "<div>\n",
       "<style scoped>\n",
       "    .dataframe tbody tr th:only-of-type {\n",
       "        vertical-align: middle;\n",
       "    }\n",
       "\n",
       "    .dataframe tbody tr th {\n",
       "        vertical-align: top;\n",
       "    }\n",
       "\n",
       "    .dataframe thead th {\n",
       "        text-align: right;\n",
       "    }\n",
       "</style>\n",
       "<table border=\"1\" class=\"dataframe\">\n",
       "  <thead>\n",
       "    <tr style=\"text-align: right;\">\n",
       "      <th></th>\n",
       "      <th>column_1</th>\n",
       "      <th>column_2</th>\n",
       "      <th>column_3</th>\n",
       "      <th>column_4</th>\n",
       "      <th>column_5</th>\n",
       "      <th>column_6</th>\n",
       "    </tr>\n",
       "  </thead>\n",
       "  <tbody>\n",
       "    <tr>\n",
       "      <th>1</th>\n",
       "      <td>0.773036</td>\n",
       "      <td>0.111678</td>\n",
       "      <td>0.158848</td>\n",
       "      <td>0.084087</td>\n",
       "      <td>0.453205</td>\n",
       "      <td>0.810309</td>\n",
       "    </tr>\n",
       "    <tr>\n",
       "      <th>2</th>\n",
       "      <td>0.624343</td>\n",
       "      <td>0.999358</td>\n",
       "      <td>0.197312</td>\n",
       "      <td>0.921380</td>\n",
       "      <td>0.587985</td>\n",
       "      <td>0.912345</td>\n",
       "    </tr>\n",
       "    <tr>\n",
       "      <th>3</th>\n",
       "      <td>0.343899</td>\n",
       "      <td>0.644614</td>\n",
       "      <td>0.766818</td>\n",
       "      <td>0.593967</td>\n",
       "      <td>0.912420</td>\n",
       "      <td>0.558710</td>\n",
       "    </tr>\n",
       "    <tr>\n",
       "      <th>4</th>\n",
       "      <td>0.606697</td>\n",
       "      <td>0.707712</td>\n",
       "      <td>0.245866</td>\n",
       "      <td>0.708273</td>\n",
       "      <td>0.268702</td>\n",
       "      <td>0.418735</td>\n",
       "    </tr>\n",
       "    <tr>\n",
       "      <th>5</th>\n",
       "      <td>0.696252</td>\n",
       "      <td>0.294111</td>\n",
       "      <td>0.587647</td>\n",
       "      <td>0.269753</td>\n",
       "      <td>0.289978</td>\n",
       "      <td>0.948438</td>\n",
       "    </tr>\n",
       "    <tr>\n",
       "      <th>6</th>\n",
       "      <td>0.029785</td>\n",
       "      <td>0.605843</td>\n",
       "      <td>0.089649</td>\n",
       "      <td>0.206606</td>\n",
       "      <td>0.872825</td>\n",
       "      <td>0.934945</td>\n",
       "    </tr>\n",
       "  </tbody>\n",
       "</table>\n",
       "</div>"
      ],
      "text/plain": [
       "   column_1  column_2  column_3  column_4  column_5  column_6\n",
       "1  0.773036  0.111678  0.158848  0.084087  0.453205  0.810309\n",
       "2  0.624343  0.999358  0.197312  0.921380  0.587985  0.912345\n",
       "3  0.343899  0.644614  0.766818  0.593967  0.912420  0.558710\n",
       "4  0.606697  0.707712  0.245866  0.708273  0.268702  0.418735\n",
       "5  0.696252  0.294111  0.587647  0.269753  0.289978  0.948438\n",
       "6  0.029785  0.605843  0.089649  0.206606  0.872825  0.934945"
      ]
     },
     "execution_count": 92,
     "metadata": {},
     "output_type": "execute_result"
    }
   ],
   "source": [
    "df1"
   ]
  },
  {
   "cell_type": "code",
   "execution_count": 102,
   "id": "e0ef030a-3c5a-4a0d-9e1c-13106e19633b",
   "metadata": {},
   "outputs": [
    {
     "data": {
      "text/html": [
       "<div>\n",
       "<style scoped>\n",
       "    .dataframe tbody tr th:only-of-type {\n",
       "        vertical-align: middle;\n",
       "    }\n",
       "\n",
       "    .dataframe tbody tr th {\n",
       "        vertical-align: top;\n",
       "    }\n",
       "\n",
       "    .dataframe thead th {\n",
       "        text-align: right;\n",
       "    }\n",
       "</style>\n",
       "<table border=\"1\" class=\"dataframe\">\n",
       "  <thead>\n",
       "    <tr style=\"text-align: right;\">\n",
       "      <th></th>\n",
       "      <th>column_1</th>\n",
       "      <th>column_2</th>\n",
       "      <th>column_3</th>\n",
       "      <th>column_4</th>\n",
       "      <th>column_5</th>\n",
       "      <th>column_6</th>\n",
       "    </tr>\n",
       "  </thead>\n",
       "  <tbody>\n",
       "    <tr>\n",
       "      <th>6</th>\n",
       "      <td>0.029785</td>\n",
       "      <td>0.605843</td>\n",
       "      <td>0.089649</td>\n",
       "      <td>0.206606</td>\n",
       "      <td>0.872825</td>\n",
       "      <td>0.934945</td>\n",
       "    </tr>\n",
       "    <tr>\n",
       "      <th>3</th>\n",
       "      <td>0.343899</td>\n",
       "      <td>0.644614</td>\n",
       "      <td>0.766818</td>\n",
       "      <td>0.593967</td>\n",
       "      <td>0.912420</td>\n",
       "      <td>0.558710</td>\n",
       "    </tr>\n",
       "    <tr>\n",
       "      <th>4</th>\n",
       "      <td>0.606697</td>\n",
       "      <td>0.707712</td>\n",
       "      <td>0.245866</td>\n",
       "      <td>0.708273</td>\n",
       "      <td>0.268702</td>\n",
       "      <td>0.418735</td>\n",
       "    </tr>\n",
       "    <tr>\n",
       "      <th>2</th>\n",
       "      <td>0.624343</td>\n",
       "      <td>0.999358</td>\n",
       "      <td>0.197312</td>\n",
       "      <td>0.921380</td>\n",
       "      <td>0.587985</td>\n",
       "      <td>0.912345</td>\n",
       "    </tr>\n",
       "    <tr>\n",
       "      <th>5</th>\n",
       "      <td>0.696252</td>\n",
       "      <td>0.294111</td>\n",
       "      <td>0.587647</td>\n",
       "      <td>0.269753</td>\n",
       "      <td>0.289978</td>\n",
       "      <td>0.948438</td>\n",
       "    </tr>\n",
       "    <tr>\n",
       "      <th>1</th>\n",
       "      <td>0.773036</td>\n",
       "      <td>0.111678</td>\n",
       "      <td>0.158848</td>\n",
       "      <td>0.084087</td>\n",
       "      <td>0.453205</td>\n",
       "      <td>0.810309</td>\n",
       "    </tr>\n",
       "  </tbody>\n",
       "</table>\n",
       "</div>"
      ],
      "text/plain": [
       "   column_1  column_2  column_3  column_4  column_5  column_6\n",
       "6  0.029785  0.605843  0.089649  0.206606  0.872825  0.934945\n",
       "3  0.343899  0.644614  0.766818  0.593967  0.912420  0.558710\n",
       "4  0.606697  0.707712  0.245866  0.708273  0.268702  0.418735\n",
       "2  0.624343  0.999358  0.197312  0.921380  0.587985  0.912345\n",
       "5  0.696252  0.294111  0.587647  0.269753  0.289978  0.948438\n",
       "1  0.773036  0.111678  0.158848  0.084087  0.453205  0.810309"
      ]
     },
     "execution_count": 102,
     "metadata": {},
     "output_type": "execute_result"
    }
   ],
   "source": [
    "df1.sort_values(by=\"column_1\")"
   ]
  },
  {
   "cell_type": "markdown",
   "id": "953034ad-6950-4100-be9c-baa9eb2f2376",
   "metadata": {},
   "source": [
    " # Q10. Write a Python program that reads a CSV file containing sales data for different products and visualizes the data using a stacked bar chart to show the sales of each product category over time. The program should prompt the user to enter the file path and display the chart. -->"
   ]
  },
  {
   "cell_type": "code",
   "execution_count": 103,
   "id": "c261832f-8724-4f2f-a045-80d12b906ffb",
   "metadata": {},
   "outputs": [
    {
     "name": "stdin",
     "output_type": "stream",
     "text": [
      "Enter the file path:  youtube_videos.csv\n"
     ]
    },
    {
     "ename": "KeyError",
     "evalue": "'Date'",
     "output_type": "error",
     "traceback": [
      "\u001b[0;31m---------------------------------------------------------------------------\u001b[0m",
      "\u001b[0;31mKeyError\u001b[0m                                  Traceback (most recent call last)",
      "File \u001b[0;32m/opt/conda/lib/python3.10/site-packages/pandas/core/indexes/base.py:3803\u001b[0m, in \u001b[0;36mIndex.get_loc\u001b[0;34m(self, key, method, tolerance)\u001b[0m\n\u001b[1;32m   3802\u001b[0m \u001b[38;5;28;01mtry\u001b[39;00m:\n\u001b[0;32m-> 3803\u001b[0m     \u001b[38;5;28;01mreturn\u001b[39;00m \u001b[38;5;28;43mself\u001b[39;49m\u001b[38;5;241;43m.\u001b[39;49m\u001b[43m_engine\u001b[49m\u001b[38;5;241;43m.\u001b[39;49m\u001b[43mget_loc\u001b[49m\u001b[43m(\u001b[49m\u001b[43mcasted_key\u001b[49m\u001b[43m)\u001b[49m\n\u001b[1;32m   3804\u001b[0m \u001b[38;5;28;01mexcept\u001b[39;00m \u001b[38;5;167;01mKeyError\u001b[39;00m \u001b[38;5;28;01mas\u001b[39;00m err:\n",
      "File \u001b[0;32m/opt/conda/lib/python3.10/site-packages/pandas/_libs/index.pyx:138\u001b[0m, in \u001b[0;36mpandas._libs.index.IndexEngine.get_loc\u001b[0;34m()\u001b[0m\n",
      "File \u001b[0;32m/opt/conda/lib/python3.10/site-packages/pandas/_libs/index.pyx:165\u001b[0m, in \u001b[0;36mpandas._libs.index.IndexEngine.get_loc\u001b[0;34m()\u001b[0m\n",
      "File \u001b[0;32mpandas/_libs/hashtable_class_helper.pxi:5745\u001b[0m, in \u001b[0;36mpandas._libs.hashtable.PyObjectHashTable.get_item\u001b[0;34m()\u001b[0m\n",
      "File \u001b[0;32mpandas/_libs/hashtable_class_helper.pxi:5753\u001b[0m, in \u001b[0;36mpandas._libs.hashtable.PyObjectHashTable.get_item\u001b[0;34m()\u001b[0m\n",
      "\u001b[0;31mKeyError\u001b[0m: 'Date'",
      "\nThe above exception was the direct cause of the following exception:\n",
      "\u001b[0;31mKeyError\u001b[0m                                  Traceback (most recent call last)",
      "Cell \u001b[0;32mIn[103], line 43\u001b[0m\n\u001b[1;32m     40\u001b[0m     plot_stacked_bar_chart(pivot_df)\n\u001b[1;32m     42\u001b[0m \u001b[38;5;28;01mif\u001b[39;00m \u001b[38;5;18m__name__\u001b[39m \u001b[38;5;241m==\u001b[39m \u001b[38;5;124m\"\u001b[39m\u001b[38;5;124m__main__\u001b[39m\u001b[38;5;124m\"\u001b[39m:\n\u001b[0;32m---> 43\u001b[0m     \u001b[43mmain\u001b[49m\u001b[43m(\u001b[49m\u001b[43m)\u001b[49m\n",
      "Cell \u001b[0;32mIn[103], line 37\u001b[0m, in \u001b[0;36mmain\u001b[0;34m()\u001b[0m\n\u001b[1;32m     34\u001b[0m file_path \u001b[38;5;241m=\u001b[39m \u001b[38;5;28minput\u001b[39m(\u001b[38;5;124m\"\u001b[39m\u001b[38;5;124mEnter the file path: \u001b[39m\u001b[38;5;124m\"\u001b[39m)\n\u001b[1;32m     36\u001b[0m \u001b[38;5;66;03m# Read and process the data\u001b[39;00m\n\u001b[0;32m---> 37\u001b[0m pivot_df \u001b[38;5;241m=\u001b[39m \u001b[43mread_and_process_data\u001b[49m\u001b[43m(\u001b[49m\u001b[43mfile_path\u001b[49m\u001b[43m)\u001b[49m\n\u001b[1;32m     39\u001b[0m \u001b[38;5;66;03m# Plot the stacked bar chart\u001b[39;00m\n\u001b[1;32m     40\u001b[0m plot_stacked_bar_chart(pivot_df)\n",
      "Cell \u001b[0;32mIn[103], line 9\u001b[0m, in \u001b[0;36mread_and_process_data\u001b[0;34m(file_path)\u001b[0m\n\u001b[1;32m      6\u001b[0m df \u001b[38;5;241m=\u001b[39m pd\u001b[38;5;241m.\u001b[39mread_csv(file_path)\n\u001b[1;32m      8\u001b[0m \u001b[38;5;66;03m# Ensure that the 'Date' column is of datetime type\u001b[39;00m\n\u001b[0;32m----> 9\u001b[0m df[\u001b[38;5;124m'\u001b[39m\u001b[38;5;124mDate\u001b[39m\u001b[38;5;124m'\u001b[39m] \u001b[38;5;241m=\u001b[39m pd\u001b[38;5;241m.\u001b[39mto_datetime(\u001b[43mdf\u001b[49m\u001b[43m[\u001b[49m\u001b[38;5;124;43m'\u001b[39;49m\u001b[38;5;124;43mDate\u001b[39;49m\u001b[38;5;124;43m'\u001b[39;49m\u001b[43m]\u001b[49m)\n\u001b[1;32m     11\u001b[0m \u001b[38;5;66;03m# Pivot the data to have dates as the index and product categories as columns\u001b[39;00m\n\u001b[1;32m     12\u001b[0m pivot_df \u001b[38;5;241m=\u001b[39m df\u001b[38;5;241m.\u001b[39mpivot_table(index\u001b[38;5;241m=\u001b[39m\u001b[38;5;124m'\u001b[39m\u001b[38;5;124mDate\u001b[39m\u001b[38;5;124m'\u001b[39m, columns\u001b[38;5;241m=\u001b[39m\u001b[38;5;124m'\u001b[39m\u001b[38;5;124mProduct\u001b[39m\u001b[38;5;124m'\u001b[39m, values\u001b[38;5;241m=\u001b[39m\u001b[38;5;124m'\u001b[39m\u001b[38;5;124mSales\u001b[39m\u001b[38;5;124m'\u001b[39m, aggfunc\u001b[38;5;241m=\u001b[39m\u001b[38;5;124m'\u001b[39m\u001b[38;5;124msum\u001b[39m\u001b[38;5;124m'\u001b[39m)\n",
      "File \u001b[0;32m/opt/conda/lib/python3.10/site-packages/pandas/core/frame.py:3805\u001b[0m, in \u001b[0;36mDataFrame.__getitem__\u001b[0;34m(self, key)\u001b[0m\n\u001b[1;32m   3803\u001b[0m \u001b[38;5;28;01mif\u001b[39;00m \u001b[38;5;28mself\u001b[39m\u001b[38;5;241m.\u001b[39mcolumns\u001b[38;5;241m.\u001b[39mnlevels \u001b[38;5;241m>\u001b[39m \u001b[38;5;241m1\u001b[39m:\n\u001b[1;32m   3804\u001b[0m     \u001b[38;5;28;01mreturn\u001b[39;00m \u001b[38;5;28mself\u001b[39m\u001b[38;5;241m.\u001b[39m_getitem_multilevel(key)\n\u001b[0;32m-> 3805\u001b[0m indexer \u001b[38;5;241m=\u001b[39m \u001b[38;5;28;43mself\u001b[39;49m\u001b[38;5;241;43m.\u001b[39;49m\u001b[43mcolumns\u001b[49m\u001b[38;5;241;43m.\u001b[39;49m\u001b[43mget_loc\u001b[49m\u001b[43m(\u001b[49m\u001b[43mkey\u001b[49m\u001b[43m)\u001b[49m\n\u001b[1;32m   3806\u001b[0m \u001b[38;5;28;01mif\u001b[39;00m is_integer(indexer):\n\u001b[1;32m   3807\u001b[0m     indexer \u001b[38;5;241m=\u001b[39m [indexer]\n",
      "File \u001b[0;32m/opt/conda/lib/python3.10/site-packages/pandas/core/indexes/base.py:3805\u001b[0m, in \u001b[0;36mIndex.get_loc\u001b[0;34m(self, key, method, tolerance)\u001b[0m\n\u001b[1;32m   3803\u001b[0m     \u001b[38;5;28;01mreturn\u001b[39;00m \u001b[38;5;28mself\u001b[39m\u001b[38;5;241m.\u001b[39m_engine\u001b[38;5;241m.\u001b[39mget_loc(casted_key)\n\u001b[1;32m   3804\u001b[0m \u001b[38;5;28;01mexcept\u001b[39;00m \u001b[38;5;167;01mKeyError\u001b[39;00m \u001b[38;5;28;01mas\u001b[39;00m err:\n\u001b[0;32m-> 3805\u001b[0m     \u001b[38;5;28;01mraise\u001b[39;00m \u001b[38;5;167;01mKeyError\u001b[39;00m(key) \u001b[38;5;28;01mfrom\u001b[39;00m \u001b[38;5;21;01merr\u001b[39;00m\n\u001b[1;32m   3806\u001b[0m \u001b[38;5;28;01mexcept\u001b[39;00m \u001b[38;5;167;01mTypeError\u001b[39;00m:\n\u001b[1;32m   3807\u001b[0m     \u001b[38;5;66;03m# If we have a listlike key, _check_indexing_error will raise\u001b[39;00m\n\u001b[1;32m   3808\u001b[0m     \u001b[38;5;66;03m#  InvalidIndexError. Otherwise we fall through and re-raise\u001b[39;00m\n\u001b[1;32m   3809\u001b[0m     \u001b[38;5;66;03m#  the TypeError.\u001b[39;00m\n\u001b[1;32m   3810\u001b[0m     \u001b[38;5;28mself\u001b[39m\u001b[38;5;241m.\u001b[39m_check_indexing_error(key)\n",
      "\u001b[0;31mKeyError\u001b[0m: 'Date'"
     ]
    }
   ],
   "source": [
    "import pandas as pd\n",
    "import matplotlib.pyplot as plt\n",
    "\n",
    "def read_and_process_data(file_path):\n",
    "    # Read the CSV file into a pandas DataFrame\n",
    "    df = pd.read_csv(file_path)\n",
    "    \n",
    "    # Ensure that the 'Date' column is of datetime type\n",
    "    df['Date'] = pd.to_datetime(df['Date'])\n",
    "    \n",
    "    # Pivot the data to have dates as the index and product categories as columns\n",
    "    pivot_df = df.pivot_table(index='Date', columns='Product', values='Sales', aggfunc='sum')\n",
    "    \n",
    "    return pivot_df\n",
    "\n",
    "def plot_stacked_bar_chart(pivot_df):\n",
    "    # Plot a stacked bar chart\n",
    "    pivot_df.plot(kind='bar', stacked=True, figsize=(10, 7))\n",
    "    \n",
    "    # Set the title and labels\n",
    "    plt.title('Sales of Each Product Category Over Time')\n",
    "    plt.xlabel('Date')\n",
    "    plt.ylabel('Sales')\n",
    "    \n",
    "    # Display the legend\n",
    "    plt.legend(title='Product', bbox_to_anchor=(1.05, 1), loc='upper left')\n",
    "    \n",
    "    # Show the plot\n",
    "    plt.tight_layout()\n",
    "    plt.show()\n",
    "\n",
    "def main():\n",
    "    # Prompt the user to enter the file path\n",
    "    file_path = input(\"Enter the file path: \")\n",
    "    \n",
    "    # Read and process the data\n",
    "    pivot_df = read_and_process_data(file_path)\n",
    "    \n",
    "    # Plot the stacked bar chart\n",
    "    plot_stacked_bar_chart(pivot_df)\n",
    "\n",
    "if __name__ == \"__main__\":\n",
    "    main()\n"
   ]
  },
  {
   "cell_type": "markdown",
   "id": "b85043c8-cf70-4ed4-92fe-ce1a73b22a7f",
   "metadata": {},
   "source": [
    "# Q11. You are given a CSV file containing student data that includes the student ID and their test score. Write a Python program that reads the CSV file, calculates the mean, median, and mode of the test scores, anddisplays the results in a table."
   ]
  },
  {
   "cell_type": "code",
   "execution_count": 120,
   "id": "0d14ceb7-ac6c-4a3b-aebf-9d0d8d4d8514",
   "metadata": {},
   "outputs": [
    {
     "name": "stdin",
     "output_type": "stream",
     "text": [
      "Enter the file path:  student_data.csv\n"
     ]
    },
    {
     "name": "stdout",
     "output_type": "stream",
     "text": [
      "\n",
      "Statistics of Test Scores:\n",
      "Statistic  Score\n",
      "     Mean   83.5\n",
      "   Median   85.0\n",
      "     Mode   85.0\n"
     ]
    },
    {
     "name": "stderr",
     "output_type": "stream",
     "text": [
      "/tmp/ipykernel_77/2990200466.py:11: FutureWarning: Unlike other reduction functions (e.g. `skew`, `kurtosis`), the default behavior of `mode` typically preserves the axis it acts along. In SciPy 1.11.0, this behavior will change: the default value of `keepdims` will become False, the `axis` over which the statistic is taken will be eliminated, and the value None will no longer be accepted. Set `keepdims` to True or False to avoid this warning.\n",
      "  mode_score = stats.mode(df['Score'])[0][0]  # stats.mode returns a ModeResult object\n"
     ]
    }
   ],
   "source": [
    "import pandas as pd\n",
    "from scipy import stats\n",
    "\n",
    "def calculate_statistics(file_path):\n",
    "    # Read the CSV file into a pandas DataFrame\n",
    "    df = pd.read_csv(file_path)\n",
    "    \n",
    "    # Calculate mean, median, and mode of the test scores\n",
    "    mean_score = df['Score'].mean()\n",
    "    median_score = df['Score'].median()\n",
    "    mode_score = stats.mode(df['Score'])[0][0]  # stats.mode returns a ModeResult object\n",
    "    \n",
    "    # Create a DataFrame to display the results\n",
    "    results_df = pd.DataFrame({\n",
    "        'Statistic': ['Mean', 'Median', 'Mode'],\n",
    "        'Score': [mean_score, median_score, mode_score]\n",
    "    })\n",
    "    \n",
    "    return results_df\n",
    "\n",
    "def main():\n",
    "    # Prompt the user to enter the file path\n",
    "    file_path = input(\"Enter the file path: \")\n",
    "    \n",
    "    # Calculate statistics\n",
    "    results_df = calculate_statistics(file_path)\n",
    "    \n",
    "    # Display the results\n",
    "    print(\"\\nStatistics of Test Scores:\")\n",
    "    print(results_df.to_string(index=False))\n",
    "\n",
    "if __name__ == \"__main__\":\n",
    "    main()\n",
    "    \n",
    "    \n",
    "\n"
   ]
  },
  {
   "cell_type": "code",
   "execution_count": 118,
   "id": "c242ac66-b871-45e5-9c92-5ba36a0a273c",
   "metadata": {},
   "outputs": [],
   "source": [
    "Test_Score = [85,90,80,75,85,82,78,85,90,85]\n",
    "Student_ID = [1,2,3,4,5,6,7,8,9,10]\n",
    "# Student ID,Test Score \n",
    "# 1,85\n",
    "# 2,90\n",
    "# 3,80\n",
    "# 4,75\n",
    "# 5,85\n",
    "# 6,82\n",
    "# 7,78\n",
    "# 8,85\n",
    "# 9,90\n",
    "# 10,85\n",
    "\n",
    "student_data = pd.DataFrame(data = {\"Score\" : Test_Score, \"Student_ID\" : Student_ID } )"
   ]
  },
  {
   "cell_type": "code",
   "execution_count": 119,
   "id": "bce910c8-b380-4884-aa0e-ba2497ce3b50",
   "metadata": {},
   "outputs": [],
   "source": [
    "student_data.to_csv(\"student_data.csv\",index=True)"
   ]
  },
  {
   "cell_type": "code",
   "execution_count": 125,
   "id": "b3ed3071-9fb8-4985-8414-269ef7a47a24",
   "metadata": {},
   "outputs": [
    {
     "data": {
      "text/plain": [
       "0    2023-06-01\n",
       "1    2023-06-02\n",
       "2    2023-06-03\n",
       "dtype: object"
      ]
     },
     "execution_count": 125,
     "metadata": {},
     "output_type": "execute_result"
    }
   ],
   "source": [
    "import pandas as pd\n",
    "\n",
    "# Convert a Series of date strings to datetime\n",
    "dates = pd.Series(['2023-06-01', '2023-06-02', '2023-06-03'])\n",
    "date_times = pd.to_datetime(dates)\n",
    "dates"
   ]
  },
  {
   "cell_type": "code",
   "execution_count": 126,
   "id": "a7475e60-81c1-4dab-8c7b-b08f15820037",
   "metadata": {},
   "outputs": [
    {
     "data": {
      "text/plain": [
       "0   2023-06-01\n",
       "1   2023-06-02\n",
       "2   2023-06-03\n",
       "dtype: datetime64[ns]"
      ]
     },
     "execution_count": 126,
     "metadata": {},
     "output_type": "execute_result"
    }
   ],
   "source": [
    "date_times"
   ]
  },
  {
   "cell_type": "code",
   "execution_count": null,
   "id": "a8d30683-25c9-4e63-8fbb-4b56ddbb0ce6",
   "metadata": {},
   "outputs": [],
   "source": []
  }
 ],
 "metadata": {
  "kernelspec": {
   "display_name": "Python 3 (ipykernel)",
   "language": "python",
   "name": "python3"
  },
  "language_info": {
   "codemirror_mode": {
    "name": "ipython",
    "version": 3
   },
   "file_extension": ".py",
   "mimetype": "text/x-python",
   "name": "python",
   "nbconvert_exporter": "python",
   "pygments_lexer": "ipython3",
   "version": "3.10.8"
  }
 },
 "nbformat": 4,
 "nbformat_minor": 5
}
