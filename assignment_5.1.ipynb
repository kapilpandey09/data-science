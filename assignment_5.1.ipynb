{
 "cells": [
  {
   "cell_type": "markdown",
   "id": "bfb393e1-6374-44c6-9aff-0c9445197bc1",
   "metadata": {},
   "source": [
    "Q1. What is an Exception in pthon? Write the difference between Exceptions and syntax error"
   ]
  },
  {
   "cell_type": "markdown",
   "id": "89288add-e09d-4819-a7e0-4323358f7fd8",
   "metadata": {},
   "source": [
    "Exception is a occure during a error event  to stop the error and safely execution "
   ]
  },
  {
   "cell_type": "markdown",
   "id": "f5c7a7e7-ba89-471a-bdb6-31145258a40e",
   "metadata": {},
   "source": [
    "Syntax errors occur during the parsing of the code before the program is executed.\n",
    "They are typically caused by incorrect syntax or structure in the code.\n",
    "Syntax errors prevent the program from running at all and must be fixed before execution.\n",
    "Examples of syntax errors include missing colons, incorrect indentation, and using undefined variables."
   ]
  },
  {
   "cell_type": "markdown",
   "id": "348eab11-3006-4c14-92be-aba29c9aaadc",
   "metadata": {},
   "source": [
    "Exception is error handling and program eceution without error"
   ]
  },
  {
   "cell_type": "markdown",
   "id": "71001c87-368d-4c5c-982b-2ad42d087ad4",
   "metadata": {},
   "source": [
    "Q2. What hppens when an exception is not handled? Explain withan example.\n"
   ]
  },
  {
   "cell_type": "code",
   "execution_count": 4,
   "id": "2dde4d94-8379-4a23-a686-eed515b16ef9",
   "metadata": {},
   "outputs": [
    {
     "ename": "ZeroDivisionError",
     "evalue": "division by zero",
     "output_type": "error",
     "traceback": [
      "\u001b[0;31m---------------------------------------------------------------------------\u001b[0m",
      "\u001b[0;31mZeroDivisionError\u001b[0m                         Traceback (most recent call last)",
      "Cell \u001b[0;32mIn[4], line 1\u001b[0m\n\u001b[0;32m----> 1\u001b[0m a \u001b[38;5;241m=\u001b[39m \u001b[38;5;241;43m2\u001b[39;49m\u001b[38;5;241;43m/\u001b[39;49m\u001b[38;5;241;43m0\u001b[39;49m\n",
      "\u001b[0;31mZeroDivisionError\u001b[0m: division by zero"
     ]
    }
   ],
   "source": [
    "a = 2/0"
   ]
  },
  {
   "cell_type": "code",
   "execution_count": 5,
   "id": "19dccec4-950c-4db5-89d9-93fc600581ba",
   "metadata": {},
   "outputs": [
    {
     "name": "stdout",
     "output_type": "stream",
     "text": [
      "division by zero\n"
     ]
    }
   ],
   "source": []
  },
  {
   "cell_type": "markdown",
   "id": "a9c0fdf5-e628-47d6-8cb6-2c516d47509d",
   "metadata": {},
   "source": [
    "Q3. Which Python statements are used to catch nd handle exceptions? Explain with an example."
   ]
  },
  {
   "cell_type": "code",
   "execution_count": 11,
   "id": "c3b359c6-16a8-465a-be01-632419d5c72b",
   "metadata": {},
   "outputs": [
    {
     "name": "stdout",
     "output_type": "stream",
     "text": [
      "division by zero\n"
     ]
    }
   ],
   "source": [
    "try:\n",
    "    a = 2/0\n",
    "except Exception as e:\n",
    "    print(e)"
   ]
  },
  {
   "cell_type": "markdown",
   "id": "04dd216b-438e-4a6c-8afe-56c9ce630912",
   "metadata": {},
   "source": [
    "Q4. Explain with an example:\n",
    "   (a) try and else\n",
    "   (b) finally\n",
    "   (c) raise"
   ]
  },
  {
   "cell_type": "code",
   "execution_count": 13,
   "id": "1f8747ba-82e5-4563-9a48-69f48658a21b",
   "metadata": {},
   "outputs": [
    {
     "name": "stdout",
     "output_type": "stream",
     "text": [
      "\n",
      "*\n",
      "**\n",
      "***\n",
      "****\n",
      "*****\n",
      "******\n",
      "*******\n",
      "********\n",
      "your program successfullly run \n"
     ]
    }
   ],
   "source": [
    "try :\n",
    "    for i in range(9):\n",
    "        print(\"*\"*i)\n",
    "        \n",
    "except Exception as e:\n",
    "    print(\"this is exception error\")\n",
    "else:\n",
    "    print(\"your program successfullly run \")"
   ]
  },
  {
   "cell_type": "code",
   "execution_count": 16,
   "id": "fb9243d1-b36f-4bfe-93e7-6a0c5a5ae719",
   "metadata": {},
   "outputs": [
    {
     "name": "stdout",
     "output_type": "stream",
     "text": [
      "error this is programming\n",
      "finaaly function  is not stop any error\n"
     ]
    }
   ],
   "source": [
    "try:\n",
    "    for i in range(4):\n",
    "        print(a)\n",
    "except Exception as  e:\n",
    "    print(\"error this is programming\")\n",
    "finally:\n",
    "    print(\"finaaly function  is not stop any error\")"
   ]
  },
  {
   "cell_type": "code",
   "execution_count": 20,
   "id": "c45d5b79-30f8-4d74-8f28-21e1dd55922b",
   "metadata": {},
   "outputs": [
    {
     "name": "stdout",
     "output_type": "stream",
     "text": [
      "this is error\n"
     ]
    }
   ],
   "source": [
    "class custum_error(Exception):\n",
    "    \n",
    "    def __init__(self, msg):\n",
    "        self.msg = msg\n",
    "def handling_error(program):\n",
    "    if program<10 :\n",
    "        raise custum_error(\"this is error\")\n",
    "    else:\n",
    "        print(\"write\")\n",
    "try:\n",
    "    program = 5\n",
    "    handling_error(program)\n",
    "except custum_error as e:\n",
    "    print(e)\n",
    "    \n"
   ]
  },
  {
   "cell_type": "markdown",
   "id": "503fd3e8-d727-49fd-9f88-af4d26c6e9d0",
   "metadata": {},
   "source": [
    "Q5. What are Custom Exceptions in python? What do we need Custom Exceptions? Explain with an example."
   ]
  },
  {
   "cell_type": "markdown",
   "id": "d5f3c9c2-263c-4082-b89a-b104a1e23ac6",
   "metadata": {},
   "source": [
    "Answer:|"
   ]
  },
  {
   "cell_type": "markdown",
   "id": "b3b8fe24-533c-4aba-b1c4-c952bfcbb1a1",
   "metadata": {},
   "source": [
    "Custom Exception is a  They allow you to create your own specific exceptions to handle unique error conditions in your code. Custom exceptions can provide more descriptive and meaningful error messages, making it easier to understand and debug issues in your code.\n",
    "\n",
    "clearity who was error\n",
    "readability is self explain your code \n",
    "error handling so that use to differnrt type error handling by custom error \n",
    "This can be particularly useful when you need to respond differently to various exceptional situations.\n",
    "Modularity: They help you encapsulate error handling logic within your application or module, making it easier to manage and maintain your code.\n"
   ]
  },
  {
   "cell_type": "code",
   "execution_count": 3,
   "id": "f8b1fd9b-a203-4c31-bf33-d2f961f28fda",
   "metadata": {},
   "outputs": [
    {
     "name": "stdout",
     "output_type": "stream",
     "text": [
      "does not divided by zero\n"
     ]
    }
   ],
   "source": [
    "class error_handle(Exception):\n",
    "    \n",
    "    def __init__(self, message):\n",
    "        self.message = message\n",
    "def error_pro(x,y):\n",
    "    if y==0:\n",
    "        raise error_handle(\"does not divided by zero\")\n",
    "    return x/y\n",
    "    \n",
    "try:\n",
    "    div = error_pro(2,5)\n",
    "    div_1 = error_pro(2,0)\n",
    "except error_handle as e:\n",
    "    print(e)\n",
    "    \n",
    "else:\n",
    "    print(f\"your result is {div}\")"
   ]
  },
  {
   "cell_type": "markdown",
   "id": "491edebc-0773-442a-b26c-69c4ced3a9b9",
   "metadata": {},
   "source": [
    "Q6. Create custom exception class. Use this class to handle an exception."
   ]
  },
  {
   "cell_type": "code",
   "execution_count": 15,
   "id": "a270abe4-1936-450f-a6e8-978faa618968",
   "metadata": {},
   "outputs": [
    {
     "name": "stdin",
     "output_type": "stream",
     "text": [
      "Enter a age 200\n"
     ]
    },
    {
     "name": "stdout",
     "output_type": "stream",
     "text": [
      "age does not longer from 150 \n"
     ]
    }
   ],
   "source": [
    "class age_error(Exception):\n",
    "    def __init__(self, message):\n",
    "        self.messafe = message \n",
    "def valid_age(age):\n",
    "    if age<0:\n",
    "        raise age_error(\"Age is not negative\")\n",
    "    elif age>150:\n",
    "        raise age_error(\"age does not longer from 150 \")\n",
    "    else:\n",
    "        print(f\"age is {age} \")\n",
    "        \n",
    "try:\n",
    "    age = int(input(\"Enter a age\"))\n",
    "    perosn_age = valid_age(age)\n",
    "except age_error as e:\n",
    "    print(e)\n"
   ]
  },
  {
   "cell_type": "code",
   "execution_count": null,
   "id": "df6bdf3f-51a7-4308-aac4-17b546307dd4",
   "metadata": {},
   "outputs": [],
   "source": []
  }
 ],
 "metadata": {
  "kernelspec": {
   "display_name": "Python 3 (ipykernel)",
   "language": "python",
   "name": "python3"
  },
  "language_info": {
   "codemirror_mode": {
    "name": "ipython",
    "version": 3
   },
   "file_extension": ".py",
   "mimetype": "text/x-python",
   "name": "python",
   "nbconvert_exporter": "python",
   "pygments_lexer": "ipython3",
   "version": "3.10.8"
  }
 },
 "nbformat": 4,
 "nbformat_minor": 5
}
