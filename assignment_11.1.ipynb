{
 "cells": [
  {
   "cell_type": "markdown",
   "id": "5eb579b9-5108-4eb2-9f29-38b61f9533a2",
   "metadata": {},
   "source": [
    "## Q1. What is the Probability density function?"
   ]
  },
  {
   "cell_type": "raw",
   "id": "270928da-cfdd-4a0b-be5c-ca38a71644ba",
   "metadata": {},
   "source": [
    "\n",
    "A probability density function (PDF) is a statistical function that describes the likelihood of a continuous random variable taking on a specific value. In other words, it provides a way to describe the probability distribution of a continuous random variable. The PDF is used in probability and statistics to model and analyze random phenomena."
   ]
  },
  {
   "cell_type": "markdown",
   "id": "6a3ff63d-10b3-44db-99db-d851435ccc14",
   "metadata": {},
   "source": [
    "## Q2. What are the types of Probability distribution?"
   ]
  },
  {
   "cell_type": "raw",
   "id": "65d8b2cf-17c5-4fc2-b7bf-94e03d4f12e2",
   "metadata": {},
   "source": [
    "Probability distributions can be classified into two main types: discrete probability distributions and continuous probability distributions.\n",
    "\n",
    "Discrete probability distributions are used to model random variables that can only take on a finite or countably infinite number of values. For example, the number of heads in three flips of a coin, the number of customers at a store in a given hour, or the number of defective products in a batch are all discrete random variables.\n",
    "\n",
    "Continuous probability distributions are used to model random variables that can take on any value within a specified range. For example, the height of a person, the weight of an apple, or the time it takes to drive to work are all continuous random variables."
   ]
  },
  {
   "cell_type": "markdown",
   "id": "30e2654d-77fd-4c54-8ce0-adc057b42b30",
   "metadata": {},
   "source": [
    "## Q3. Write a Python function to calculate the probability density function of a normal distribution with given mean and standard deviation at a given point."
   ]
  },
  {
   "cell_type": "code",
   "execution_count": 7,
   "id": "77378bd2-1bae-4c6c-9453-b2b60ba9abc9",
   "metadata": {},
   "outputs": [],
   "source": [
    "import pandas as pd\n",
    "import numpy as np\n",
    "\n",
    "\n",
    "\n",
    "def normal_pdf(x, mean, std):\n",
    "      return np.exp(-((x - mean) ** 2) / (2 * std**2)) / (np.sqrt(2 * np.pi) * std)"
   ]
  },
  {
   "cell_type": "code",
   "execution_count": 17,
   "id": "17a1e095-8151-423e-96f9-73d3025a34b3",
   "metadata": {},
   "outputs": [
    {
     "name": "stdout",
     "output_type": "stream",
     "text": [
      "0.05399096651318806\n"
     ]
    }
   ],
   "source": [
    "pdf = normal_pdf(2, 4, 1)\n",
    "print(pdf)\n"
   ]
  },
  {
   "cell_type": "markdown",
   "id": "d5576744-a637-45ba-b3c3-1df6bb084eb6",
   "metadata": {},
   "source": [
    "## Q4. What are the properties of Binomial distribution? Give two examples of events where binomial distribution can be applied."
   ]
  },
  {
   "cell_type": "raw",
   "id": "d3d19c3f-0524-48ee-af24-44c3391a6453",
   "metadata": {},
   "source": [
    "The binomial distribution is a discrete probability distribution that models the number of successes in a fixed number of independent Bernoulli trials (experiments), where each trial has two possible outcomes: success (usually denoted as \"1\") or failure (usually denoted as \"0\"). The binomial distribution has several key properties:"
   ]
  },
  {
   "cell_type": "raw",
   "id": "3b6fc121-02dc-4c9a-a029-99a3579d23d1",
   "metadata": {},
   "source": [
    "Two examples of events where the binomial distribution can be applied are:\n",
    "\n",
    "1. Coin Flips: The number of heads obtained when flipping a fair coin (where \"heads\" is success and \"tails\" is       failure) a fixed number of times (e.g., 10 coin flips). Here, p = 0.5, and n is the number of flips.\n",
    "\n",
    "2. Manufacturing Defects: The number of defective items produced in a manufacturing process where each item is        independently inspected and has a certain probability of being defective. Here, p represents the probability of an  item being defective, and n is the total number of items inspected."
   ]
  },
  {
   "cell_type": "markdown",
   "id": "5ff9f2ce-8c89-4fb0-a486-62cb13b9bf01",
   "metadata": {},
   "source": [
    "## Q5. Generate a random sample of size 1000 from a binomial distribution with probability of success 0.4 and plot a histogram of the results using matplotlib."
   ]
  },
  {
   "cell_type": "code",
   "execution_count": 23,
   "id": "3f44a416-bda7-4977-ac09-8f45c6817f48",
   "metadata": {},
   "outputs": [
    {
     "data": {
      "image/png": "[encoded data removed]",
      "text/plain": [
       "<Figure size 640x480 with 1 Axes>"
      ]
     },
     "metadata": {},
     "output_type": "display_data"
    }
   ],
   "source": [
    "import numpy as np\n",
    "import matplotlib.pyplot as plt\n",
    "sample_size = 1000\n",
    "n,p = 1, 0.4\n",
    "random_sample = np.random.binomial(n,p, sample_size)\n",
    "plt.hist(random_sample, bins=2, edgecolor=\"black\", alpha=0.7)\n",
    "plt.title(f'Binomial Distribution (n=1, p={p}) - Sample Size: {sample_size}')\n",
    "plt.xlabel('Success (1) or Failure (0)')\n",
    "plt.ylabel('Frequency')\n",
    "plt.show()\n"
   ]
  },
  {
   "cell_type": "markdown",
   "id": "72c19c27-b668-41ab-a521-52ad334a41b9",
   "metadata": {},
   "source": [
    "## Q6. Write a Python function to calculate the cumulative distribution function of a Poisson distribution with given mean at a given point."
   ]
  },
  {
   "cell_type": "code",
   "execution_count": 1,
   "id": "dc81b1ed-f6de-4959-8a04-9212d03b86ac",
   "metadata": {},
   "outputs": [],
   "source": [
    "import scipy.stats as stats\n",
    "\n",
    "def poisson_cdf(mean, point):\n",
    "    \"\"\"Calculates the cumulative distribution function (CDF) of a Poisson distribution\n",
    "    with a given mean at a given point.\n",
    "\n",
    "    Args:\n",
    "        mean (float): The mean of the Poisson distribution.\n",
    "        point (float): The point at which to calculate the CDF.\n",
    "\n",
    "    Returns:\n",
    "        float: The cumulative probability of observing a value less than or equal to 'point'\n",
    "        from a Poisson distribution with mean 'mean'.\n",
    "    \"\"\"\n",
    "\n",
    "    # Create a Poisson distribution object with the specified mean\n",
    "    poisson_dist = stats.poisson(mean)\n",
    "\n",
    "    # Calculate the CDF at the given point using the `cdf` method\n",
    "    cdf_value = poisson_dist.cdf(point)\n",
    "\n",
    "    return cdf_value\n"
   ]
  },
  {
   "cell_type": "code",
   "execution_count": 2,
   "id": "97b78500-17ed-44f0-9448-7dd480e1cf2b",
   "metadata": {},
   "outputs": [
    {
     "name": "stdout",
     "output_type": "stream",
     "text": [
      "CDF value at 5.0 : 0.06708596287903189\n"
     ]
    }
   ],
   "source": [
    "mean = 10.0\n",
    "point = 5.0\n",
    "\n",
    "cdf_value = poisson_cdf(mean, point)\n",
    "print(\"CDF value at\", point, \":\", cdf_value)\n"
   ]
  },
  {
   "cell_type": "markdown",
   "id": "dabbc09d-269b-489c-929f-f74a53eafa1a",
   "metadata": {},
   "source": [
    "## Q7. How Binomial distribution different from Poisson distribution?"
   ]
  },
  {
   "cell_type": "raw",
   "id": "04e9a717-80f7-4f6a-b3b0-d3c27f1bcc26",
   "metadata": {},
   "source": [
    "he Binomial and Poisson distributions are both commonly used in probability theory and statistics to model discrete events, but they differ in several key aspects.\n",
    "\n",
    "Number of trials:\n",
    "\n",
    "1. Binomial distribution: Fixed number of trials (n)\n",
    "2. Poisson distribution: Unlimited number of trials\n",
    "\n",
    "Probability of success:\n",
    "\n",
    "1. Binomial distribution: Constant probability of success (p) for each trial\n",
    "2. Poisson distribution: Average rate of occurrence (λ) rather than a fixed probability of success\\\n",
    "\n",
    "In summary, the Binomial distribution is used for situations where there is a fixed number of trials with two possible outcomes, while the Poisson distribution is used for modeling rare events or occurrences in a continuous or infinite setting with a focus on the rate of occurrence. The choice between these distributions depends on the specific characteristics of the data and the context of the problem you are trying to address\n"
   ]
  },
  {
   "cell_type": "markdown",
   "id": "b471fe65-1a7f-4f5e-a1b5-847851175bc4",
   "metadata": {},
   "source": [
    "## Q8. Generate a random sample of size 1000 from a Poisson distribution with mean 5 and calculate the sample mean and variance."
   ]
  },
  {
   "cell_type": "code",
   "execution_count": 8,
   "id": "1435a762-1c20-4151-95cf-5bfa963fe062",
   "metadata": {},
   "outputs": [
    {
     "name": "stdout",
     "output_type": "stream",
     "text": [
      "[ 5  4  2  6  4  5  6  6  3  7  5  6  3  7  7  5  8  6  7 10  5  1  6  6\n",
      "  4  5  8  9  5  6  5  1  8  5  6  6  3  5  7  6  3  7  5  5  5  7  4  9\n",
      "  4  4  8  2  2  9  9  4  7  4  3  6  8 10  1  4  8  3  8  4  4  3  6  3\n",
      "  7  5  0  6  4  2  9  3  7  5  5  4  4  2  4 11  2  3  3  8  3  5  6  4\n",
      "  8  4  6  6  1  3  4  9  4  6  5  6  8  4  4  4  7  3  8  5  4  3  3  5\n",
      "  4  5  5  7  4 10  4  4  4  7  5  6  5  5  3  3  2  4  3  8  4  2  7  3\n",
      "  3  3  4  4  2  4  8  5  3  7  1  6  3  5  1  3  9 12  6  4  6  2  4  8\n",
      "  7  7  6  4  5  6  5  6  6  6  4  4  3  3  0  5  2  9  8  8 10  5  1  5\n",
      "  3  5  3  5  5  4  9  5  8  2  6  7  6  8  5  7  4  5  6  5  1  7  5  2\n",
      "  5  4 10  5  5 11  2  7  5  4  4  1  5  2  5  5  4  6  6  5 11  7  6  8\n",
      "  6  3 10  3  5  7  4  3  2  4  6  5  5  3  4  3  3  6  3  3  5  7  2  4\n",
      "  9  8  4  6  5  6  6  5  5  8  9  4  8  5  4  4  3  2  5  4  3  7  3  2\n",
      "  3  5  9  3  3  6  4  6  6  3  5  3  4  3  6  3  8  3  9  6  3  8  7  5\n",
      "  3  4  5  4  6  4  6  3  7  6  3  7  7  5  7  4  5  4  2  4  2  7 10  2\n",
      "  3  8  7  5  5  6  6  4  4  6  2  4  5  4  4  7  8  5  6  4  7  6 10  7\n",
      "  5  7  9  6  7  6  3  4  5  4  4  5  8  4  4  4  2  2  4  6  6  6  7  3\n",
      "  5  6  7  4  8  7  3  7  4  7  6  7  6  7  6  5  6  8  5  3  5  6  3  7\n",
      "  7  6  5  5  9  1  3  3  5  5  7  6  3  4  8  6  7  1  3  6 12  7  7  3\n",
      "  6  5  7  2  5  3  4  6  7 11  5  4  6  4  6  7  7  4  4  2  3  7  3  7\n",
      "  7  5  6  5  2  6  6 10  4  5  5  5  5  1  5  6  3  8  3  4  5  6  7  7\n",
      "  3 10  3  5  4  5  5  7  5  4  6  4  4  2  4  8  4  6  3  6  5  5  6  9\n",
      "  6  3  3  6  8  6  3  7  6  2  6  8  5  4  5  4  5  5  6  6  4  8  2  8\n",
      "  6  5  5  5  8  8  3 11  8 11  0  2  9  8  4  4  9  1  6  5  4  5  5  6\n",
      "  7  3  8  1  3  8  4  1  4  4  3  4  3  3  7  3  5  2  9  5 10  5  5  7\n",
      "  7  4  5  4  5  7  6  4  1  6  3  8  6  2  5  0  6  4  1  6  5  3  5  5\n",
      "  1  3  3  7 10  6  7  5  1  2  3  3  2  3  6  7  2  7  4  4  7  4  5  2\n",
      " 10  8  2  4  5  6  5  6  5  1  2  4  6  2  5 11  5  5  9  5  3  6  3  6\n",
      "  7  6  5  3  4  4  5  8  3  9  6  3  8  5  7  4  3  6  7  6  5  4  7  2\n",
      "  5  5  3  4  6  7  3  9 13  3  4  3  2  3  3  3  7  4  8  8  5  5  4  6\n",
      "  4  4  7  4  5  5  9  7  6  8  5  4  6  3  4  5  4  6  8  2  7  3  4  6\n",
      "  4  2  6  4  7  6  4  2  3  7  4  7  2  4 10  3 13  8  3  2  4  3  5  1\n",
      "  6  4  0  5  2  7  5  1  4  5  5  2  3  5  2  3  8  3  4 11  5  2  4  3\n",
      "  5  4  7  3  5 10  3  5  4  6  7  2  6  2  3  8  6  5  3  5  2  3  3  2\n",
      "  4  5  5  3  6  6  7  2  9  4  5  8  4  6  3  4  3  2  5  4  5  7  5 10\n",
      "  9  3  3  7  5  3  3  7  2  2  4  2  2  5  5  4  7  7  4  2  2  5  9  5\n",
      "  5 11  3  5  4  6  2  5  5  5  6  7  8 10  4  4  6  4  5  4  8  3  4  5\n",
      "  7  5  5  5  9  4  5  5  5  2  6  7  5  2  6  6  8  7  2  3  7  2  6  4\n",
      "  7  4  9  4  3  9  5  2  7  5  3  3  8  1  4  8  0  6  2  2  7  5 10  8\n",
      "  5  4  7  6  4  6  5  5  5  3 10  1  4  5  5  5  6  7  5  6  6  3  3  6\n",
      "  7  4  6  7  7  1  5  1  7  4  2  4  2  2  9  5  5  6  3  6  8  6  6  6\n",
      "  9  6  8  4  2  7  6  3  9  3  6  4  6  4  6  6  6  9  6  7  5 13  1  9\n",
      "  6  8  3  3  5  4  6  7  5  6  4  7  8  8  3 10]\n",
      "5.086\n",
      "4.816603999999999\n"
     ]
    }
   ],
   "source": [
    "import numpy as np\n",
    "import pandas as pd\n",
    "\n",
    "sample = np.random.poisson(5,1000)\n",
    "print(sample)\n",
    "sample_mean = np.mean(sample)\n",
    "sample_variance = np.var(sample)\n",
    "print(sample_mean)\n",
    "print(sample_variance)"
   ]
  },
  {
   "cell_type": "markdown",
   "id": "8db620d6-787d-4f40-9f4d-5c05b30ed1d2",
   "metadata": {},
   "source": [
    "## Q9. How mean and variance are related in Binomial distribution and Poisson distribution?"
   ]
  },
  {
   "cell_type": "raw",
   "id": "dcae8f5d-9d9c-4116-8fc4-73379bf0e9df",
   "metadata": {},
   "source": [
    "In both the Binomial and Poisson distributions, the mean and variance are related. However, the exact relationship differs between the two distributions.\n",
    "\n",
    "\n",
    "1. Binomial Distribution\n",
    "\n",
    "In the Binomial distribution, the mean and variance are related by the following formula:\n",
    "\n",
    "μ = np\n",
    "σ^2 = npq\n",
    "\n",
    "Where:\n",
    "1. μ is the mean\n",
    "2. n is the number of trials\n",
    "3. p is the probability of success on each trial\n",
    "4. q is the probability of failure on each trial (q = 1 - p)\n",
    "\n",
    "\n",
    "As you can see, the mean is simply the number of trials (n) multiplied by the probability of success (p). This makes sense, as the mean is simply the average of all possible outcomes, and each outcome is either a success or a failure with probabilities p and q, respectively.\n",
    "\n",
    "The variance is also related to the mean, but it also depends on the probability of failure (q). This is because the variance measures the spread of the distribution, and a higher probability of failure means that there is more spread in the possible outcomes.\n",
    "\n",
    "2. Poisson Distribution\n",
    "\n",
    "In the Poisson distribution, the mean and variance are related by the following formula:\n",
    "\n",
    "μ = λ\n",
    "σ^2 = λ\n",
    "where:\n",
    "\n",
    "μ is the mean\n",
    "λ is the average rate of occurrence\n",
    "As you can see, the mean and variance are equal in the Poisson distribution. This is because the Poisson distribution is only concerned with the number of occurrences of an event, not the order in which they occur. As a result, the mean and variance are both simply equal to the average rate of occurrence."
   ]
  },
  {
   "cell_type": "markdown",
   "id": "edd27c25-3333-4699-bac1-930e8cb4d684",
   "metadata": {},
   "source": [
    "## Q10. In normal distribution with respect to mean position, where does the least frequent data appear?"
   ]
  },
  {
   "cell_type": "code",
   "execution_count": null,
   "id": "677ab8ac-f57d-4300-9d11-103b12ce21b5",
   "metadata": {},
   "outputs": [],
   "source": []
  }
 ],
 "metadata": {
  "kernelspec": {
   "display_name": "Python 3 (ipykernel)",
   "language": "python",
   "name": "python3"
  },
  "language_info": {
   "codemirror_mode": {
    "name": "ipython",
    "version": 3
   },
   "file_extension": ".py",
   "mimetype": "text/x-python",
   "name": "python",
   "nbconvert_exporter": "python",
   "pygments_lexer": "ipython3",
   "version": "3.10.8"
  }
 },
 "nbformat": 4,
 "nbformat_minor": 5
}
