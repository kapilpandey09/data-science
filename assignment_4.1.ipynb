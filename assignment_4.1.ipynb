{
 "cells": [
  {
   "cell_type": "markdown",
   "id": "5a239654-dafe-45c5-8259-c825694fd34f",
   "metadata": {},
   "source": [
    "Q1, Create a vehicle class with an init method having instance variables as name_of_vehicle, max_speed\n",
    "and average_of_vehicle."
   ]
  },
  {
   "cell_type": "markdown",
   "id": "bed82000-da5f-4818-b326-22d0494b3143",
   "metadata": {},
   "source": [
    "Answer:"
   ]
  },
  {
   "cell_type": "code",
   "execution_count": 10,
   "id": "21bbbd83-8432-4ead-804e-0980733489ef",
   "metadata": {},
   "outputs": [
    {
     "name": "stdout",
     "output_type": "stream",
     "text": [
      "car Max speed: 3204 average speed: 325\n"
     ]
    }
   ],
   "source": [
    "class Vehicle:\n",
    "    def __init__(self, name_of_vehicle , max_speed , average_of_vehicle):\n",
    "        self.name_vehicle = name_of_vehicle\n",
    "        self.max_speed = max_speed\n",
    "        self.average_speed = average_of_vehicle\n",
    "        \n",
    "car = Vehicle(\"car\", 3204,325)\n",
    "print(f\"{car.name_vehicle} Max speed: {car.max_speed} average speed: {car.average_speed}\")"
   ]
  },
  {
   "cell_type": "raw",
   "id": "d84563c6-56bb-49c2-9b1e-5c65826ce097",
   "metadata": {},
   "source": []
  },
  {
   "cell_type": "markdown",
   "id": "2e96b76d-5070-4ddb-b586-f0f39a6d6d64",
   "metadata": {},
   "source": [
    "Q2. Create a child class car from the vehicle class created in Que 1, which will inherit the vehicle class.\n",
    "Create a method named seating_capacity which takes capacity as an argument and returns the name of\n",
    "the vehicle and its seating capacity."
   ]
  },
  {
   "cell_type": "code",
   "execution_count": 1,
   "id": "1fd1c0f9-3fba-4cdb-b474-b9873a0c60d4",
   "metadata": {},
   "outputs": [
    {
     "data": {
      "text/plain": [
       "'name of vehicle:tesla and is capacity : 5'"
      ]
     },
     "execution_count": 1,
     "metadata": {},
     "output_type": "execute_result"
    }
   ],
   "source": [
    "class Vehicle:\n",
    "    def __init__(self, name_of_vehicle , max_speed , average_of_vehicle):\n",
    "        self.name_vehicle = name_of_vehicle\n",
    "        self.max_speed = max_speed\n",
    "        self.average_speed = average_of_vehicle\n",
    "        \n",
    "        \n",
    "class car(Vehicle):\n",
    "    def seating_capacity(self,capacity):\n",
    "        return f\"name of vehicle:{self.name_vehicle} and is capacity : {capacity}\"\n",
    "\n",
    "vehicle = car(\"tesla\", 234,253)\n",
    "vehicle.seating_capacity(5)"
   ]
  },
  {
   "cell_type": "raw",
   "id": "2ed67e94-bdcc-4add-988c-757b4911b4c3",
   "metadata": {},
   "source": []
  },
  {
   "cell_type": "markdown",
   "id": "2d42b9bb-8931-4323-bdf9-594e8f5fb4cd",
   "metadata": {},
   "source": [
    "Q3. What is multiple inheritance? Write a python code to demonstrate multiple inheritance."
   ]
  },
  {
   "cell_type": "markdown",
   "id": "b752c9a0-c0f7-4a29-a899-cc1ab74e38c5",
   "metadata": {},
   "source": [
    "Answer:"
   ]
  },
  {
   "cell_type": "raw",
   "id": "ac26da17-8ff8-4516-ac31-e22ff2be889c",
   "metadata": {},
   "source": [
    "inherit attributes  methods from more than one parent class. In Python, you can create a class that inherits from multiple parent classes, allowing it to access and utilize the attributes and methods from all of its parent classes."
   ]
  },
  {
   "cell_type": "code",
   "execution_count": 5,
   "id": "bcdebfd2-5c43-4969-ba72-7b7819f029f9",
   "metadata": {},
   "outputs": [
    {
     "name": "stdout",
     "output_type": "stream",
     "text": [
      "This is a third class\n",
      "This is a second class\n",
      "this is  a first class\n"
     ]
    }
   ],
   "source": [
    "class class1:\n",
    "    def method1(self):\n",
    "        print(\"this is  a first class\")\n",
    "class class2:\n",
    "    def method2(self):\n",
    "        print(\"This is a second class\")\n",
    "class class3(class1, class2):\n",
    "    def method3(self):\n",
    "        print(\"This is a third class\")\n",
    "        \n",
    "class_method = class3()\n",
    "class_method.method3()\n",
    "class_method.method2()\n",
    "class_method.method1()\n",
    "#this is a multiple inheritance class3 called class2 and class1 to method\n",
    "\n",
    "    "
   ]
  },
  {
   "cell_type": "raw",
   "id": "d0071f67-f5d9-4d25-9bf8-c222a2ba186f",
   "metadata": {},
   "source": []
  },
  {
   "cell_type": "markdown",
   "id": "d1e055fc-35e2-4150-a594-c986186183dd",
   "metadata": {},
   "source": [
    "Q4. What are getter and setter in python? Create a class and create a getter and a setter method in this\n",
    "class."
   ]
  },
  {
   "cell_type": "markdown",
   "id": "e3429abe-a863-4154-82d0-642b2a6f9822",
   "metadata": {},
   "source": [
    "Answer:"
   ]
  },
  {
   "cell_type": "markdown",
   "id": "4a82c53c-0b92-4c64-8d7f-ba5501ac5054",
   "metadata": {},
   "source": [
    "\n",
    "Getter and setter methods are used in object-oriented programming to control access to an object's attributes (instance variables). They provide a way to get (retrieve) and set (update) the values of these attributes while enforcing certain rules or validations if needed."
   ]
  },
  {
   "cell_type": "code",
   "execution_count": 1,
   "id": "178672b3-46ce-44e6-9c4d-2a0201e97232",
   "metadata": {},
   "outputs": [
    {
     "name": "stdout",
     "output_type": "stream",
     "text": [
      "Initial name: Alice\n",
      "Updated name: Bob\n",
      "Initial age: 20\n",
      "Age cannot be negative.\n",
      "Updated age: 20\n"
     ]
    }
   ],
   "source": [
    "class Student:\n",
    "    def __init__(self, name, age):\n",
    "        self._name = name  # Use a single underscore to indicate a \"protected\" attribute\n",
    "        self._age = age\n",
    "\n",
    "    # Getter method for the 'name' attribute\n",
    "    def get_name(self):\n",
    "        return self._name\n",
    "\n",
    "    # Setter method for the 'name' attribute\n",
    "    def set_name(self, name):\n",
    "        if len(name) > 2:\n",
    "            self._name = name\n",
    "        else:\n",
    "            print(\"Name should be at least 3 characters long.\")\n",
    "\n",
    "    # Getter method for the 'age' attribute\n",
    "    def get_age(self):\n",
    "        return self._age\n",
    "\n",
    "    # Setter method for the 'age' attribute\n",
    "    def set_age(self, age):\n",
    "        if age >= 0:\n",
    "            self._age = age\n",
    "        else:\n",
    "            print(\"Age cannot be negative.\")\n",
    "\n",
    "# Create an instance of the Student class\n",
    "student = Student(\"Alice\", 20)\n",
    "\n",
    "# Using getter and setter methods\n",
    "print(\"Initial name:\", student.get_name())\n",
    "student.set_name(\"Bob\")\n",
    "print(\"Updated name:\", student.get_name())\n",
    "\n",
    "print(\"Initial age:\", student.get_age())\n",
    "student.set_age(-5)\n",
    "print(\"Updated age:\", student.get_age())   "
   ]
  },
  {
   "cell_type": "code",
   "execution_count": null,
   "id": "81c257c1-78f9-4d42-b050-f7feb7fd10ca",
   "metadata": {},
   "outputs": [],
   "source": []
  },
  {
   "cell_type": "markdown",
   "id": "6b8c9441-67ca-4c16-9129-b8b906f42a44",
   "metadata": {},
   "source": [
    "Q5.What is method overriding in python? Write a python code to demonstrate method overriding."
   ]
  },
  {
   "cell_type": "markdown",
   "id": "1539ad7e-c0cf-4281-b3c2-ab4d5ec947ce",
   "metadata": {},
   "source": [
    "Answer:"
   ]
  },
  {
   "cell_type": "markdown",
   "id": "86b2ff8f-5286-4fbb-a6fa-edc7e044d532",
   "metadata": {},
   "source": [
    "where a subclass provides a specific implementation for a method that is already defined in its superclass. When a method in a subclass has the same name, parameters, and return type as a method in its superclass, it is said to override the superclass method."
   ]
  },
  {
   "cell_type": "code",
   "execution_count": 18,
   "id": "a11cb8d3-d370-4e44-a3a4-7105a3ee89d0",
   "metadata": {},
   "outputs": [
    {
     "name": "stdout",
     "output_type": "stream",
     "text": [
      "this is  a employee of goggle\n",
      "this is employye 2\n",
      "this is employee\n",
      "this is employee of tata\n"
     ]
    }
   ],
   "source": [
    "class company:\n",
    "    \n",
    "    def employee1(self):\n",
    "        print(\"this is employee\")\n",
    "    def employee2(self):\n",
    "        print(\"this is employye 2\")\n",
    "              \n",
    "class company_goggle(company):\n",
    "              def employee1(self):\n",
    "                  print(\"this is  a employee of goggle\")\n",
    "class company_tata(company):\n",
    "              def employee2(self):\n",
    "                  print(\"this is employee of tata\")\n",
    "              \n",
    "goggle = company_goggle()\n",
    "tata = company_tata()\n",
    "goggle.employee1()\n",
    "goggle.employee2()\n",
    "tata.employee1()\n",
    "tata.employee2()\n",
    "\n",
    "    \n",
    "        "
   ]
  },
  {
   "cell_type": "code",
   "execution_count": null,
   "id": "cb5fd54c-b71c-44e7-bca5-c70f09667c31",
   "metadata": {},
   "outputs": [],
   "source": []
  }
 ],
 "metadata": {
  "kernelspec": {
   "display_name": "Python 3 (ipykernel)",
   "language": "python",
   "name": "python3"
  },
  "language_info": {
   "codemirror_mode": {
    "name": "ipython",
    "version": 3
   },
   "file_extension": ".py",
   "mimetype": "text/x-python",
   "name": "python",
   "nbconvert_exporter": "python",
   "pygments_lexer": "ipython3",
   "version": "3.10.8"
  }
 },
 "nbformat": 4,
 "nbformat_minor": 5
}
