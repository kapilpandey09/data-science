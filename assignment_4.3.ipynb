{
 "cells": [
  {
   "cell_type": "markdown",
   "id": "327a454c-832e-48d3-b843-1720fbe4ea34",
   "metadata": {},
   "source": [
    "Q1. What is Abstraction in OOps? Explain with an example."
   ]
  },
  {
   "cell_type": "markdown",
   "id": "393e8a05-6097-4d7a-bd1e-a3d0bf70100a",
   "metadata": {},
   "source": [
    "\n",
    "Abstraction is one of the four fundamental principles of Object-Oriented Programming (OOP), along with encapsulation, inheritance, and polymorphism. Abstraction is the process of simplifying complex reality by modeling classes based on the essential properties and behaviors an object should possess, while hiding the unnecessary details."
   ]
  },
  {
   "cell_type": "markdown",
   "id": "b9965cd0-eec2-4554-8eed-0ba66c549869",
   "metadata": {},
   "source": [
    "Abstraction is a function of abc method and use this show example"
   ]
  },
  {
   "cell_type": "code",
   "execution_count": 1,
   "id": "e27a1ddd-fbc5-452e-ad81-9ef744dfed1e",
   "metadata": {},
   "outputs": [],
   "source": [
    "import abc\n",
    "class bank_of_account:\n",
    "    @abc.abstractmethod\n",
    "    def Holder_name(self, name ):\n",
    "        pass\n",
    "    @abc.abstractmethod\n",
    "    def account_number(self, acco_num):\n",
    "        pass\n",
    "    @abc.abstractmethod\n",
    "    def bank_balance(self, balance):\n",
    "        pass\n",
    "\n",
    "class client_account(bank_of_account):\n",
    "    \n",
    "    def account_number(self, acco_num):\n",
    "        self.acco_num = acco_num\n",
    "        return f\"client account number is {self.acco_num}\"\n",
    "\n",
    "class client_name_balance(bank_of_account):\n",
    "    \n",
    "    def Holder_name(self, name):\n",
    "        self.name = name\n",
    "        return f\"client name is {self.name}\"\n",
    "    def bank_balance(self, balance):\n",
    "        self.balance = balance\n",
    "        return f\" THis is a bank balance {self.balance}\"\n",
    "    \n",
    "    \n",
    "    \n",
    "        \n",
    "        \n",
    "    "
   ]
  },
  {
   "cell_type": "code",
   "execution_count": 8,
   "id": "4784b12a-79f5-4dcf-b3b1-4a2327d0d8c0",
   "metadata": {},
   "outputs": [
    {
     "data": {
      "text/plain": [
       "'client name is kapil'"
      ]
     },
     "execution_count": 8,
     "metadata": {},
     "output_type": "execute_result"
    }
   ],
   "source": [
    "client_1 = client_name_balance()\n",
    "client_1.Holder_name(\"kapil\")\n"
   ]
  },
  {
   "cell_type": "code",
   "execution_count": 7,
   "id": "7c444caa-ed1d-4b58-9c4e-5e9f721b164a",
   "metadata": {},
   "outputs": [
    {
     "data": {
      "text/plain": [
       "' THis is a bank balance 100000000000000'"
      ]
     },
     "execution_count": 7,
     "metadata": {},
     "output_type": "execute_result"
    }
   ],
   "source": [
    "client_1.bank_balance(100000000000000)\n"
   ]
  },
  {
   "cell_type": "code",
   "execution_count": 9,
   "id": "27cd51bc-3335-4c22-98d5-68d248615777",
   "metadata": {},
   "outputs": [
    {
     "data": {
      "text/plain": [
       "'client account number is 3784683142834'"
      ]
     },
     "execution_count": 9,
     "metadata": {},
     "output_type": "execute_result"
    }
   ],
   "source": [
    "client_1 = client_account()\n",
    "client_1.account_number(3784683142834)"
   ]
  },
  {
   "cell_type": "code",
   "execution_count": null,
   "id": "db151e93-9f37-49d7-b534-cdad7bbab44e",
   "metadata": {},
   "outputs": [],
   "source": []
  },
  {
   "cell_type": "markdown",
   "id": "d9de51f8-c087-4839-8104-f7f1f645b7f5",
   "metadata": {},
   "source": [
    "Q2. Differentiate between Abstraction and Encapsulation. Explain with an example."
   ]
  },
  {
   "cell_type": "markdown",
   "id": "7fb55922-51dd-4aee-8ae1-7cfc5263e8bc",
   "metadata": {},
   "source": [
    "Answer:"
   ]
  },
  {
   "cell_type": "raw",
   "id": "f7a8924b-6747-4fab-b789-1fbf9eab5e38",
   "metadata": {},
   "source": [
    "Abstraction method is a any model Skeleton and other class define them this method and i define method method is similify \n",
    "\n",
    "Encapsulation is a inilization method and do inilization method hide system which hight prefare serquirety system "
   ]
  },
  {
   "cell_type": "code",
   "execution_count": 9,
   "id": "ef3f2029-5868-4b2d-bfc1-6ee9e266ea25",
   "metadata": {},
   "outputs": [
    {
     "data": {
      "text/plain": [
       "\"This is a press 'esc' close the game\""
      ]
     },
     "execution_count": 9,
     "metadata": {},
     "output_type": "execute_result"
    }
   ],
   "source": [
    "import abc\n",
    "class car:\n",
    "    @abc.abstractmethod\n",
    "    def speed(self):\n",
    "        pass\n",
    "    @abc.abstractmethod\n",
    "    def move(self):\n",
    "        pass\n",
    "    @abc.abstractmethod\n",
    "    def control(self):\n",
    "        pass\n",
    "class car_move(car):\n",
    "    def move(self):\n",
    "        return \"This is a move left\"\n",
    "class car_speed(car):\n",
    "    def speed(self):\n",
    "        return \"This is a speed 300km/hr \"\n",
    "class car_control(car):\n",
    "    def control(self):\n",
    "        return \"This is a press 'esc' close the game\"\n",
    "car_object = car_control()\n",
    "car_object.control()\n"
   ]
  },
  {
   "cell_type": "code",
   "execution_count": 10,
   "id": "feebc2a6-e2ac-49bc-b309-4f59f58dc626",
   "metadata": {},
   "outputs": [
    {
     "data": {
      "text/plain": [
       "'This is a move left'"
      ]
     },
     "execution_count": 10,
     "metadata": {},
     "output_type": "execute_result"
    }
   ],
   "source": [
    "car_move = car_move()\n",
    "car_move.move()\n"
   ]
  },
  {
   "cell_type": "code",
   "execution_count": 11,
   "id": "8f3d81ef-efe4-46d8-a7f7-219875a77fb2",
   "metadata": {},
   "outputs": [
    {
     "data": {
      "text/plain": [
       "'This is a speed 300km/hr '"
      ]
     },
     "execution_count": 11,
     "metadata": {},
     "output_type": "execute_result"
    }
   ],
   "source": [
    "car_speed = car_speed()\n",
    "car_speed.speed()\n"
   ]
  },
  {
   "cell_type": "code",
   "execution_count": null,
   "id": "25476334-144c-4af2-bcff-24864fffa7cb",
   "metadata": {},
   "outputs": [],
   "source": []
  },
  {
   "cell_type": "code",
   "execution_count": 37,
   "id": "dfcf2849-485f-4ea5-a099-2ceff9d15773",
   "metadata": {},
   "outputs": [
    {
     "data": {
      "text/plain": [
       "'This is a previous marks :56 This is a change marks : 98 '"
      ]
     },
     "execution_count": 37,
     "metadata": {},
     "output_type": "execute_result"
    }
   ],
   "source": [
    "class teacher_portal:\n",
    "    def __init__(self, student_name, student_marks):\n",
    "        self.__student_name =  student_name\n",
    "        self.__student_marks = student_marks # Encapsulated attribute\n",
    "    def set_marks(self, marks):\n",
    "        self.__marks = marks\n",
    "        return f\"This is a previous marks :{self.__student_marks} This is a change marks : {self.__marks} \"\n",
    "    def get_marks(self):\n",
    "        return f\"This is a student marks : {self.__marks}\"\n",
    "\n",
    "student_1 = teacher_portal('kapil', 56)\n",
    "# This is a objects of class store data main memory and process is terminate then this data store second memory \n",
    "student_1.set_marks(98)"
   ]
  },
  {
   "cell_type": "code",
   "execution_count": 38,
   "id": "2c3717f5-c33f-4bcd-b79d-7ea4b0ab5c7f",
   "metadata": {},
   "outputs": [
    {
     "data": {
      "text/plain": [
       "'This is a student marks : 98'"
      ]
     },
     "execution_count": 38,
     "metadata": {},
     "output_type": "execute_result"
    }
   ],
   "source": [
    "student_1.get_marks()"
   ]
  },
  {
   "cell_type": "code",
   "execution_count": null,
   "id": "6241b080-736b-4f2a-8f7f-03296ba45d19",
   "metadata": {},
   "outputs": [],
   "source": []
  },
  {
   "cell_type": "markdown",
   "id": "1eeb64ac-dbbd-4d29-945c-0a25ddd055c4",
   "metadata": {},
   "source": [
    "Q3. What is abc module in python? Why is it used?"
   ]
  },
  {
   "cell_type": "markdown",
   "id": "bb272cfd-04a5-430f-9a27-b19ba048230b",
   "metadata": {},
   "source": [
    "The abc module in Python stands for \"Abstract Base Classes.\" It is a built-in module in the Python Standard Library that provides tools for working with abstract base classes. Abstract base classes (ABCs) are a way to define abstract interfaces or common behaviors for classes. The abc module is used to create and work with these abstract base classes. Here's a more detailed explanation of the abc module and its purpose:"
   ]
  },
  {
   "cell_type": "markdown",
   "id": "b2eefc16-6b4a-4162-8843-309171cb2d8a",
   "metadata": {},
   "source": [
    "The primary purpose of the abc module is to allow you to define abstract base classes."
   ]
  },
  {
   "cell_type": "markdown",
   "id": "a13b6985-e473-4c8c-820d-8f8fd4955698",
   "metadata": {},
   "source": [
    "An abstract base class is a class that cannot be instantiated directly; instead, it serves as a blueprint or template for other classes."
   ]
  },
  {
   "cell_type": "markdown",
   "id": "0521659f-16b5-4cfa-a2c1-e64c22682752",
   "metadata": {},
   "source": [
    "parent class or subclass do not direct access by a  abc method this is a provides a security"
   ]
  },
  {
   "cell_type": "code",
   "execution_count": null,
   "id": "4afef767-288d-43a6-b335-af58ab13ccf0",
   "metadata": {},
   "outputs": [],
   "source": []
  },
  {
   "cell_type": "markdown",
   "id": "85e86777-37d9-4a03-99e6-312525ddd1c5",
   "metadata": {},
   "source": [
    "Q4. How can we achieve data abstraction?"
   ]
  },
  {
   "cell_type": "markdown",
   "id": "54a2d34f-d2b3-4064-b2cf-a337f482022a",
   "metadata": {},
   "source": [
    "An abstract class is a class that cannot be instantiated. It can only be inherited from. An abstract class can contain abstract methods, which are methods that do not have any implementation. The implementation of the abstract methods must be provided by the subclasses of the abstract class.\n",
    "\n",
    "An interface is a contract that defines the behavior of an object. An interface cannot contain any data members. It can only contain method declarations. The implementation of the methods in an interface must be provided by the classes that implement the interface."
   ]
  },
  {
   "cell_type": "code",
   "execution_count": null,
   "id": "492d8765-a9c3-46ea-a93d-0f47c42ecb62",
   "metadata": {},
   "outputs": [],
   "source": []
  },
  {
   "cell_type": "markdown",
   "id": "ed068fb4-7562-414e-a893-a8b9b740e357",
   "metadata": {},
   "source": [
    "Q5. Can we create an instance of an abstract class? Explain your answer."
   ]
  },
  {
   "cell_type": "markdown",
   "id": "bb090008-2df5-4cc6-9e3b-ee62c7434236",
   "metadata": {},
   "source": [
    "\n",
    "No, you cannot create an instance of an abstract class in most object-oriented programming languages, including Python. Abstract classes are meant to serve as blueprints or templates for other classes (concrete subclasses) to inherit from and implement. They cannot be instantiated directly because they often contain one or more abstract methods that lack implementation."
   ]
  },
  {
   "cell_type": "code",
   "execution_count": null,
   "id": "e60a62cd-4d93-4c7f-9972-13fc8cb47c4e",
   "metadata": {},
   "outputs": [],
   "source": []
  }
 ],
 "metadata": {
  "kernelspec": {
   "display_name": "Python 3 (ipykernel)",
   "language": "python",
   "name": "python3"
  },
  "language_info": {
   "codemirror_mode": {
    "name": "ipython",
    "version": 3
   },
   "file_extension": ".py",
   "mimetype": "text/x-python",
   "name": "python",
   "nbconvert_exporter": "python",
   "pygments_lexer": "ipython3",
   "version": "3.10.8"
  }
 },
 "nbformat": 4,
 "nbformat_minor": 5
}
