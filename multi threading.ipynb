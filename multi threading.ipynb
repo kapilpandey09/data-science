{
 "cells": [
  {
   "cell_type": "markdown",
   "id": "7faa3f70-7021-47c3-8f79-73ee2056cb3e",
   "metadata": {},
   "source": [
    "Q1. What is multithreading in python? hy is it used? Name the module used to handle threads in python"
   ]
  },
  {
   "cell_type": "markdown",
   "id": "1e582f88-c394-4ce9-9c64-74d3cf765584",
   "metadata": {},
   "source": [
    "Answer. Multithreading in Python refers to the ability of a program to execute multiple threads (smaller units of a process) simultaneously. It is particularly useful in scenarios where tasks can be performed concurrently, leading to more efficient execution, especially for I/O-bound tasks.\n",
    "\n",
    "Why Multithreading is Used\n",
    "Concurrency: It allows multiple tasks to be performed at the same time, which can improve the efficiency of programs, particularly in I/O-bound operations like reading/writing files or handling network requests.\n",
    "Responsiveness: In applications with user interfaces, multithreading can keep the interface responsive by performing time-consuming operations in the background.\n",
    "Resource Sharing: Threads within the same process share memory and resources, which can lead to better performance compared to separate processes.\n",
    "Module Used to Handle Threads\n",
    "The primary module used to handle threads in Python is the threading module. This module provides a higher-level interface for working with threads compared to the older 'thread' module."
   ]
  },
  {
   "cell_type": "code",
   "execution_count": 2,
   "id": "a66385aa-8a9f-402e-8243-ca53a1023d67",
   "metadata": {},
   "outputs": [
    {
     "name": "stdout",
     "output_type": "stream",
     "text": [
      "0\n",
      "1\n",
      "2\n",
      "3\n",
      "4\n"
     ]
    }
   ],
   "source": [
    "import threading\n",
    "\n",
    "def print_numbers():\n",
    "    for i in range(5):\n",
    "        print(i)\n",
    "\n",
    "thread = threading.Thread(target=print_numbers)\n",
    "thread.start()\n",
    "thread.join()  # Wait for the thread to complete\n"
   ]
  },
  {
   "cell_type": "code",
   "execution_count": 3,
   "id": "cc250899-1d16-4e95-ae12-4513f845d2cc",
   "metadata": {},
   "outputs": [
    {
     "name": "stdout",
     "output_type": "stream",
     "text": [
      "This is a thread-safe operation\n"
     ]
    }
   ],
   "source": [
    "lock = threading.Lock()\n",
    "\n",
    "def print_with_lock():\n",
    "    with lock:\n",
    "        print(\"This is a thread-safe operation\")\n",
    "\n",
    "thread = threading.Thread(target=print_with_lock)\n",
    "thread.start()\n"
   ]
  },
  {
   "cell_type": "code",
   "execution_count": 4,
   "id": "be9e88bb-9293-466f-9028-b39c83ea29a3",
   "metadata": {},
   "outputs": [
    {
     "name": "stdout",
     "output_type": "stream",
     "text": [
      "Waiting for event...\n",
      "Event occurred!\n"
     ]
    }
   ],
   "source": [
    "event = threading.Event()\n",
    "\n",
    "def wait_for_event():\n",
    "    print(\"Waiting for event...\")\n",
    "    event.wait()\n",
    "    print(\"Event occurred!\")\n",
    "\n",
    "thread = threading.Thread(target=wait_for_event)\n",
    "thread.start()\n",
    "\n",
    "event.set()  # Signal the event\n"
   ]
  },
  {
   "cell_type": "code",
   "execution_count": 5,
   "id": "b37aac12-2a83-4587-8947-c26e81e65cf9",
   "metadata": {},
   "outputs": [
    {
     "name": "stdout",
     "output_type": "stream",
     "text": [
      "Condition met, thread proceeding\n"
     ]
    }
   ],
   "source": [
    "condition = threading.Condition()\n",
    "\n",
    "def thread_task():\n",
    "    with condition:\n",
    "        condition.wait()\n",
    "        print(\"Condition met, thread proceeding\")\n",
    "\n",
    "thread = threading.Thread(target=thread_task)\n",
    "thread.start()\n",
    "\n",
    "with condition:\n",
    "    condition.notify()  # Notify the waiting thread\n"
   ]
  },
  {
   "cell_type": "markdown",
   "id": "85ef9224-104b-4924-8e43-e1556b3ecd24",
   "metadata": {},
   "source": [
    "Limitations\n",
    "One key limitation in Python is the Global Interpreter Lock (GIL), which allows only one thread to execute Python bytecode at a time. This means that multithreading is not effective for CPU-bound tasks in CPython, the standard Python implementation. However, it can still be beneficial for I/O-bound tasks and can be combined with multiprocessing for CPU-bound tasks.\n",
    "\n",
    "In summary, multithreading in Python, managed through the threading module, is a powerful tool for concurrent execution, improving the efficiency and responsiveness of programs, particularly for I/O-bound operations."
   ]
  },
  {
   "cell_type": "markdown",
   "id": "e5f1cf22-656c-45ed-bee7-dfac928cca66",
   "metadata": {},
   "source": [
    "## Q2. Why threading module used? rite the use of the following functions:\n",
    "1. activeCount()\n",
    "2. currentThread()\n",
    "3. enumerate()"
   ]
  },
  {
   "cell_type": "markdown",
   "id": "dcddb3e3-6478-4bdb-b72d-19c8a6e5cff4",
   "metadata": {},
   "source": [
    "The threading module in Python provides a way to create and manage threads. Threads are lightweight units of execution that allow your program to perform multiple tasks concurrently. This can be beneficial for tasks that are:\n",
    "\n",
    "I/O-bound: These tasks involve waiting for external resources, such as network requests or disk access. By using threads, your program can continue processing other tasks while waiting for I/O operations to complete, improving overall responsiveness.\n",
    "CPU-bound (limited): If you have multiple CPU cores and your tasks can be effectively divided into independent units, threading can potentially improve performance by utilizing multiple cores for parallel execution. However, it's important to note that the Global Interpreter Lock (GIL) in Python can limit the effectiveness of threading for CPU-bound tasks in some cases.\n",
    "Common Use Cases for Threading:\n",
    "\n",
    "Downloading multiple files simultaneously\n",
    "Updating a GUI while performing background calculations\n",
    "Simulating parallel processes\n",
    "Web scraping with concurrent requests"
   ]
  },
  {
   "cell_type": "code",
   "execution_count": 8,
   "id": "e0006362-e1b2-4fc0-8bcc-51ba06c69a69",
   "metadata": {},
   "outputs": [
    {
     "name": "stderr",
     "output_type": "stream",
     "text": [
      "/tmp/ipykernel_77/1353618425.py:9: DeprecationWarning: currentThread() is deprecated, use current_thread() instead\n",
      "  thread = threading.currentThread()\n"
     ]
    },
    {
     "name": "stdout",
     "output_type": "stream",
     "text": [
      "Current thread name: MainThread\n",
      "Current thread identifier: 140305048950592\n",
      "Active threads:\n",
      "- Thread name: MainThread\n",
      "  Thread identifier: 140305048950592\n",
      "- Thread name: IOPub\n",
      "  Thread identifier: 140304904615488\n",
      "- Thread name: Heartbeat\n",
      "  Thread identifier: 140304896222784\n",
      "- Thread name: Thread-3 (_watch_pipe_fd)\n",
      "  Thread identifier: 140304871044672\n",
      "- Thread name: Thread-4 (_watch_pipe_fd)\n",
      "  Thread identifier: 140304862651968\n",
      "- Thread name: Control\n",
      "  Thread identifier: 140304854259264\n",
      "- Thread name: IPythonHistorySavingThread\n",
      "  Thread identifier: 140304501962304\n",
      "- Thread name: Thread-2\n",
      "  Thread identifier: 140304493569600\n",
      "- Thread name: Thread-12 (my_task)\n",
      "  Thread identifier: 140304468391488\n",
      "- Thread name: Thread-13 (my_task)\n",
      "  Thread identifier: 140304485176896\n",
      "- Thread name: Thread-14 (my_task)\n",
      "  Thread identifier: 140304476784192\n",
      "All threads finished!\n"
     ]
    }
   ],
   "source": [
    "import threading\n",
    "import time\n",
    "\n",
    "def my_task():\n",
    "    # Simulate some work\n",
    "    time.sleep(2)\n",
    "\n",
    "def print_thread_info():\n",
    "    thread = threading.currentThread()\n",
    "    print(f\"Current thread name: {thread.name}\")\n",
    "    print(f\"Current thread identifier: {thread.ident}\")\n",
    "\n",
    "def print_all_threads():\n",
    "    print(\"Active threads:\")\n",
    "    for thread in threading.enumerate():\n",
    "        print(f\"- Thread name: {thread.name}\")\n",
    "        print(f\"  Thread identifier: {thread.ident}\")\n",
    "\n",
    "# Create and start threads\n",
    "threads = []\n",
    "for _ in range(3):\n",
    "    thread = threading.Thread(target=my_task)\n",
    "    thread.start()\n",
    "    threads.append(thread)\n",
    "\n",
    "# Print information about the current thread\n",
    "print_thread_info()\n",
    "\n",
    "# Print information about all active threads\n",
    "print_all_threads()\n",
    "\n",
    "# Wait for threads to finish\n",
    "for thread in threads:\n",
    "    thread.join()\n",
    "\n",
    "print(\"All threads finished!\")\n"
   ]
  },
  {
   "cell_type": "markdown",
   "id": "26ffbe48-5f73-4740-aa3a-57c4b915ef56",
   "metadata": {},
   "source": [
    "## Q3. Explain the following functions\n",
    "1. run()\n",
    "2. start()\n",
    "3. join()\n",
    "4. isAlive()"
   ]
  },
  {
   "cell_type": "markdown",
   "id": "6ceea523-18cb-4a40-9bff-053d6ff472b3",
   "metadata": {},
   "source": [
    "These functions are all part of the threading module in Python and are crucial for managing threads. Let's break down each function and its purpose:\n",
    "\n",
    "1. run()\n",
    "\n",
    "Description: This is the core function that defines the work a thread will perform. It contains the actual code that the thread will execute.\n",
    "How it's used: You define the run() method in your thread class or subclass. It should not be called directly, but rather invoked when the thread starts.\n",
    "Important Note: You cannot directly override the run() method in the base Thread class from threading. You need to create a subclass of Thread and define your custom run() method within that subclass.\n",
    "\n",
    "2. start()\n",
    "\n",
    "Description: This function is used to start the execution of the thread. It does the following:\n",
    "Allocates resources to the thread.\n",
    "Schedules the thread to be run by the operating system.\n",
    "Invokes the run() method of the thread object.\n",
    "How it's used: Once you've defined your thread class and its run() method, call the start() method on the thread object to initiate its execution.\n",
    "Important Note: You can only call start() once on a thread object. Calling it multiple times will raise a RuntimeError.\n",
    "\n",
    "3. join()\n",
    "\n",
    "Description: This function makes the calling thread wait for the target thread to terminate before continuing its execution. It essentially synchronizes the execution of two threads.\n",
    "How it's used: Call the join() method on the target thread object from the calling thread.\n",
    "You can optionally specify a timeout value (in seconds) as an argument to join(). If the target thread doesn't finish within the specified time, the calling thread will continue execution regardless.\n",
    "Benefits:\n",
    "Ensures the completion of the target thread before the calling thread proceeds.\n",
    "Can be used to synchronize operations between threads.\n",
    "\n",
    "4. isAlive()\n",
    "\n",
    "Description: This function checks if the thread is still alive (actively running).\n",
    "How it's used: Call the isAlive() method on the thread object.\n",
    "Return value: Returns True if the thread is still running, and False if it has terminated.\n",
    "Benefits:\n",
    "Allows you to check if a thread is still executing before performing further actions.\n",
    "Can be used to determine when to clean up resources associated with the thread."
   ]
  },
  {
   "cell_type": "markdown",
   "id": "19b904bb-277e-48d0-aa9e-1b7166a17993",
   "metadata": {},
   "source": [
    "## Q4. Write a python program to create two threads. Thread one must print the list of squares and thread\n",
    "two must print the list of cubes"
   ]
  },
  {
   "cell_type": "code",
   "execution_count": 10,
   "id": "83d4416a-9493-4e80-b0e6-69089c683453",
   "metadata": {},
   "outputs": [
    {
     "name": "stdin",
     "output_type": "stream",
     "text": [
      "Enter the number up to which you want to print squares and cubes:  5\n"
     ]
    },
    {
     "name": "stdout",
     "output_type": "stream",
     "text": [
      "Square of 1: 1\n",
      "Square of 2: 4\n",
      "Square of 3: 9\n",
      "Square of 4: 16\n",
      "Square of 5: 25\n",
      "Cube of 1: 1\n",
      "Cube of 2: 8\n",
      "Cube of 3: 27\n",
      "Cube of 4: 64\n",
      "Cube of 5: 125\n",
      "All calculations finished!\n"
     ]
    }
   ],
   "source": [
    "import threading\n",
    "\n",
    "def print_squares(num):\n",
    "  \"\"\"Prints the squares of numbers from 1 to num.\"\"\"\n",
    "  for i in range(1, num + 1):\n",
    "    print(f\"Square of {i}: {i * i}\")\n",
    "\n",
    "def print_cubes(num):\n",
    "  \"\"\"Prints the cubes of numbers from 1 to num.\"\"\"\n",
    "  for i in range(1, num + 1):\n",
    "    print(f\"Cube of {i}: {i * i * i}\")\n",
    "\n",
    "if __name__ == \"__main__\":\n",
    "  num = int(input(\"Enter the number up to which you want to print squares and cubes: \"))\n",
    "\n",
    "  # Create threads\n",
    "  thread1 = threading.Thread(target=print_squares, args=(num,))\n",
    "  thread2 = threading.Thread(target=print_cubes, args=(num,))\n",
    "\n",
    "  # Start threads (execution happens concurrently)\n",
    "  thread1.start()\n",
    "  thread2.start()\n",
    "\n",
    "  # Wait for both threads to finish before proceeding\n",
    "  thread1.join()\n",
    "  thread2.join()\n",
    "\n",
    "  print(\"All calculations finished!\")\n"
   ]
  },
  {
   "cell_type": "markdown",
   "id": "94c63259-6ebc-416f-83d2-a40ed9bed38d",
   "metadata": {},
   "source": [
    "## Q5. State advantages and disadvantages of multithreading"
   ]
  },
  {
   "cell_type": "markdown",
   "id": "c6b0a49b-ba30-4d62-97b4-f45b626b28ee",
   "metadata": {},
   "source": [
    "##### Advantages of Multithreading\n",
    "\n",
    "- Improved Performance (for I/O-bound tasks): Multithreading can significantly enhance performance for tasks that involve waiting for external resources like network requests or disk access. While one thread is waiting for an I/O operation to complete, other threads can continue processing other tasks, leading to better overall responsiveness.\n",
    "\n",
    "- Better Responsiveness: Especially in interactive applications (e.g., GUI programs), multithreading helps maintain a smooth user experience. While one thread handles user interactions (like button clicks), another thread can perform background calculations without freezing the UI.\n",
    "\n",
    "- Simplified Modeling of Certain Problems: Some problems are naturally multithreaded, meaning they can be divided into independent subtasks. By utilizing multiple threads, you can model such problems more efficiently and intuitively.\n",
    "\n",
    "- Potential for Parallelism (limited by GIL): If you have a multi-core processor, multithreading can potentially improve performance by distributing tasks across multiple cores for parallel execution. However, the Global Interpreter Lock (GIL) in Python can limit the effectiveness of threading for CPU-bound tasks, as it prevents multiple threads from executing Python bytecode simultaneously.\n",
    "\n",
    "##### Disadvantages of Multithreading\n",
    "\n",
    "- Complexity: Writing and maintaining multithreaded code can be more complex than single-threaded code due to the need for synchronization, handling thread safety, and potential race conditions.\n",
    "\n",
    "- Debugging Difficulty: Debugging multithreaded programs can be challenging. Issues like race conditions, where threads access shared resources unexpectedly, can be difficult to reproduce and resolve.\n",
    "\n",
    "- Overhead and Context Switching: Creating and managing threads introduces some overhead. The operating system needs to allocate resources and context switch between threads, which can slightly impact performance. This is usually negligible for I/O-bound tasks but can be more significant for CPU-bound tasks.\n",
    "\n",
    "- Thread Safety: When accessing shared resources (data, variables) between threads, it's crucial to use synchronization mechanisms (like locks) to prevent race conditions and ensure data integrity. Improper synchronization can lead to unexpected behavior and data corruption."
   ]
  },
  {
   "cell_type": "markdown",
   "id": "c7e27754-26bc-445e-83ed-2ce5989cfe3e",
   "metadata": {},
   "source": [
    "# Q6. Explain deadlocks and race conditions."
   ]
  },
  {
   "cell_type": "markdown",
   "id": "c39d5912-876b-4ae4-8a0a-32fddaf89875",
   "metadata": {},
   "source": [
    "Deadlocks and race conditions are both issues that can arise in concurrent programming, where multiple threads or processes are trying to access shared resources at the same time. However, they differ in how they occur and their outcomes.\n",
    "\n",
    "Deadlock:\n",
    "\n",
    "Imagine a deadlock like two cars stuck at a dead-end intersection.\n",
    "\n",
    "Two (or more) threads are each holding onto a resource (like a file or piece of data) that the other thread needs.\n",
    "Each thread is waiting for the other thread to release its resource before it can proceed.\n",
    "This creates a stalemate where neither thread can make progress.\n",
    "Race Condition:\n",
    "\n",
    "Think of a race condition like two runners going for the same finish line flag at the same time. The outcome depends on who grabs it first.\n",
    "\n",
    "Two threads are trying to access and potentially modify the same shared variable at the same time.\n",
    "The outcome of the program depends on the unpredictable timing of which thread gets to the variable first.\n",
    "This can lead to unexpected results or errors in the program's logic.\n",
    "Here's a table summarizing the key differences:"
   ]
  },
  {
   "cell_type": "code",
   "execution_count": null,
   "id": "f16e77d9-1087-467b-8be8-f173c1bdee9a",
   "metadata": {},
   "outputs": [],
   "source": []
  }
 ],
 "metadata": {
  "kernelspec": {
   "display_name": "Python 3 (ipykernel)",
   "language": "python",
   "name": "python3"
  },
  "language_info": {
   "codemirror_mode": {
    "name": "ipython",
    "version": 3
   },
   "file_extension": ".py",
   "mimetype": "text/x-python",
   "name": "python",
   "nbconvert_exporter": "python",
   "pygments_lexer": "ipython3",
   "version": "3.10.8"
  }
 },
 "nbformat": 4,
 "nbformat_minor": 5
}
