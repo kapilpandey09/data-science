{
 "cells": [
  {
   "cell_type": "markdown",
   "id": "ceaae764-b362-4bbe-9225-db8a757c1965",
   "metadata": {},
   "source": [
    "# Q1. Create one variable containing following type of data:\n",
    "# (i) string\n",
    "# (ii) list\n",
    "# (iii) float\n",
    "# (iv) tuple\n",
    "    "
   ]
  },
  {
   "cell_type": "code",
   "execution_count": 27,
   "id": "56a99e8d-f86a-4c2f-9d24-9793c5cd5d7f",
   "metadata": {},
   "outputs": [],
   "source": [
    "string = \"kapil\"\n",
    "list_data = [1,2,3,4,\"kapil\",3.23]\n",
    "float_data = 3.14\n",
    "tuple_data = (1,2,3,4,5,'kapil','data')"
   ]
  },
  {
   "cell_type": "code",
   "execution_count": 39,
   "id": "1e20b357-8684-4213-8593-0be7420d2278",
   "metadata": {},
   "outputs": [
    {
     "data": {
      "text/plain": [
       "str"
      ]
     },
     "execution_count": 39,
     "metadata": {},
     "output_type": "execute_result"
    }
   ],
   "source": [
    "type(string)"
   ]
  },
  {
   "cell_type": "code",
   "execution_count": 40,
   "id": "45f1c7a4-e953-45cd-9658-b888accaf43b",
   "metadata": {},
   "outputs": [
    {
     "data": {
      "text/plain": [
       "list"
      ]
     },
     "execution_count": 40,
     "metadata": {},
     "output_type": "execute_result"
    }
   ],
   "source": [
    "type(list_data)"
   ]
  },
  {
   "cell_type": "code",
   "execution_count": 41,
   "id": "82c28a07-e451-4ecc-95c8-0be4b4aad7f8",
   "metadata": {},
   "outputs": [
    {
     "data": {
      "text/plain": [
       "float"
      ]
     },
     "execution_count": 41,
     "metadata": {},
     "output_type": "execute_result"
    }
   ],
   "source": [
    "type(float_data)"
   ]
  },
  {
   "cell_type": "code",
   "execution_count": 42,
   "id": "0b37a766-ec5f-4026-8163-f2af5564a2df",
   "metadata": {},
   "outputs": [
    {
     "data": {
      "text/plain": [
       "tuple"
      ]
     },
     "execution_count": 42,
     "metadata": {},
     "output_type": "execute_result"
    }
   ],
   "source": [
    "type(tuple_data)"
   ]
  },
  {
   "cell_type": "markdown",
   "id": "c031620a-e3cc-47d2-9954-95fa087de6ed",
   "metadata": {},
   "source": [
    "Q2. Given are some following variables containing data:\n",
    "(i) var1 = ‘ ‘\n",
    "(ii) var2 = ‘[ DS , ML , Python]’\n",
    "(iii) var3 = [ ‘DS’ , ’ML’ , ‘Python’ ]\n",
    "(iv) var4 = 1.\n",
    "What will be the data type of the above given variable."
   ]
  },
  {
   "cell_type": "code",
   "execution_count": 52,
   "id": "f90ce2c0-16be-409f-853c-4ad41d3ee6e3",
   "metadata": {},
   "outputs": [],
   "source": [
    "var1 = ' '\n",
    "var2 = '[ DS , ML , Python]'\n",
    "var3 = [ 'DS' , 'ML' , 'Python' ]\n",
    "var4 = 1\n"
   ]
  },
  {
   "cell_type": "code",
   "execution_count": 54,
   "id": "d5f2abc6-cef7-4685-a991-45503e15eeba",
   "metadata": {},
   "outputs": [
    {
     "data": {
      "text/plain": [
       "str"
      ]
     },
     "execution_count": 54,
     "metadata": {},
     "output_type": "execute_result"
    }
   ],
   "source": [
    "type(var1)"
   ]
  },
  {
   "cell_type": "code",
   "execution_count": 55,
   "id": "102237e1-fdf9-40e5-b68b-23f2dafc642f",
   "metadata": {},
   "outputs": [
    {
     "data": {
      "text/plain": [
       "str"
      ]
     },
     "execution_count": 55,
     "metadata": {},
     "output_type": "execute_result"
    }
   ],
   "source": [
    "type(var2)"
   ]
  },
  {
   "cell_type": "code",
   "execution_count": 56,
   "id": "4802fb6e-9f2d-44e4-8e80-fbc07aeaf781",
   "metadata": {},
   "outputs": [
    {
     "data": {
      "text/plain": [
       "list"
      ]
     },
     "execution_count": 56,
     "metadata": {},
     "output_type": "execute_result"
    }
   ],
   "source": [
    "type(var3)"
   ]
  },
  {
   "cell_type": "code",
   "execution_count": 57,
   "id": "0da180f2-0265-4ef2-ab60-02aa10f21225",
   "metadata": {},
   "outputs": [
    {
     "data": {
      "text/plain": [
       "int"
      ]
     },
     "execution_count": 57,
     "metadata": {},
     "output_type": "execute_result"
    }
   ],
   "source": [
    "type(var4)"
   ]
  },
  {
   "cell_type": "markdown",
   "id": "133697dd-403b-4920-a450-69d826fba616",
   "metadata": {},
   "source": [
    "Q3. Explain the use of the following operators using an example:\n",
    "(i) /\n",
    "(ii) %\n",
    "(iii) //\n",
    "(iv) **"
   ]
  },
  {
   "cell_type": "code",
   "execution_count": 58,
   "id": "978bb30f-2303-4ce8-8857-742a71159359",
   "metadata": {},
   "outputs": [
    {
     "data": {
      "text/plain": [
       "1.3333333333333333"
      ]
     },
     "execution_count": 58,
     "metadata": {},
     "output_type": "execute_result"
    }
   ],
   "source": [
    "4/3  # this is a divide operator"
   ]
  },
  {
   "cell_type": "code",
   "execution_count": 59,
   "id": "7597d5ac-7857-402d-9e80-e8ea43144cc1",
   "metadata": {},
   "outputs": [
    {
     "data": {
      "text/plain": [
       "1"
      ]
     },
     "execution_count": 59,
     "metadata": {},
     "output_type": "execute_result"
    }
   ],
   "source": [
    "7%3   # this is a remainder operator"
   ]
  },
  {
   "cell_type": "code",
   "execution_count": 60,
   "id": "dcc27120-90ef-4a84-85dc-079adafa3fd4",
   "metadata": {},
   "outputs": [
    {
     "data": {
      "text/plain": [
       "2"
      ]
     },
     "execution_count": 60,
     "metadata": {},
     "output_type": "execute_result"
    }
   ],
   "source": [
    "7//3  #this is used to find the quotient operator"
   ]
  },
  {
   "cell_type": "code",
   "execution_count": 61,
   "id": "4a75dcf8-5ca6-4c51-a2c0-bc8bd99290e9",
   "metadata": {},
   "outputs": [
    {
     "data": {
      "text/plain": [
       "64"
      ]
     },
     "execution_count": 61,
     "metadata": {},
     "output_type": "execute_result"
    }
   ],
   "source": [
    "4**3  #this is a power operator"
   ]
  },
  {
   "cell_type": "markdown",
   "id": "c46adce9-4766-48ba-b7a5-d5aaee6d8ad0",
   "metadata": {},
   "source": [
    "Q4. Create a list of length 10 of your choice containing multiple types of data. Using for loop print the\n",
    "element and its data type."
   ]
  },
  {
   "cell_type": "code",
   "execution_count": 63,
   "id": "87cc1359-b145-4ecb-999e-67705c2d3772",
   "metadata": {},
   "outputs": [],
   "source": [
    "list =  [1,3.14,True,\"kapil\",(\"kapil\", 1,2),-0.12,-7,False,2 + 3j,\"data\"]"
   ]
  },
  {
   "cell_type": "code",
   "execution_count": 67,
   "id": "bd9af56b-224e-4239-bdbf-790d88f1479a",
   "metadata": {},
   "outputs": [
    {
     "name": "stdout",
     "output_type": "stream",
     "text": [
      "1\n",
      "<class 'int'>\n",
      "3.14\n",
      "<class 'float'>\n",
      "True\n",
      "<class 'bool'>\n",
      "kapil\n",
      "<class 'str'>\n",
      "('kapil', 1, 2)\n",
      "<class 'tuple'>\n",
      "kapil\n",
      "<class 'str'>\n",
      "1\n",
      "<class 'int'>\n",
      "2\n",
      "<class 'int'>\n",
      "-0.12\n",
      "<class 'float'>\n",
      "-7\n",
      "<class 'int'>\n",
      "False\n",
      "<class 'bool'>\n",
      "(2+3j)\n",
      "<class 'complex'>\n",
      "data\n",
      "<class 'str'>\n"
     ]
    }
   ],
   "source": [
    "for i  in list :\n",
    "    print(i)\n",
    "    print(type(i))\n",
    "    if i==list[4] :\n",
    "        for a in list[4] :\n",
    "            print(a)\n",
    "            print(type(a))\n",
    "    \n",
    "    "
   ]
  },
  {
   "cell_type": "markdown",
   "id": "ab9267b3-9696-41a2-b4d6-d4c1a0acb3ac",
   "metadata": {},
   "source": [
    "Using a while loop, verify if the number A is purely divisible by number B and if so then how many\n",
    "times it can be divisible."
   ]
  },
  {
   "cell_type": "code",
   "execution_count": 75,
   "id": "896341a6-ba76-40cf-b9df-8955e696e64e",
   "metadata": {},
   "outputs": [
    {
     "name": "stdin",
     "output_type": "stream",
     "text": [
      "Enter the value_B 8\n",
      "enter the value_A 2\n"
     ]
    },
    {
     "name": "stdout",
     "output_type": "stream",
     "text": [
      "number A is purely divisible by number B is 3 times\n"
     ]
    }
   ],
   "source": [
    "value_B = int(input(\"Enter the value_B\"))\n",
    "value_A = int(input(\"enter the value_A\"))\n",
    "i = 0\n",
    "while value_B % value_A==0:\n",
    "    value_B = value_B/value_A\n",
    "    i += 1\n",
    "else:\n",
    "    print(\"number A is purely divisible by number B is\",i,\"times\")"
   ]
  },
  {
   "cell_type": "markdown",
   "id": "2285a18b-52e2-4ba5-9a91-b1c4477d7ee6",
   "metadata": {},
   "source": [
    "Q6. Create a list containing 25 int type data. Using for loop and if-else condition print if the element is\n",
    "divisible by 3 or not."
   ]
  },
  {
   "cell_type": "code",
   "execution_count": 77,
   "id": "9361c0dc-4a2c-4941-adbd-eb03c5592d97",
   "metadata": {},
   "outputs": [
    {
     "name": "stdout",
     "output_type": "stream",
     "text": [
      "The Number 1 is not Divisible by 3\n",
      "The Number 2 is not Divisible by 3\n",
      "The Number 3 is Divisible by 3\n",
      "The Number 4 is not Divisible by 3\n",
      "The Number 5 is not Divisible by 3\n",
      "The Number 6 is Divisible by 3\n",
      "The Number 54 is Divisible by 3\n",
      "The Number 23 is not Divisible by 3\n",
      "The Number 34 is not Divisible by 3\n",
      "The Number 56 is not Divisible by 3\n",
      "The Number 87 is Divisible by 3\n",
      "The Number 13 is not Divisible by 3\n",
      "The Number 9 is Divisible by 3\n",
      "The Number 18 is Divisible by 3\n",
      "The Number 27 is Divisible by 3\n",
      "The Number 45 is Divisible by 3\n",
      "The Number 65 is not Divisible by 3\n",
      "The Number 786 is Divisible by 3\n",
      "The Number 34 is not Divisible by 3\n",
      "The Number 56 is not Divisible by 3\n",
      "The Number 12 is Divisible by 3\n",
      "The Number 67 is not Divisible by 3\n",
      "The Number 789 is Divisible by 3\n",
      "The Number 34 is not Divisible by 3\n",
      "The Number 12 is Divisible by 3\n"
     ]
    }
   ],
   "source": [
    "list = [1,2,3,4,5,6,54,23,34,56,87,13,9,18,27,45,65,786,34,56,12,67,789,34,12]\n",
    "i = 0\n",
    "for number in list:\n",
    "    if(number%3==0):\n",
    "        print(\"The Number\",list[i],\"is Divisible by 3\")\n",
    "    else:\n",
    "        print(\"The Number\",list[i],\"is not Divisible by 3\")\n",
    "    i+=1\n",
    "    "
   ]
  },
  {
   "cell_type": "markdown",
   "id": "6bfca0f5-65a1-49d2-bc94-6007da516cc1",
   "metadata": {},
   "source": [
    "Q7. What do you understand about mutable and immutable data types? Give examples for both showing\n",
    "this property."
   ]
  },
  {
   "cell_type": "code",
   "execution_count": 78,
   "id": "8a0a2a2c-f08f-42fa-a886-27378ff2b0d7",
   "metadata": {},
   "outputs": [],
   "source": [
    "list = [1,2,3,4,5,'data-science']\n",
    "\n",
    "list[0]= \"kapil\""
   ]
  },
  {
   "cell_type": "code",
   "execution_count": 79,
   "id": "6c92a61e-7164-471c-a5f5-121839a523be",
   "metadata": {},
   "outputs": [
    {
     "data": {
      "text/plain": [
       "['kapil', 2, 3, 4, 5, 'data-science']"
      ]
     },
     "execution_count": 79,
     "metadata": {},
     "output_type": "execute_result"
    }
   ],
   "source": [
    "list # this is a mutable example and mutable is a index change able  condition "
   ]
  },
  {
   "cell_type": "code",
   "execution_count": 81,
   "id": "746ef583-b9cb-4a7e-aac4-ac5e4a7269bd",
   "metadata": {},
   "outputs": [],
   "source": [
    "string = \"kapil\""
   ]
  },
  {
   "cell_type": "code",
   "execution_count": 83,
   "id": "75c9d997-b8f0-42e5-9465-fe069627ddbd",
   "metadata": {},
   "outputs": [
    {
     "data": {
      "text/plain": [
       "'kapil'"
      ]
     },
     "execution_count": 83,
     "metadata": {},
     "output_type": "execute_result"
    }
   ],
   "source": [
    "string "
   ]
  },
  {
   "cell_type": "code",
   "execution_count": 94,
   "id": "3372775e-fc62-4203-8fff-84d7d5c11cbc",
   "metadata": {},
   "outputs": [
    {
     "ename": "TypeError",
     "evalue": "'str' object does not support item assignment",
     "output_type": "error",
     "traceback": [
      "\u001b[0;31m---------------------------------------------------------------------------\u001b[0m",
      "\u001b[0;31mTypeError\u001b[0m                                 Traceback (most recent call last)",
      "Cell \u001b[0;32mIn[94], line 1\u001b[0m\n\u001b[0;32m----> 1\u001b[0m \u001b[43mstring\u001b[49m\u001b[43m[\u001b[49m\u001b[38;5;241;43m0\u001b[39;49m\u001b[43m]\u001b[49m\u001b[38;5;241m=\u001b[39m \u001b[38;5;124m\"\u001b[39m\u001b[38;5;124mM\u001b[39m\u001b[38;5;124m\"\u001b[39m\n\u001b[1;32m      2\u001b[0m a \u001b[38;5;241m=\u001b[39m string[\u001b[38;5;241m0\u001b[39m]   \u001b[38;5;66;03m#this is a immutable example and immutable is a index does not change \u001b[39;00m\n",
      "\u001b[0;31mTypeError\u001b[0m: 'str' object does not support item assignment"
     ]
    }
   ],
   "source": [
    "string[0]= \"M\"\n",
    "a = string[0]   #this is a immutable example and immutable is a index does not change "
   ]
  },
  {
   "cell_type": "code",
   "execution_count": 95,
   "id": "77a1d957-48b9-49ba-9325-b31656b310f4",
   "metadata": {},
   "outputs": [
    {
     "data": {
      "text/plain": [
       "'science'"
      ]
     },
     "execution_count": 95,
     "metadata": {},
     "output_type": "execute_result"
    }
   ],
   "source": [
    "str =  'data'\n",
    "str\n",
    "str = 'science'\n",
    "str"
   ]
  }
 ],
 "metadata": {
  "kernelspec": {
   "display_name": "Python 3 (ipykernel)",
   "language": "python",
   "name": "python3"
  },
  "language_info": {
   "codemirror_mode": {
    "name": "ipython",
    "version": 3
   },
   "file_extension": ".py",
   "mimetype": "text/x-python",
   "name": "python",
   "nbconvert_exporter": "python",
   "pygments_lexer": "ipython3",
   "version": "3.10.8"
  }
 },
 "nbformat": 4,
 "nbformat_minor": 5
}
