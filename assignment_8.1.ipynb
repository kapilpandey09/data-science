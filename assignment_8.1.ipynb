{
 "cells": [
  {
   "cell_type": "markdown",
   "id": "83071c29-d14d-4a1e-8d2c-334e64942da9",
   "metadata": {},
   "source": [
    "Q1. Create a Pandas Series that contains the following data: 4, 8, 15, 16, 23, and 42. Then, print the series."
   ]
  },
  {
   "cell_type": "markdown",
   "id": "d987b653-d75a-457e-87ff-3460126161cd",
   "metadata": {},
   "source": [
    "Answer:"
   ]
  },
  {
   "cell_type": "code",
   "execution_count": 7,
   "id": "126e7739-1247-492a-9e01-f87b772450fc",
   "metadata": {},
   "outputs": [
    {
     "name": "stdout",
     "output_type": "stream",
     "text": [
      "0     4\n",
      "1     8\n",
      "2    15\n",
      "3    16\n",
      "4    23\n",
      "5    42\n",
      "dtype: int64\n"
     ]
    }
   ],
   "source": [
    "import pandas as pd\n",
    "data = [4,8,15,16,23,42]\n",
    "series = pd.Series(data)\n",
    "print(series)\n",
    "\n",
    "# This code creates a Pandas Series named series containing the data [4, 8, 15, 16, 23, 42] and then prints the Series\n"
   ]
  },
  {
   "cell_type": "raw",
   "id": "c3e636fd-eb70-4430-b711-8ba5eb5f789a",
   "metadata": {},
   "source": []
  },
  {
   "cell_type": "code",
   "execution_count": 8,
   "id": "7b0eb026-9747-4b3a-8776-5b7cca24c4c0",
   "metadata": {},
   "outputs": [
    {
     "data": {
      "text/plain": [
       "dtype('int64')"
      ]
     },
     "execution_count": 8,
     "metadata": {},
     "output_type": "execute_result"
    }
   ],
   "source": [
    "series.dtype"
   ]
  },
  {
   "cell_type": "code",
   "execution_count": 9,
   "id": "19fa910e-a28c-4c12-ab35-95125aba1405",
   "metadata": {},
   "outputs": [
    {
     "data": {
      "text/plain": [
       "pandas.core.series.Series"
      ]
     },
     "execution_count": 9,
     "metadata": {},
     "output_type": "execute_result"
    }
   ],
   "source": [
    "type(series)"
   ]
  },
  {
   "cell_type": "markdown",
   "id": "3670dddc-3229-4d5e-9a93-467ea5f21373",
   "metadata": {},
   "source": [
    "Q2. Create a variable of list type containing 10 elements in it, and apply pandas.Series function on the\n",
    "variable print it."
   ]
  },
  {
   "cell_type": "markdown",
   "id": "def7cfde-2519-4ff3-b49b-268609bb61bb",
   "metadata": {},
   "source": [
    "Answer:"
   ]
  },
  {
   "cell_type": "code",
   "execution_count": 11,
   "id": "2065e662-02cb-493e-ab66-47272a373c66",
   "metadata": {},
   "outputs": [
    {
     "name": "stdout",
     "output_type": "stream",
     "text": [
      "0              kapil\n",
      "1    [1, 2, 4, 5, 7]\n",
      "2               sudh\n",
      "3           himanshu\n",
      "4               True\n",
      "5              False\n",
      "6                 34\n",
      "7                 45\n",
      "8                  4\n",
      "9                 76\n",
      "dtype: object\n"
     ]
    }
   ],
   "source": [
    "data = ['kapil', [1,2,4,5,7], 'sudh', 'himanshu', True, False, 34,45,4,76]\n",
    "series_data = pd.Series(data)\n",
    "print(series_data)"
   ]
  },
  {
   "cell_type": "code",
   "execution_count": 13,
   "id": "52045a97-c6d1-4f28-a234-a2146c41de97",
   "metadata": {},
   "outputs": [
    {
     "name": "stdout",
     "output_type": "stream",
     "text": [
      "int64\n",
      "<class 'pandas.core.series.Series'>\n",
      "['kapil', [1, 2, 4, 5, 7], 'sudh', 'himanshu', True, False, 34, 45, 4, 76]\n"
     ]
    }
   ],
   "source": [
    "print(series.dtype)\n",
    "print(type(series_data))\n",
    "print(data)"
   ]
  },
  {
   "cell_type": "code",
   "execution_count": 36,
   "id": "3a77cb0b-3d46-4f9d-9af6-ff8d7800c1d5",
   "metadata": {},
   "outputs": [],
   "source": [
    "import logging\n",
    "logging.basicConfig(filename = 'test\\_8.1.log' , level = logging.DEBUG)\n",
    "logging.info(series_data)\n",
    "# logging.shutdown()"
   ]
  },
  {
   "cell_type": "markdown",
   "id": "7406f373-7af3-49fd-bb87-9387b61797c6",
   "metadata": {},
   "source": [
    "Q3. Create a Pandas DataFrame that contains the following data:\n",
    "\n",
    "Name\n",
    "Alice\n",
    "Bob\n",
    "Claire\n",
    "\n",
    "Age\n",
    "25\n",
    "30\n",
    "27\n",
    "\n",
    "Gender\n",
    "Female\n",
    "Male\n",
    "Female\n",
    "\n",
    "Then, print the DataFrame."
   ]
  },
  {
   "cell_type": "code",
   "execution_count": 18,
   "id": "2d69067c-866e-46a3-be10-11895244a40b",
   "metadata": {},
   "outputs": [
    {
     "name": "stdout",
     "output_type": "stream",
     "text": [
      "     Name  Age  Gender\n",
      "0   Alice   25  Female\n",
      "1     Bob   30    Male\n",
      "2  Claire   27  Female\n"
     ]
    }
   ],
   "source": [
    "data = {\n",
    "    'Name':['Alice', 'Bob', 'Claire'],\n",
    "    'Age':[25,30,27],\n",
    "    'Gender':['Female', 'Male', 'Female']\n",
    "}\n",
    "\n",
    "dataframe = pd.DataFrame(data)\n",
    "print(dataframe)"
   ]
  },
  {
   "cell_type": "code",
   "execution_count": 38,
   "id": "616a98c3-3475-48da-875d-3821d3379a74",
   "metadata": {},
   "outputs": [
    {
     "name": "stdout",
     "output_type": "stream",
     "text": [
      "     Name  Age  Gender\n",
      "0   Alice   25  Female\n",
      "1     Bob   30    Male\n",
      "2  Claire   27  Female\n"
     ]
    }
   ],
   "source": [
    "logging.shutdown()\n",
    "dataframe.to_csv('test_8.1.csv', index = False)\n",
    "import logging\n",
    "logging.basicConfig(filename = 'ass_8_1.csv', level = logging.DEBUG )\n",
    "logging.info(dataframe)\n",
    "logging.shutdown()\n",
    "print(dataframe)"
   ]
  },
  {
   "cell_type": "code",
   "execution_count": null,
   "id": "5d87f76d-b582-4bfd-8bb5-573aae560e4c",
   "metadata": {},
   "outputs": [],
   "source": [
    "\n"
   ]
  },
  {
   "cell_type": "code",
   "execution_count": null,
   "id": "2c1f2040-1ce1-4bce-802b-fca873c17abf",
   "metadata": {},
   "outputs": [],
   "source": []
  },
  {
   "cell_type": "markdown",
   "id": "da8827ef-a516-4d71-b5d6-dab6176663ca",
   "metadata": {},
   "source": [
    "Q4. What is ‘DataFrame’ in pandas and how is it different from pandas.series? Explain with an example."
   ]
  },
  {
   "cell_type": "markdown",
   "id": "7b188e1c-6201-412c-aa01-c4a4827d14ca",
   "metadata": {},
   "source": [
    "Answer:"
   ]
  },
  {
   "cell_type": "code",
   "execution_count": 41,
   "id": "e3b8f200-4bfd-4537-8b1a-05483763b116",
   "metadata": {},
   "outputs": [
    {
     "name": "stdout",
     "output_type": "stream",
     "text": [
      "       Name  Age Gender\n",
      "0     kapil   18   Male\n",
      "1  himanshu   18   Male\n",
      "2    yogesh   18   Male\n"
     ]
    }
   ],
   "source": [
    "import pandas as pd\n",
    "data = {\n",
    "    'Name':['kapil', 'himanshu', 'yogesh'],\n",
    "    'Age':[18,18,18],\n",
    "    'Gender':['Male','Male','Male']\n",
    "}\n",
    "dtafr = pd.DataFrame(data)\n",
    "print(dtafr)\n",
    "dtafr.to_csv('data_8_1.csv', index = False)"
   ]
  },
  {
   "cell_type": "markdown",
   "id": "cb99dbb0-ead9-4e52-b5d4-4d30da52961f",
   "metadata": {},
   "source": [
    "DataFrame is a tabular form of data and pandas.series is  a one dimestion of data (i.e. columns) . Data frame is a show of full information of table but pandas,series is a data of only one columns"
   ]
  },
  {
   "cell_type": "code",
   "execution_count": 2,
   "id": "73dd3ef6-8134-49d7-8fc5-3841c52ba017",
   "metadata": {},
   "outputs": [
    {
     "name": "stdout",
     "output_type": "stream",
     "text": [
      "0        1\n",
      "1       23\n",
      "2       45\n",
      "3       67\n",
      "4       89\n",
      "5        0\n",
      "6      345\n",
      "7        6\n",
      "8        4\n",
      "9        3\n",
      "10    2532\n",
      "11     345\n",
      "12     345\n",
      "dtype: int64\n"
     ]
    }
   ],
   "source": [
    "import pandas as pd\n",
    "data = [1,23,45,67,89,0,345,6,4,3,2532,345,345]\n",
    "serise = pd.Series(data)\n",
    "print(serise)\n",
    "# This is pandas.series example"
   ]
  },
  {
   "cell_type": "code",
   "execution_count": null,
   "id": "8d3d3269-2119-4523-89e4-0d8008cb2545",
   "metadata": {},
   "outputs": [],
   "source": [
    "\n"
   ]
  },
  {
   "cell_type": "code",
   "execution_count": null,
   "id": "d22a1f1d-1e62-4e25-8251-523f9d3c07bd",
   "metadata": {},
   "outputs": [],
   "source": []
  },
  {
   "cell_type": "markdown",
   "id": "d980d071-4f85-476e-b381-c2a4aa7c09c7",
   "metadata": {},
   "source": [
    "Q5. What are some common functions you can use to manipulate data in a Pandas DataFrame? Can\n",
    "you give an example of when you might use one of these functions?"
   ]
  },
  {
   "cell_type": "code",
   "execution_count": 30,
   "id": "448922f5-2dec-4a0a-a8e5-2325d27b6b32",
   "metadata": {},
   "outputs": [],
   "source": [
    "import pandas as pd\n",
    "df = {'Name':['kapil','Himanshu','yogesh','unknwone'], 'Age': [18,19,20,21] , 'Gender':['Male','male','male','male']}\n",
    "fram = pd.DataFrame(df)"
   ]
  },
  {
   "cell_type": "code",
   "execution_count": 31,
   "id": "85568efa-9832-4942-8771-f1f3bf22c094",
   "metadata": {},
   "outputs": [
    {
     "data": {
      "text/html": [
       "<div>\n",
       "<style scoped>\n",
       "    .dataframe tbody tr th:only-of-type {\n",
       "        vertical-align: middle;\n",
       "    }\n",
       "\n",
       "    .dataframe tbody tr th {\n",
       "        vertical-align: top;\n",
       "    }\n",
       "\n",
       "    .dataframe thead th {\n",
       "        text-align: right;\n",
       "    }\n",
       "</style>\n",
       "<table border=\"1\" class=\"dataframe\">\n",
       "  <thead>\n",
       "    <tr style=\"text-align: right;\">\n",
       "      <th></th>\n",
       "      <th>Name</th>\n",
       "      <th>Age</th>\n",
       "      <th>Gender</th>\n",
       "    </tr>\n",
       "  </thead>\n",
       "  <tbody>\n",
       "    <tr>\n",
       "      <th>0</th>\n",
       "      <td>kapil</td>\n",
       "      <td>18</td>\n",
       "      <td>Male</td>\n",
       "    </tr>\n",
       "    <tr>\n",
       "      <th>1</th>\n",
       "      <td>Himanshu</td>\n",
       "      <td>19</td>\n",
       "      <td>male</td>\n",
       "    </tr>\n",
       "    <tr>\n",
       "      <th>2</th>\n",
       "      <td>yogesh</td>\n",
       "      <td>20</td>\n",
       "      <td>male</td>\n",
       "    </tr>\n",
       "    <tr>\n",
       "      <th>3</th>\n",
       "      <td>unknwone</td>\n",
       "      <td>21</td>\n",
       "      <td>male</td>\n",
       "    </tr>\n",
       "  </tbody>\n",
       "</table>\n",
       "</div>"
      ],
      "text/plain": [
       "       Name  Age Gender\n",
       "0     kapil   18   Male\n",
       "1  Himanshu   19   male\n",
       "2    yogesh   20   male\n",
       "3  unknwone   21   male"
      ]
     },
     "execution_count": 31,
     "metadata": {},
     "output_type": "execute_result"
    }
   ],
   "source": [
    "fram"
   ]
  },
  {
   "cell_type": "code",
   "execution_count": 32,
   "id": "eb661f82-de2b-40f7-a41d-31b5b7452278",
   "metadata": {},
   "outputs": [
    {
     "name": "stdout",
     "output_type": "stream",
     "text": [
      "       Name  Age Gender\n",
      "1  Himanshu   19   male\n",
      "2    yogesh   20   male\n",
      "3  unknwone   21   male\n"
     ]
    }
   ],
   "source": [
    "# Filtering Data is a manipulate the data You can filter rows based on a condition.\n",
    "\n",
    "filterp = fram[fram['Gender'] == 'male']\n",
    "print(filterp)\n",
    "\n"
   ]
  },
  {
   "cell_type": "code",
   "execution_count": 33,
   "id": "67db0a9d-e507-4a09-98ca-50931d14737b",
   "metadata": {},
   "outputs": [
    {
     "name": "stdout",
     "output_type": "stream",
     "text": [
      "       Name  Age Gender\n",
      "0     kapil   18   Male\n",
      "1  Himanshu   19   male\n",
      "2    yogesh   20   male\n"
     ]
    }
   ],
   "source": [
    "# Selection and Slicing \n",
    "# DataFrame.loc[] and DataFrame.iloc[]: These allow you to select specific rows and columns by label or integer-based indexing.\n",
    "selected_data = fram.loc[0:2, ['Name', 'Age','Gender']]\n",
    "print(selected_data)"
   ]
  },
  {
   "cell_type": "code",
   "execution_count": 34,
   "id": "3ad9f83f-717e-4d8a-93e2-57506635ef8e",
   "metadata": {},
   "outputs": [
    {
     "name": "stdout",
     "output_type": "stream",
     "text": [
      "       Name  Age Gender\n",
      "0     kapil   18   Male\n",
      "1  Himanshu   19   male\n",
      "2    yogesh   20   male\n",
      "3  unknwone   21   male\n"
     ]
    }
   ],
   "source": [
    "# Sorting Data\n",
    "# DataFrame.sort_values(): You can sort the DataFrame by one or more columns.\n",
    "sorting_data = fram.sort_values(by=['Age', 'Name'], ascending=True)\n",
    "print(sorting_data)"
   ]
  },
  {
   "cell_type": "code",
   "execution_count": 39,
   "id": "d90b6f07-7a5b-4ff4-bdb1-5d764e3d5337",
   "metadata": {},
   "outputs": [
    {
     "name": "stdout",
     "output_type": "stream",
     "text": [
      "Name\n",
      "Himanshu    19.0\n",
      "kapil       18.0\n",
      "unknwone    21.0\n",
      "yogesh      20.0\n",
      "Name: Age, dtype: float64\n"
     ]
    }
   ],
   "source": [
    "# Grouping Data\n",
    "# DataFrame.groupby(): You can group data by one or more columns and perform aggregate operations.\n",
    "group = fram.groupby('Name')['Age'].mean()\n",
    "print(group)"
   ]
  },
  {
   "cell_type": "code",
   "execution_count": null,
   "id": "763eb2d0-f4f0-4bf1-8b5b-2486e72cdce3",
   "metadata": {},
   "outputs": [],
   "source": [
    "# Aggregation\n",
    "# DataFrame.sum(), DataFrame.mean(), DataFrame.max(), DataFrame.min(), \n",
    "# etc.: These functions allow you to calculate summary statistics for columns."
   ]
  },
  {
   "cell_type": "code",
   "execution_count": 47,
   "id": "fb696e1f-acec-4e34-a4ca-3995f8a5d976",
   "metadata": {},
   "outputs": [
    {
     "name": "stdout",
     "output_type": "stream",
     "text": [
      "78\n",
      "18\n",
      "21\n",
      "19.5\n"
     ]
    }
   ],
   "source": [
    "calu_sum = fram['Age'].sum()\n",
    "calu_max = fram['Age'].max()\n",
    "calu_mean = fram['Age'].mean()\n",
    "calu_min = fram['Age'].min()\n",
    "print(calu_sum)\n",
    "print(calu_min)\n",
    "print(calu_max)\n",
    "print(calu_mean)"
   ]
  },
  {
   "cell_type": "code",
   "execution_count": null,
   "id": "b271cd52-3ebf-474a-91ff-bbb1250081c9",
   "metadata": {},
   "outputs": [],
   "source": [
    "# This is  a comman used function and many common use fuction "
   ]
  },
  {
   "cell_type": "code",
   "execution_count": null,
   "id": "d409c70e-beaf-4f3a-b924-9414446fa446",
   "metadata": {},
   "outputs": [],
   "source": [
    "\n",
    "\n"
   ]
  },
  {
   "cell_type": "code",
   "execution_count": null,
   "id": "9964cad3-f820-4c96-9d6f-e0e694425c2b",
   "metadata": {},
   "outputs": [],
   "source": []
  },
  {
   "cell_type": "markdown",
   "id": "3791a7e7-997d-4f38-8589-bcdeabb3f5f4",
   "metadata": {},
   "source": [
    "Q6. Which of the following is mutable in nature Series, DataFrame, Panel?"
   ]
  },
  {
   "cell_type": "markdown",
   "id": "f814b14c-ba58-4fb2-a620-6ccd490cfa96",
   "metadata": {},
   "source": [
    "Answer:"
   ]
  },
  {
   "cell_type": "markdown",
   "id": "4f7c4c5e-0ac8-4201-9ac7-681ec5bd0065",
   "metadata": {},
   "source": [
    "Mutable means that the values of the object can be changed. In the case of Series, DataFrame, and Panel, this means that the values of the individual elements can be changed, as well as the structure of the object itself (e.g., adding or removing columns or rows)"
   ]
  },
  {
   "cell_type": "code",
   "execution_count": 1,
   "id": "9cb186fb-b3d7-4a68-9767-0b571be78e04",
   "metadata": {},
   "outputs": [],
   "source": [
    "# example for this\n",
    "import pandas as pd\n",
    "\n",
    "s = pd.Series([1, 2, 3])\n"
   ]
  },
  {
   "cell_type": "code",
   "execution_count": 2,
   "id": "199bd7f3-ae27-48c4-a763-73ed12a6eef9",
   "metadata": {},
   "outputs": [
    {
     "name": "stdout",
     "output_type": "stream",
     "text": [
      "0    4\n",
      "1    2\n",
      "2    3\n",
      "dtype: int64\n"
     ]
    }
   ],
   "source": [
    "s[0] = 4\n",
    "print(s)"
   ]
  },
  {
   "cell_type": "code",
   "execution_count": 6,
   "id": "6a62c2f2-f6bf-44d1-a203-aa5f844e2dbc",
   "metadata": {},
   "outputs": [
    {
     "data": {
      "text/html": [
       "<div>\n",
       "<style scoped>\n",
       "    .dataframe tbody tr th:only-of-type {\n",
       "        vertical-align: middle;\n",
       "    }\n",
       "\n",
       "    .dataframe tbody tr th {\n",
       "        vertical-align: top;\n",
       "    }\n",
       "\n",
       "    .dataframe thead th {\n",
       "        text-align: right;\n",
       "    }\n",
       "</style>\n",
       "<table border=\"1\" class=\"dataframe\">\n",
       "  <thead>\n",
       "    <tr style=\"text-align: right;\">\n",
       "      <th></th>\n",
       "      <th>0</th>\n",
       "      <th>1</th>\n",
       "      <th>2</th>\n",
       "    </tr>\n",
       "  </thead>\n",
       "  <tbody>\n",
       "    <tr>\n",
       "      <th>0</th>\n",
       "      <td>2</td>\n",
       "      <td>3</td>\n",
       "      <td>5</td>\n",
       "    </tr>\n",
       "    <tr>\n",
       "      <th>1</th>\n",
       "      <td>9</td>\n",
       "      <td>8</td>\n",
       "      <td>7</td>\n",
       "    </tr>\n",
       "  </tbody>\n",
       "</table>\n",
       "</div>"
      ],
      "text/plain": [
       "   0  1  2\n",
       "0  2  3  5\n",
       "1  9  8  7"
      ]
     },
     "execution_count": 6,
     "metadata": {},
     "output_type": "execute_result"
    }
   ],
   "source": [
    "# other example\n",
    "b = pd.DataFrame([[2,3,5] , [9,8,7]])\n",
    "b"
   ]
  },
  {
   "cell_type": "code",
   "execution_count": 10,
   "id": "4aa365f1-65e3-412a-8c33-0bd51f54d0a7",
   "metadata": {},
   "outputs": [
    {
     "data": {
      "text/html": [
       "<div>\n",
       "<style scoped>\n",
       "    .dataframe tbody tr th:only-of-type {\n",
       "        vertical-align: middle;\n",
       "    }\n",
       "\n",
       "    .dataframe tbody tr th {\n",
       "        vertical-align: top;\n",
       "    }\n",
       "\n",
       "    .dataframe thead th {\n",
       "        text-align: right;\n",
       "    }\n",
       "</style>\n",
       "<table border=\"1\" class=\"dataframe\">\n",
       "  <thead>\n",
       "    <tr style=\"text-align: right;\">\n",
       "      <th></th>\n",
       "      <th>0</th>\n",
       "      <th>1</th>\n",
       "      <th>2</th>\n",
       "    </tr>\n",
       "  </thead>\n",
       "  <tbody>\n",
       "    <tr>\n",
       "      <th>0</th>\n",
       "      <td>2</td>\n",
       "      <td>3</td>\n",
       "      <td>5</td>\n",
       "    </tr>\n",
       "    <tr>\n",
       "      <th>1</th>\n",
       "      <td>10</td>\n",
       "      <td>8</td>\n",
       "      <td>10</td>\n",
       "    </tr>\n",
       "  </tbody>\n",
       "</table>\n",
       "</div>"
      ],
      "text/plain": [
       "    0  1   2\n",
       "0   2  3   5\n",
       "1  10  8  10"
      ]
     },
     "execution_count": 10,
     "metadata": {},
     "output_type": "execute_result"
    }
   ],
   "source": [
    "b.iloc[1, 2] = 10\n",
    "b"
   ]
  },
  {
   "cell_type": "code",
   "execution_count": null,
   "id": "3496f833-8f17-4452-930c-6c1a4ddc8b09",
   "metadata": {},
   "outputs": [],
   "source": []
  },
  {
   "cell_type": "markdown",
   "id": "3bf7e064-3e11-4c7c-b529-d9bb50784ec2",
   "metadata": {},
   "source": [
    "Q7. Create a DataFrame using multiple Series. Explain with an example."
   ]
  },
  {
   "cell_type": "markdown",
   "id": "a30ed84f-0c73-4bd4-9826-eab7dfc0a516",
   "metadata": {},
   "source": [
    "\n",
    "To create a DataFrame using multiple Series, you can use the pd.DataFrame() function. This function takes a list of Series objects as input and returns a DataFrame object with the Series objects as columns."
   ]
  },
  {
   "cell_type": "code",
   "execution_count": 5,
   "id": "ad637d6a-7d35-4dc4-81a9-2551010c2a8e",
   "metadata": {},
   "outputs": [
    {
     "name": "stdout",
     "output_type": "stream",
     "text": [
      "   0  1  2\n",
      "A  1  2  3\n",
      "B  4  5  6\n"
     ]
    }
   ],
   "source": [
    "import pandas as pd\n",
    "\n",
    "# Create two Series objects\n",
    "s1 = pd.Series([1, 2, 3], name='A')\n",
    "s2 = pd.Series([4, 5, 6], name='B')\n",
    "\n",
    "# Create a DataFrame from the Series objects\n",
    "df = pd.DataFrame([s1, s2])\n",
    "\n",
    "# Print the DataFrame\n",
    "print(df)"
   ]
  },
  {
   "cell_type": "code",
   "execution_count": null,
   "id": "ce335085-2bbd-43bc-ba44-815550c11adc",
   "metadata": {},
   "outputs": [],
   "source": []
  }
 ],
 "metadata": {
  "kernelspec": {
   "display_name": "Python 3 (ipykernel)",
   "language": "python",
   "name": "python3"
  },
  "language_info": {
   "codemirror_mode": {
    "name": "ipython",
    "version": 3
   },
   "file_extension": ".py",
   "mimetype": "text/x-python",
   "name": "python",
   "nbconvert_exporter": "python",
   "pygments_lexer": "ipython3",
   "version": "3.10.8"
  }
 },
 "nbformat": 4,
 "nbformat_minor": 5
}
