{
 "cells": [
  {
   "cell_type": "markdown",
   "id": "f6d1922d-2fb8-48d1-ac30-ccf70fb86539",
   "metadata": {},
   "source": [
    "## Q1. What is multiprocessing in python? Why is it useful?"
   ]
  },
  {
   "cell_type": "markdown",
   "id": "60df36ad-f252-4001-b695-887c63b2e6fe",
   "metadata": {},
   "source": [
    "Multiprocessing in Python is a module that allows you to create and manage processes, enabling parallel execution of code. This is particularly useful for CPU-bound tasks, where the Global Interpreter Lock (GIL) can be a limitation in multi-threaded programs. The GIL ensures that only one thread executes Python bytecode at a time, which can be a bottleneck for CPU-bound operations. Multiprocessing circumvents this by using separate memory space for each process, thereby bypassing the GIL and taking full advantage of multiple CPU cores.\n",
    "\n",
    "Why is Multiprocessing Useful?\n",
    "Enhanced Performance: By utilizing multiple CPU cores, you can significantly speed up CPU-bound tasks such as mathematical computations, data processing, and other intensive operations.\n",
    "\n",
    "True Parallelism: Since each process runs in its own Python interpreter and memory space, true parallel execution is achieved. This contrasts with threading, which is limited by the GIL.\n",
    "\n",
    "Scalability: Multiprocessing can improve the scalability of applications, allowing them to handle more tasks simultaneously without being bottlenecked by the GIL.\n",
    "\n",
    "Separation of Concerns: Processes are isolated from each other, reducing the risk of interference and side-effects between them. This can lead to more robust and maintainable code.\n",
    "\n",
    "Key Features of the Multiprocessing Module\n",
    "Process Class: Allows you to create a new process with target functions and arguments.\n",
    "\n",
    "Pool Class: Manages a pool of worker processes, simplifying the parallel execution of a function across multiple input values.\n",
    "\n",
    "Shared Memory: Supports sharing data between processes through shared memory objects like Value or Array.\n",
    "\n",
    "Synchronization Primitives: Provides locks, events, semaphores, and conditions to synchronize processes.\n",
    "\n",
    "Queues and Pipes: Facilitates communication between processes using message passing.\n",
    "\n",
    "Example Usage\n",
    "Here's a simple example demonstrating the use of the Process class:"
   ]
  },
  {
   "cell_type": "code",
   "execution_count": 1,
   "id": "1e3c80e3-6afe-45f4-80a5-2ecd7b05f993",
   "metadata": {},
   "outputs": [
    {
     "name": "stdout",
     "output_type": "stream",
     "text": [
      "Worker: 0\n",
      "Worker: 1\n",
      "Worker: 2\n",
      "Worker: 3\n",
      "Worker: 4\n"
     ]
    }
   ],
   "source": [
    "from multiprocessing import Process\n",
    "\n",
    "def worker(num):\n",
    "    print(f'Worker: {num}')\n",
    "\n",
    "if __name__ == '__main__':\n",
    "    processes = []\n",
    "    for i in range(5):\n",
    "        p = Process(target=worker, args=(i,))\n",
    "        processes.append(p)\n",
    "        p.start()\n",
    "\n",
    "    for p in processes:\n",
    "        p.join()\n"
   ]
  },
  {
   "cell_type": "markdown",
   "id": "1950f9bf-4402-4212-84c3-729f13cbf626",
   "metadata": {},
   "source": [
    "This example creates five separate processes, each running the worker function in parallel.\n",
    "\n",
    "Summary\n",
    "Multiprocessing in Python is a powerful tool for achieving parallelism and improving the performance of CPU-bound tasks. By leveraging multiple CPU cores and avoiding the GIL, it enables true concurrent execution, making it invaluable for compute-intensive applications.\n",
    "\n",
    "\n",
    "\n",
    "\n",
    "\n",
    "\n"
   ]
  },
  {
   "cell_type": "markdown",
   "id": "4a8c880b-e6c1-4479-b10e-244e6bfbb54e",
   "metadata": {},
   "source": [
    "## Q2. What are the differences between multiprocessing and multithreading?"
   ]
  },
  {
   "cell_type": "markdown",
   "id": "3ca916b0-681e-482b-9516-eb69fc5859fd",
   "metadata": {},
   "source": [
    "The key difference between multiprocessing and multithreading boils down to how they handle processing power:\n",
    "\n",
    "Multiprocessing: This leverages multiple CPUs within a system. It essentially runs multiple programs concurrently, each on its own dedicated CPU. This allows for true parallel processing, significantly improving performance for tasks that can be effectively broken down into independent parts.\n",
    "\n",
    "Multithreading: Here, a single CPU handles multiple threads of a single program.  Threads are like mini-programs within a larger program. The CPU can switch between threads rapidly, giving the illusion of simultaneous execution. This is efficient for tasks with some independent steps but also reliant on shared data."
   ]
  },
  {
   "cell_type": "markdown",
   "id": "08f32129-6d5a-46b4-90c7-855a33d35d9a",
   "metadata": {},
   "source": [
    "## Q3. Write a python code to create a process using the multiprocessing module."
   ]
  },
  {
   "cell_type": "code",
   "execution_count": 4,
   "id": "62a105fc-6e01-4479-89f9-7e2ee197b5ae",
   "metadata": {},
   "outputs": [
    {
     "name": "stdout",
     "output_type": "stream",
     "text": [
      "Main process ID: 103\n",
      "Process 353 squared 5 to get 25\n"
     ]
    }
   ],
   "source": [
    "import os\n",
    "import multiprocessing\n",
    "\n",
    "def square(num):\n",
    "  \"\"\"Squares a number and prints the result\"\"\"\n",
    "  result = num * num\n",
    "  print(f\"Process {os.getpid()} squared {num} to get {result}\")\n",
    "\n",
    "if __name__ == \"__main__\":\n",
    "  # Create a process with the square function as the target\n",
    "  process = multiprocessing.Process(target=square, args=(5,))\n",
    "\n",
    "  # Start the process\n",
    "  process.start()\n",
    "\n",
    "  # Wait for the process to finish (optional)\n",
    "  # process.join()\n",
    "\n",
    "  # Print the process ID of the main process\n",
    "  print(f\"Main process ID: {os.getpid()}\")\n"
   ]
  },
  {
   "cell_type": "markdown",
   "id": "210e07a4-59c0-4ea5-ac22-3829d66b627d",
   "metadata": {},
   "source": [
    "This code defines a function square that takes a number, squares it, and prints the result. The multiprocessing.Process class is then used to create a new process with the square function as its target. The args argument is used to pass the number 5 as an argument to the square function.\n",
    "\n",
    "The start() method is called to start the process execution. By default, the join() method is not called, which means the main program will continue running without waiting for the child process to finish. You can uncomment the join() method call if you want the main program to wait for the child process to complete before continuing.\n",
    "\n",
    "This code demonstrates a basic example of creating a process using multiprocessing. You can adapt this code for various tasks that benefit from parallel processing."
   ]
  },
  {
   "cell_type": "markdown",
   "id": "3b5842c3-2c3c-4860-bf23-0f461dbb28c0",
   "metadata": {},
   "source": [
    "## Q4. What is a multiprocessing pool in python? Why is it used?"
   ]
  },
  {
   "cell_type": "code",
   "execution_count": 5,
   "id": "5e5fcb67-7baa-42ee-a8fc-384c5e4cd2cf",
   "metadata": {},
   "outputs": [
    {
     "name": "stdout",
     "output_type": "stream",
     "text": [
      "[1, 4, 9, 16]\n"
     ]
    }
   ],
   "source": [
    "from multiprocessing import Pool\n",
    "\n",
    "def square(num):\n",
    "  return num * num\n",
    "\n",
    "# Create a pool of 4 worker processes\n",
    "pool = Pool(processes=4)\n",
    "\n",
    "# Use map to apply the square function to a list of numbers\n",
    "results = pool.map(square, [1, 2, 3, 4])\n",
    "\n",
    "# Print the squared results\n",
    "print(results)\n",
    "\n",
    "# Close the pool when finished\n",
    "pool.close()\n",
    "pool.join()\n"
   ]
  },
  {
   "cell_type": "markdown",
   "id": "b6ee5266-bbd1-4c62-9f6d-0cd0359ea386",
   "metadata": {},
   "source": [
    "A multiprocessing pool in Python is a group of pre-existing worker processes managed by the multiprocessing.pool.Pool class. It simplifies running multiple tasks in parallel across CPUs for CPU-bound operations."
   ]
  },
  {
   "cell_type": "markdown",
   "id": "5383bbb5-39ff-499a-83a9-adb6e8b9e75b",
   "metadata": {},
   "source": [
    "## Q5. How can we create a pool of worker processes in python using the multiprocessing module?"
   ]
  },
  {
   "cell_type": "code",
   "execution_count": 6,
   "id": "9d2bbfa0-416e-427f-a459-e66b61674ebe",
   "metadata": {},
   "outputs": [
    {
     "name": "stdout",
     "output_type": "stream",
     "text": [
      "[1, 4, 9, 16]\n"
     ]
    }
   ],
   "source": [
    "from multiprocessing import Pool\n",
    "\n",
    "def square(num):\n",
    "  \"\"\"Squares a number\"\"\"\n",
    "  return num * num\n",
    "\n",
    "if __name__ == \"__main__\":\n",
    "  # Create a pool of 4 worker processes\n",
    "  pool = Pool(processes=4)\n",
    "\n",
    "  # List of numbers to square\n",
    "  numbers = [1, 2, 3, 4]\n",
    "\n",
    "  # Submit tasks to the pool using map\n",
    "  results = pool.map(square, numbers)\n",
    "\n",
    "  # Print the squared results\n",
    "  print(results)\n",
    "\n",
    "  # Close the pool when finished\n",
    "  pool.close()\n",
    "  pool.join()\n"
   ]
  },
  {
   "cell_type": "markdown",
   "id": "cccfae8e-b156-4b7f-8f60-eb75455bc277",
   "metadata": {},
   "source": [
    "## Q6. Write a python program to create 4 processes, each process should print a different number using the multiprocessing module in python."
   ]
  },
  {
   "cell_type": "code",
   "execution_count": 7,
   "id": "5722a3bc-df89-4aff-a55c-7f66bf6443d8",
   "metadata": {},
   "outputs": [
    {
     "name": "stdout",
     "output_type": "stream",
     "text": [
      "Process ID: 759 - Number: 1\n",
      "Process ID: 762 - Number: 2\n",
      "Process ID: 769 - Number: 3\n",
      "Process ID: 772 - Number: 4\n",
      "Main process finished.\n"
     ]
    }
   ],
   "source": [
    "import multiprocessing\n",
    "\n",
    "def print_number(num):\n",
    "  \"\"\"Prints a number\"\"\"\n",
    "  print(f\"Process ID: {os.getpid()} - Number: {num}\")\n",
    "\n",
    "if __name__ == \"__main__\":\n",
    "  # List of numbers to print (one for each process)\n",
    "  numbers = [1, 2, 3, 4]\n",
    "\n",
    "  # Create 4 processes\n",
    "  processes = [multiprocessing.Process(target=print_number, args=(num,)) for num in numbers]\n",
    "\n",
    "  # Start all processes\n",
    "  for process in processes:\n",
    "    process.start()\n",
    "\n",
    "  # Wait for all processes to finish\n",
    "  for process in processes:\n",
    "    process.join()\n",
    "\n",
    "  print(\"Main process finished.\")\n"
   ]
  },
  {
   "cell_type": "markdown",
   "id": "b43040f4-8102-48eb-98d7-fbdb1c1c91ab",
   "metadata": {},
   "source": [
    "This code defines a function print_number that takes a number and prints it along with the process ID. The main program creates a list of numbers (one for each process). Then, it uses a list comprehension to create 4 Process objects, each with the print_number function as the target and a specific number from the list as an argument.\n",
    "\n",
    "The program iterates through the processes list, starting each process using process.start(). Finally, it uses another loop with process.join() to wait for all child processes to finish before continuing. This ensures all processes have finished printing their numbers before the main process completes."
   ]
  },
  {
   "cell_type": "code",
   "execution_count": null,
   "id": "4369a916-c83e-4980-9a5a-4d136e905f04",
   "metadata": {},
   "outputs": [],
   "source": []
  }
 ],
 "metadata": {
  "kernelspec": {
   "display_name": "Python 3 (ipykernel)",
   "language": "python",
   "name": "python3"
  },
  "language_info": {
   "codemirror_mode": {
    "name": "ipython",
    "version": 3
   },
   "file_extension": ".py",
   "mimetype": "text/x-python",
   "name": "python",
   "nbconvert_exporter": "python",
   "pygments_lexer": "ipython3",
   "version": "3.10.8"
  }
 },
 "nbformat": 4,
 "nbformat_minor": 5
}
