{
 "cells": [
  {
   "cell_type": "markdown",
   "id": "8d533781-291f-4002-bceb-4af2d44de3c1",
   "metadata": {},
   "source": [
    "Q1. Explain Class and Object with respect to Object-Oriented Programming. Give a suitable example."
   ]
  },
  {
   "cell_type": "markdown",
   "id": "a326040c-2544-4156-9793-6d45eeae32c6",
   "metadata": {},
   "source": [
    "Answer:"
   ]
  },
  {
   "cell_type": "markdown",
   "id": "29a791eb-0f5f-4385-a147-0c359bdfe9fc",
   "metadata": {},
   "source": [
    "class ia a object-oriented programming language and  object are fundamental concepts that help organize and structure code. They are building blocks for modeling and working with real-world entities and their behaviors in a program."
   ]
  },
  {
   "cell_type": "code",
   "execution_count": 3,
   "id": "bb7cde2a-a1aa-4b22-9ccb-9f3a19ea8374",
   "metadata": {},
   "outputs": [
    {
     "name": "stdout",
     "output_type": "stream",
     "text": [
      "Your Train number is : 4521244.  your id is : 1.  your name is :  kapil. your ticket price is : 45\n",
      "Your Train number is : 4562131.  your id is : 2.  your name is :  himanshu. your ticket price is : 45\n"
     ]
    }
   ],
   "source": [
    "class railway_form:\n",
    "    def __init__(self, Train_Number , person_id , person_name, person_price ):\n",
    "        self.Train_Number = Train_Number\n",
    "        self.person_id = person_id\n",
    "        self.person_name = person_name\n",
    "        self.person_price = person_price\n",
    "    def person_details(self):\n",
    "            print(f\"Your Train number is : {self.Train_Number}.  your id is : {self.person_id}.  your name is :  {self.person_name}. your ticket price is : {self.person_price}\")\n",
    "person_1 = railway_form(4521244, 1, \"kapil\", 45)\n",
    "person_2 = railway_form(4562131, 2, \"himanshu\" , 45) \n",
    "        \n",
    "person_1.person_details()\n",
    "person_2.person_details()\n",
    "        "
   ]
  },
  {
   "cell_type": "raw",
   "id": "90f2b586-c0ef-4140-b937-ba0e6d033e62",
   "metadata": {},
   "source": [
    "This is a example show that is class is railway_form and object is a person_1 and person_2 each  railway_form objects  "
   ]
  },
  {
   "cell_type": "code",
   "execution_count": null,
   "id": "835f2b7e-1b6d-4f48-8424-6631b89d4af3",
   "metadata": {},
   "outputs": [],
   "source": []
  },
  {
   "cell_type": "markdown",
   "id": "22566667-8472-4967-bba8-3fb91fb8a2bf",
   "metadata": {},
   "source": [
    "Q2. Name the four pillars of OOPs."
   ]
  },
  {
   "cell_type": "markdown",
   "id": "739b4aa8-be3c-44c6-8dc2-b34a15709420",
   "metadata": {},
   "source": [
    "Answer:"
   ]
  },
  {
   "cell_type": "markdown",
   "id": "a46edddf-c3eb-4b1d-bb0a-6077effce443",
   "metadata": {},
   "source": [
    "This is a four pillars of OOPs\n",
    "1. Encapsulation\n",
    "2. Inheritance\n",
    "3. Polymorphism\n",
    "4. Abstraction"
   ]
  },
  {
   "cell_type": "code",
   "execution_count": null,
   "id": "618f110e-9dcf-43da-ba96-5333d3ec2a7f",
   "metadata": {},
   "outputs": [],
   "source": []
  },
  {
   "cell_type": "markdown",
   "id": "e85348bc-b0d1-4f01-8dc1-d09df00cc39d",
   "metadata": {},
   "source": [
    "Q3. Explain why the __init__() function is used. Give a suitable example."
   ]
  },
  {
   "cell_type": "markdown",
   "id": "b444eada-222e-44e1-8c90-661237196aa5",
   "metadata": {},
   "source": [
    "Answer:"
   ]
  },
  {
   "cell_type": "code",
   "execution_count": 2,
   "id": "5f4ff999-489e-4ffd-9fbe-0d621b705f6b",
   "metadata": {},
   "outputs": [],
   "source": [
    "class person:\n",
    "    def __init__(self, person_name , person_age):  # __init function use because value to  initializes  and object define this value\n",
    "        self.person_name  = person_name\n",
    "        self.person_age = person_age\n",
    "    def define():\n",
    "        print(\"person name is {person_name} : person age is {person_age}\")\n",
    "\n",
    "person_1 = person(\"kapil\", 18)\n",
    "person_2 = person(\"sudh\" , 45)\n",
    "# the easly define person attributes and initialize a value of create different different object\n"
   ]
  },
  {
   "cell_type": "code",
   "execution_count": null,
   "id": "2c58987f-e41e-4f21-abcd-e77bf927f0ef",
   "metadata": {},
   "outputs": [],
   "source": []
  },
  {
   "cell_type": "markdown",
   "id": "b244c8bb-c844-497a-b99d-cb83d40fe1a0",
   "metadata": {},
   "source": [
    "Q4. Why self is used in OOPs?"
   ]
  },
  {
   "cell_type": "markdown",
   "id": "d9e52272-f747-478e-9c45-4d4ca32435ba",
   "metadata": {},
   "source": [
    "Answer:"
   ]
  },
  {
   "cell_type": "markdown",
   "id": "1749b5c5-72df-4afa-864a-255a9911fe85",
   "metadata": {},
   "source": [
    "Self is used in oops because it can define attributes of any function and call it in different methods."
   ]
  },
  {
   "cell_type": "markdown",
   "id": "b6ec401d-d228-4b0b-8934-8f4757308d76",
   "metadata": {},
   "source": [
    "\"self\" is used in Python to identify an instance of a class (objects) and to access the data (attributes)  and functions  present in that object."
   ]
  },
  {
   "cell_type": "code",
   "execution_count": null,
   "id": "6e217904-d916-48ad-8519-6bef34e79418",
   "metadata": {},
   "outputs": [],
   "source": [
    "\n"
   ]
  },
  {
   "cell_type": "markdown",
   "id": "bd00bf4c-2d7d-4244-bbd8-472edfb42e06",
   "metadata": {},
   "source": [
    "Q5. What is inheritance? Give an example for each type of inheritance."
   ]
  },
  {
   "cell_type": "markdown",
   "id": "e2af8a66-f740-4ff2-92a5-b7735c40a5ed",
   "metadata": {},
   "source": [
    "Answer:"
   ]
  },
  {
   "cell_type": "markdown",
   "id": "bd9df517-5fbc-4a4e-8f58-03051fa9ebbc",
   "metadata": {},
   "source": [
    "Inheritance is a super class or parent class this used multi placed and this method very useful by inheriting the attributes and methods of an existing class. Inheritance promotes code reuse, extensibiltiy and the creation of a hierachy of classes"
   ]
  },
  {
   "cell_type": "code",
   "execution_count": 5,
   "id": "67f5eb46-9416-4448-ae19-0c94320b3cf9",
   "metadata": {},
   "outputs": [
    {
     "name": "stdout",
     "output_type": "stream",
     "text": [
      "this is a child1\n"
     ]
    }
   ],
   "source": [
    "# Example\n",
    "\n",
    "# Single Inheritance\n",
    "# In single inheritance, a subclass inherits from a single superclass.\n",
    "\n",
    "\n",
    "class parent1:\n",
    "    def child1(self):\n",
    "        print(\"this is a child1\")\n",
    "class parent2(parent1):\n",
    "    def child2(self):\n",
    "        print(\"This is a chlid2\")\n",
    "        \n",
    "person = parent2()\n",
    "person.child1()\n",
    "    "
   ]
  },
  {
   "cell_type": "code",
   "execution_count": 24,
   "id": "da42db25-e140-4bae-a908-60824b80f94d",
   "metadata": {},
   "outputs": [
    {
     "name": "stdout",
     "output_type": "stream",
     "text": [
      "This is a class_2\n",
      "This is  a class_1\n",
      "This is a class_3\n"
     ]
    }
   ],
   "source": [
    "# Multiple Inheritance: \n",
    "# In multiple inheritance, a subclass can inherit from more than one superclass.\n",
    "\n",
    "class class_1:\n",
    "    def classP_1(self):\n",
    "        print(\"This is  a class_1\")\n",
    "class class_2:\n",
    "    def classp_2(self):\n",
    "        print(\"This is a class_2\")\n",
    "class class_3(class_1, class_2):\n",
    "    def multi(self):\n",
    "        print(\"This is a class_3\")\n",
    "parent = class_3()\n",
    "parent.classp_2()\n",
    "parent.classP_1()\n",
    "parent.multi()\n",
    "        "
   ]
  },
  {
   "cell_type": "code",
   "execution_count": 30,
   "id": "23ec58ea-dd12-4fc3-a295-45fb9321a2f6",
   "metadata": {},
   "outputs": [
    {
     "name": "stdout",
     "output_type": "stream",
     "text": [
      "This is a child 3\n",
      "This is a child 2\n",
      "This is  a child1\n"
     ]
    }
   ],
   "source": [
    "# Multilevel Inheritance: \n",
    "# In multilevel inheritance, a subclass inherits from a superclass, and another subclass inherits from the first subclass, creating a chain of inheritance.\n",
    "\n",
    "class person1:\n",
    "    def child1(self):\n",
    "        print(\"This is  a child1\")\n",
    "class person2(person1):\n",
    "    def child2(self):\n",
    "        print(\"This is a child 2\")\n",
    "class person3(person2):\n",
    "    def child3(self):\n",
    "        print(\"This is a child 3\")\n",
    "sudh = person3()\n",
    "sudh.child3()\n",
    "sudh.child2()\n",
    "sudh.child1()"
   ]
  },
  {
   "cell_type": "code",
   "execution_count": 58,
   "id": "389d28b0-aa63-4b7b-bfad-815806d12812",
   "metadata": {},
   "outputs": [
    {
     "name": "stdout",
     "output_type": "stream",
     "text": [
      "person name is a  sudh : person age is a 45\n",
      " Train Number is a 345343\n"
     ]
    }
   ],
   "source": [
    "# Hierarchical Inheritance:\n",
    "# In hierarchical inheritance, multiple subclasses inherit from a single superclass.\n",
    "\n",
    "class Railway_form:\n",
    "    def person_details(self):\n",
    "        pass\n",
    "    def train_num(self):\n",
    "        pass\n",
    "class person(Railway_form):\n",
    "    \n",
    "    \n",
    "    def __init__(self, train_number ,name, age ):\n",
    "        self.train_number = train_number\n",
    "        self.name = name\n",
    "        self.age = age\n",
    "    def person_details(self):\n",
    "        print(f\"person name is a  {self.name} : person age is a {self.age}\")\n",
    "class train(Railway_form):\n",
    "    def __init__(self, train_number ,name, age ):\n",
    "        self.train_number = train_number\n",
    "        self.name = name\n",
    "        self.age = age\n",
    "    def train_num(self):\n",
    "        print(f\" Train Number is a {self.train_number}\")\n",
    "\n",
    "person_1 = person(\"23446\", \"sudh\", \"45\")\n",
    "person_2 = train(345343, \"kapil\", 18)\n",
    "person_1.person_details()\n",
    "person_2.train_num()\n",
    "person_2.person_details()\n"
   ]
  },
  {
   "cell_type": "code",
   "execution_count": null,
   "id": "bcd92923-c06f-463b-b17f-f8baecedbecc",
   "metadata": {},
   "outputs": [],
   "source": []
  }
 ],
 "metadata": {
  "kernelspec": {
   "display_name": "Python 3 (ipykernel)",
   "language": "python",
   "name": "python3"
  },
  "language_info": {
   "codemirror_mode": {
    "name": "ipython",
    "version": 3
   },
   "file_extension": ".py",
   "mimetype": "text/x-python",
   "name": "python",
   "nbconvert_exporter": "python",
   "pygments_lexer": "ipython3",
   "version": "3.10.8"
  }
 },
 "nbformat": 4,
 "nbformat_minor": 5
}
