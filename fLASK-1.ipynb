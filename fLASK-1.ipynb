{
 "cells": [
  {
   "cell_type": "markdown",
   "id": "5c4e83c2-d0c8-4fc4-bae4-575a9f265b84",
   "metadata": {},
   "source": [
    "## Q1. What is Flask Framework? What are the advantages of Flask Framework?"
   ]
  },
  {
   "cell_type": "markdown",
   "id": "c0ef4952-beeb-4493-8cbb-8f8f5aaec733",
   "metadata": {},
   "source": [
    "Flask is a microframework written in Python that allows you to build web applications.  Think of it as a set of tools that makes creating web applications faster and easier. Here are some key characteristics of Flask:\n",
    "\n",
    "Microframework: Unlike full-fledged frameworks that provide a lot of structure and functionality out-of-the-box, Flask is more minimal. It offers a core set of features and lets you choose additional functionalities through extensions as needed. This makes Flask lightweight and flexible.\n",
    "Pythonic: Built with Pythonic principles in mind, Flask is known for its clean, readable, and easy-to-learn code. This makes it a good choice for developers who are familiar with Python.\n",
    "Flexibility: Flask gives you a high degree of control over the application's architecture. You can choose the libraries and tools you want to use, allowing you to tailor the application to your specific needs.\n",
    "Advantages of Flask Framework:\n",
    "\n",
    "Simple and Easy to Learn: Flask's minimalist approach and Pythonic syntax make it a great choice for beginners who are new to web development. You can get started quickly and begin building basic web applications with minimal code.\n",
    "Lightweight and Flexible: As a microframework, Flask is small and doesn't impose a lot of overhead. This makes it ideal for developing smaller web applications or for situations where you need more control over the application's architecture.\n",
    "Scalable: While Flask is often used for smaller projects, it can also be scaled to handle larger applications by leveraging extensions and following best practices.\n",
    "Rich Ecosystem of Extensions: Flask has a vast ecosystem of third-party extensions that provide additional functionalities like database integration, form validation, user authentication, and more. This allows you to extend the capabilities of your Flask application without reinventing the wheel.\n",
    "Community and Documentation: Flask benefits from a large and active community of developers. This means you have access to extensive documentation, tutorials, and forums for support when needed.\n",
    "Here's an analogy:  Imagine building a house. A full-fledged framework might be like a prefabricated house kit with all the walls, doors, and windows included. Flask would be like a set of high-quality building blocks that give you the flexibility to design and construct your house exactly how you want it.\n",
    "\n",
    "If you're looking to get started with web development in Python, or if you need a lightweight and flexible framework for your project, Flask is a strong contender to consider."
   ]
  },
  {
   "cell_type": "markdown",
   "id": "34d0551c-3895-4b44-a4c4-88fea5124a1d",
   "metadata": {},
   "source": [
    "## Q2. Create a simple Flask application to display ‘Hello World!!’. Attach the screenshot of the output in Jupyter Notebook."
   ]
  },
  {
   "cell_type": "markdown",
   "id": "0f1464db-f169-42fd-9028-f70ddde12f5e",
   "metadata": {},
   "source": [
    "from flask import Flask\n",
    "\n",
    "app = Flask(__name__)\n",
    "\n",
    "@app.route(\"/\")\n",
    "def hello_world():\n",
    "    return \"<h1>Hello, World!</h1>\"\n",
    "\n",
    "if __name__==\"__main__\":\n",
    "    app.run(host=\"0.0.0.0\")\n"
   ]
  },
  {
   "cell_type": "code",
   "execution_count": 4,
   "id": "f53a295b-6db2-4411-9f52-ea52e4158705",
   "metadata": {},
   "outputs": [
    {
     "ename": "ValueError",
     "evalue": "Cannot embed the 'assignment/to/your/image' image format",
     "output_type": "error",
     "traceback": [
      "\u001b[0;31m---------------------------------------------------------------------------\u001b[0m",
      "\u001b[0;31mValueError\u001b[0m                                Traceback (most recent call last)",
      "Cell \u001b[0;32mIn[4], line 4\u001b[0m\n\u001b[1;32m      2\u001b[0m width \u001b[38;5;241m=\u001b[39m \u001b[38;5;241m200\u001b[39m\n\u001b[1;32m      3\u001b[0m height \u001b[38;5;241m=\u001b[39m \u001b[38;5;241m200\u001b[39m\n\u001b[0;32m----> 4\u001b[0m \u001b[43mImage\u001b[49m\u001b[43m(\u001b[49m\u001b[43mfilename\u001b[49m\u001b[38;5;241;43m=\u001b[39;49m\u001b[38;5;124;43m\"\u001b[39;49m\u001b[38;5;124;43massignment/to/your/image\u001b[39;49m\u001b[38;5;124;43m\"\u001b[39;49m\u001b[43m,\u001b[49m\u001b[43m \u001b[49m\u001b[43mwidth\u001b[49m\u001b[38;5;241;43m=\u001b[39;49m\u001b[43mwidth\u001b[49m\u001b[43m,\u001b[49m\u001b[43m \u001b[49m\u001b[43mheight\u001b[49m\u001b[38;5;241;43m=\u001b[39;49m\u001b[43mheight\u001b[49m\u001b[43m)\u001b[49m\n",
      "File \u001b[0;32m/opt/conda/lib/python3.10/site-packages/IPython/core/display.py:961\u001b[0m, in \u001b[0;36mImage.__init__\u001b[0;34m(self, data, url, filename, format, embed, width, height, retina, unconfined, metadata, alt)\u001b[0m\n\u001b[1;32m    958\u001b[0m \u001b[38;5;28mself\u001b[39m\u001b[38;5;241m.\u001b[39membed \u001b[38;5;241m=\u001b[39m embed \u001b[38;5;28;01mif\u001b[39;00m embed \u001b[38;5;129;01mis\u001b[39;00m \u001b[38;5;129;01mnot\u001b[39;00m \u001b[38;5;28;01mNone\u001b[39;00m \u001b[38;5;28;01melse\u001b[39;00m (url \u001b[38;5;129;01mis\u001b[39;00m \u001b[38;5;28;01mNone\u001b[39;00m)\n\u001b[1;32m    960\u001b[0m \u001b[38;5;28;01mif\u001b[39;00m \u001b[38;5;28mself\u001b[39m\u001b[38;5;241m.\u001b[39membed \u001b[38;5;129;01mand\u001b[39;00m \u001b[38;5;28mself\u001b[39m\u001b[38;5;241m.\u001b[39mformat \u001b[38;5;129;01mnot\u001b[39;00m \u001b[38;5;129;01min\u001b[39;00m \u001b[38;5;28mself\u001b[39m\u001b[38;5;241m.\u001b[39m_ACCEPTABLE_EMBEDDINGS:\n\u001b[0;32m--> 961\u001b[0m     \u001b[38;5;28;01mraise\u001b[39;00m \u001b[38;5;167;01mValueError\u001b[39;00m(\u001b[38;5;124m\"\u001b[39m\u001b[38;5;124mCannot embed the \u001b[39m\u001b[38;5;124m'\u001b[39m\u001b[38;5;132;01m%s\u001b[39;00m\u001b[38;5;124m'\u001b[39m\u001b[38;5;124m image format\u001b[39m\u001b[38;5;124m\"\u001b[39m \u001b[38;5;241m%\u001b[39m (\u001b[38;5;28mself\u001b[39m\u001b[38;5;241m.\u001b[39mformat))\n\u001b[1;32m    962\u001b[0m \u001b[38;5;28;01mif\u001b[39;00m \u001b[38;5;28mself\u001b[39m\u001b[38;5;241m.\u001b[39membed:\n\u001b[1;32m    963\u001b[0m     \u001b[38;5;28mself\u001b[39m\u001b[38;5;241m.\u001b[39m_mimetype \u001b[38;5;241m=\u001b[39m \u001b[38;5;28mself\u001b[39m\u001b[38;5;241m.\u001b[39m_MIMETYPES\u001b[38;5;241m.\u001b[39mget(\u001b[38;5;28mself\u001b[39m\u001b[38;5;241m.\u001b[39mformat)\n",
      "\u001b[0;31mValueError\u001b[0m: Cannot embed the 'assignment/to/your/image' image format"
     ]
    }
   ],
   "source": [
    "from IPython.display import Image\n",
    "width = 200\n",
    "height = 200\n",
    "Image(filename=\"assignment/to/your/image\", width=width, height=height)\n"
   ]
  },
  {
   "cell_type": "markdown",
   "id": "9e0c6271-2ae0-4531-a586-55f05802466e",
   "metadata": {},
   "source": [
    "## Q3. What is App routing in Flask? Why do we use app routes?"
   ]
  },
  {
   "cell_type": "markdown",
   "id": "bdf01c3b-777f-420a-8aba-792ad5bf19be",
   "metadata": {},
   "source": [
    "In Flask, app routing acts as the cornerstone of navigation and functionality within your web application. It's the mechanism that maps specific URLs (Uniform Resource Locators) to the corresponding Python functions that handle those requests. Here's a breakdown of why app routing is essential in Flask development:\n",
    "\n",
    "Organization:\n",
    "\n",
    "App routing promotes a structured way to organize your code. By associating distinct functionalities with specific URLs, you improve maintainability and readability, especially for larger projects with numerous features.\n",
    "Clarity:\n",
    "\n",
    "Meaningful URLs provide a clear and in\n",
    "tuitive way for users to navigate your application. Users can often predict the functionality based on the URL structure, enhancing the user experience.\n",
    "Flexibility:\n",
    "\n",
    "App routing allows you to handle different types of requests for the same resource. For instance, you might have a route to display a product (/products/<product_id>) and another route for handling a product update request (/products/<product_id>/update).\n",
    "SEO (Search Engine Optimization):\n",
    "\n",
    "Well-structured URLs with relevant keywords can contribute to better search engine ranking. Search engines can better understand the content and purpose of each page on your website, potentially improving your search visibility."
   ]
  },
  {
   "cell_type": "markdown",
   "id": "a239bdb9-f3e8-420f-bb18-d480a82e953e",
   "metadata": {},
   "source": [
    "## Q4. Create a “/welcome” route to display the welcome message “Welcome to ABC Corporation” and a “/” route to show the following details: Company Name: ABC Corporation Location: India Contact Detail: 999-999-9999"
   ]
  },
  {
   "cell_type": "code",
   "execution_count": null,
   "id": "36787005-4e54-4796-acce-a750e37b05ef",
   "metadata": {},
   "outputs": [],
   "source": [
    "from flask import Flask\n",
    "\n",
    "app = Flask(__name__)\n",
    "\n",
    "@app.route(\"/\")\n",
    "def company_details():\n",
    "  \"\"\"Displays company details on the root URL.\"\"\"\n",
    "  company_name = \"ABC Corporation\"\n",
    "  location = \"India\"\n",
    "  contact_details = \"999-999-9999\"\n",
    "  return f\"\"\"\n",
    "  <html>\n",
    "    <body>\n",
    "      <h1>Company Details</h1>\n",
    "      <p>Company Name: {company_name}</p>\n",
    "      <p>Location: {location}</p>\n",
    "      <p>Contact Details: {contact_details}</p>\n",
    "    </body>\n",
    "  </html>\n",
    "  \"\"\"\n",
    "\n",
    "@app.route(\"/welcome\")\n",
    "def welcome():\n",
    "  \"\"\"Displays a welcome message.\"\"\"\n",
    "  return \"Welcome to ABC Corporation\"\n",
    "\n",
    "if __name__ == \"__main__\":\n",
    "  app.run(debug=True)\n"
   ]
  },
  {
   "cell_type": "markdown",
   "id": "7d7a1258-8bca-4d2d-bfdb-1984aa844c58",
   "metadata": {},
   "source": [
    "## Q5. What function is used in Flask for URL Building? Write a Python code to demonstrate the working of the url_for() function."
   ]
  },
  {
   "cell_type": "markdown",
   "id": "f7d85e17-294b-4af9-b78d-bfbc5bd6149c",
   "metadata": {},
   "source": [
    "The function used in Flask for URL building is url_for(). It takes two main arguments:\n",
    "\n",
    "1. Endpoint: This is the name of the view function associated with the desired URL. You assign names to view functions using the @app.route decorator.\n",
    "2. Keyword Arguments (optional): You can optionally pass keyword arguments to url_for() that correspond to dynamic parts of the URL defined in the view function."
   ]
  },
  {
   "cell_type": "code",
   "execution_count": null,
   "id": "8b92a19c-6fad-40d4-9f42-8de79d2c3d91",
   "metadata": {},
   "outputs": [],
   "source": [
    "from flask import Flask, url_for\n",
    "\n",
    "app = Flask(__name__)\n",
    "\n",
    "@app.route(\"/\")\n",
    "def index():\n",
    "    return \"Welcome to the Home Page!\"\n",
    "\n",
    "@app.route(\"/products/<int:product_id>\")\n",
    "def product_details(product_id):\n",
    "    return f\"Product Details for ID: {product_id}\"\n",
    "\n",
    "@app.route(\"/about\")\n",
    "def about_us():\n",
    "    return \"Learn more about us on the About Us page.\"\n",
    "\n",
    "if __name__ == \"__main__\":\n",
    "    # Generate URLs for different routes\n",
    "    home_url = url_for('index')  # Using the endpoint name 'index'\n",
    "    product_url = url_for('product_details', product_id=10)  # Providing keyword argument\n",
    "    about_url = url_for('about_us')  # Using the endpoint name 'about_us'\n",
    "\n",
    "    print(f\"Home URL: {home_url}\")\n",
    "    print(f\"Product Details URL (ID: 10): {product_url}\")\n",
    "    print(f\"About Us URL: {about_url}\")\n",
    "\n",
    "    app.run(debug=True)\n"
   ]
  }
 ],
 "metadata": {
  "kernelspec": {
   "display_name": "Python 3 (ipykernel)",
   "language": "python",
   "name": "python3"
  },
  "language_info": {
   "codemirror_mode": {
    "name": "ipython",
    "version": 3
   },
   "file_extension": ".py",
   "mimetype": "text/x-python",
   "name": "python",
   "nbconvert_exporter": "python",
   "pygments_lexer": "ipython3",
   "version": "3.10.8"
  }
 },
 "nbformat": 4,
 "nbformat_minor": 5
}
