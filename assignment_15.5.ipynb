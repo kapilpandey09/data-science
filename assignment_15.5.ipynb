{
 "cells": [
  {
   "cell_type": "markdown",
   "id": "c39cc9c3-4f04-44d3-96ea-c42a42f4a094",
   "metadata": {},
   "source": [
    "# Q1. What is Elastic Net Regression and how does it differ from other regression techniques?"
   ]
  },
  {
   "cell_type": "markdown",
   "id": "060b46ac-ad0e-4ce6-adc7-d84b17541208",
   "metadata": {},
   "source": [
    "Elastic Net Regression is a linear regression technique that combines both L1 regularization (Lasso) and L2 regularization (Ridge). It was introduced to address some of the limitations of using Lasso or Ridge regression alone. Here's an overview of Elastic Net and its differences from other regression techniques:"
   ]
  },
  {
   "cell_type": "markdown",
   "id": "74ae4603-9a35-418b-acb1-260d18cb4f2c",
   "metadata": {},
   "source": [
    "Lasso vs. Ridge vs. Elastic Net:\n",
    "\n",
    "Lasso tends to produce sparse models (some coefficients become exactly zero), effectively performing feature selection.\n",
    "Ridge tends to shrink coefficients towards zero, helping to mitigate multicollinearity.\n",
    "Elastic Net combines the advantages of both Lasso and Ridge, providing a balance between sparsity and handling multicollinearity.\n",
    "Advantages of Elastic Net:\n",
    "\n",
    "Overcomes some limitations of Lasso, such as sensitivity to multicollinearity and the tendency to select only one variable from a group of correlated variables.\n",
    "Retains the variable selection properties of Lasso while also benefiting from the stabilizing effect of Ridge.\n",
    "Disadvantages:\n",
    "\n",
    "Introduces two hyperparameters (alpha and lambda) that need to be tuned.\n",
    "Computational cost may be higher compared to Lasso or Ridge alone.\n",
    "Elastic Net is particularly useful when dealing with datasets with a large number of features and potential multicollinearity issues. It provides a more flexible approach to regularization by combining the strengths of both Lasso and Ridge regression."
   ]
  },
  {
   "cell_type": "markdown",
   "id": "865683f4-330a-4f7e-be3f-c1ae5d685d8c",
   "metadata": {},
   "source": [
    "# Q2. How do you choose the optimal values of the regularization parameters for Elastic Net Regression?"
   ]
  },
  {
   "cell_type": "markdown",
   "id": "365721a0-2a21-407d-a324-64507a20ac92",
   "metadata": {},
   "source": [
    "Use to hyper perameter and used also gridsearchcv"
   ]
  },
  {
   "cell_type": "markdown",
   "id": "906853a4-29d3-48a4-9eae-0c53b320dcf7",
   "metadata": {},
   "source": [
    "Alpha (α): The mixing parameter that determines the balance between L1 (Lasso) and L2 (Ridge) regularization.\n",
    "\n",
    "When α = 0, it is equivalent to Ridge Regression.\n",
    "When α = 1, it is equivalent to Lasso Regression.\n",
    "For 0 < α < 1, it is a combination of both L1 and L2 regularization.\n",
    "Lambda (λ): The regularization strength that controls the overall penalty applied to the coefficients."
   ]
  },
  {
   "cell_type": "markdown",
   "id": "0ba19012-0777-4000-9d65-84931ead6e79",
   "metadata": {},
   "source": [
    "# Q3. What are the advantages and disadvantages of Elastic Net Regression?"
   ]
  },
  {
   "cell_type": "markdown",
   "id": "c698e3b0-1148-4cc5-9c03-b50c390d038c",
   "metadata": {},
   "source": [
    "Elastic Net is particularly useful when dealing with datasets with a large number of features and potential multicollinearity issues. It provides a more flexible approach to regularization by combining the strengths of both Lasso and Ridge regression.\n",
    "\n",
    "\n",
    "#### advantage:\n",
    "\n",
    "- Handles Multicollinearity:\n",
    "Elastic Net combines L1 (Lasso) and L2 (Ridge) regularization, making it effective in handling multicollinearity issues among predictor variables.\n",
    "\n",
    "- Variable Selection:\n",
    "Like Lasso, Elastic Net can perform variable selection by driving some coefficients to exactly zero. This can be useful in scenarios where only a subset of predictors is relevant.\n",
    "\n",
    "- Flexibility in Penalty Combination:\n",
    "The mixing parameter, α, allows control over the balance between L1 and L2 regularization. This flexibility enables users to adapt the regularization method based on the characteristics of the dataset.\n",
    "\n",
    "- Robustness to Outliers:\n",
    "Elastic Net tends to be less sensitive to outliers compared to Lasso, thanks to the Ridge regularization component.\n",
    "\n",
    "- Suitable for High-Dimensional Datasets:\n",
    "Elastic Net is particularly useful when dealing with datasets with a large number of features, as it can effectively handle the high-dimensional setting.\n"
   ]
  },
  {
   "cell_type": "markdown",
   "id": "313ebe7d-1bdb-4efe-96bd-de07fbf58ac7",
   "metadata": {},
   "source": [
    "# Q4. What are some common use cases for Elastic Net Regression?"
   ]
  },
  {
   "cell_type": "markdown",
   "id": "2f4ba2f2-82c7-46af-a54b-4cff1746f3f5",
   "metadata": {},
   "source": [
    "This is used to solve many regression problem and find best feature select and feature tends to exist zero "
   ]
  },
  {
   "cell_type": "markdown",
   "id": "0c99718e-3316-49ef-af07-862c8ee007df",
   "metadata": {},
   "source": [
    "\n",
    "### High-Dimensional Data:\n",
    "\n",
    "- Elastic Net is well-suited for datasets with a large number of features, especially when there is potential multicollinearity. It helps prevent overfitting and provides a balance between feature selection and regularization.\n",
    "\n",
    "### Genomics and Bioinformatics:\n",
    "\n",
    "- In genetic studies, where datasets often have a large number of genetic markers (features) that may be correlated, Elastic Net can be used for feature selection and prediction of traits or outcomes.\n",
    "\n",
    "### Finance:\n",
    "\n",
    "- Elastic Net can be applied in finance for modeling stock prices, risk assessment, and portfolio optimization. It is beneficial when dealing with datasets that include numerous financial indicators, some of which may be interrelated."
   ]
  },
  {
   "cell_type": "markdown",
   "id": "1f007c41-536d-486a-9125-1d2b4ea766f0",
   "metadata": {},
   "source": [
    "### Marketing and Customer Analytics:\n",
    "\n",
    "- In marketing, Elastic Net can be employed for predicting customer behavior, such as purchase likelihood or churn. It is useful when dealing with datasets containing numerous customer attributes that may have correlations."
   ]
  },
  {
   "cell_type": "markdown",
   "id": "2765ab97-b204-4313-a35f-a4896c03f54f",
   "metadata": {},
   "source": [
    "# Q5. Define the confusion matrix and describe how it can be used to evaluate the performance of a classification model."
   ]
  },
  {
   "cell_type": "markdown",
   "id": "76c283d4-b2ff-47fd-a56e-d8463d609255",
   "metadata": {},
   "source": [
    "confusion matrix used to measured a model performance."
   ]
  },
  {
   "cell_type": "markdown",
   "id": "478ee0b9-2efd-4d97-b6a9-4ea522c090ef",
   "metadata": {},
   "source": [
    "\n",
    "A confusion matrix is a table used in classification to evaluate the performance of a model. It provides a summary of the predicted and actual classifications for a set of instances. The matrix is particularly useful when dealing with binary classification problems, where there are two possible classes (positive and negative)"
   ]
  },
  {
   "cell_type": "markdown",
   "id": "88c72ded-3a41-489a-8834-a892fb2ff131",
   "metadata": {},
   "source": [
    "# Q6. Provide an example of a confusion matrix and explain how precision, recall, and F1 score can be calculated from it."
   ]
  },
  {
   "cell_type": "code",
   "execution_count": null,
   "id": "334f0d40-ad77-4f2f-8751-e4e4452ea75e",
   "metadata": {},
   "outputs": [],
   "source": [
    "lua\n",
    "Copy code\n",
    "              Actual Class\n",
    "              +------------------+------------------+\n",
    "Predicted     |      Spam        |     Not Spam      |\n",
    "Class         +------------------+------------------+\n",
    "Spam          |        120       |         30       |\n",
    "              +------------------+------------------+\n",
    "Not Spam      |         20       |        230       |\n",
    "              +------------------+------------------+\n",
    "    \n",
    "    \n",
    "    In this confusion matrix:\n",
    "\n",
    "True Positive (TP) = 120\n",
    "True Negative (TN) = 230\n",
    "False Positive (FP) = 30\n",
    "False Negative (FN) = 20\n",
    "Now, let's calculate precision, recall, and F1 score:\n",
    "\n",
    "PRECISION:\n",
    "        TP/TP+FP\n",
    "        =120/120+30\n",
    "        =0.80\n",
    "RECALL:\n",
    "    TP/TP+FN\n",
    "    =120/120+20\n",
    "    =0.8571\n",
    "    \n",
    "F1 score:\n",
    "    The F1 score is the harmonic mean of precision and recall.\n",
    "\n",
    "     F1 Score = 2*precision*recall/precision+recall\n",
    "              = 2*0.8*0.8571/0.8+0.8571\n",
    "              = 0.8276\n",
    "\n"
   ]
  },
  {
   "cell_type": "markdown",
   "id": "544460e3-3a4f-488b-8ef9-d993758efda7",
   "metadata": {},
   "source": [
    "# Q7. How do you use Elastic Net Regression for feature selection?"
   ]
  },
  {
   "cell_type": "markdown",
   "id": "830f412b-19ce-4a74-bbac-547489a16bc2",
   "metadata": {},
   "source": [
    "Elastic Net Regression can be effectively used for feature selection due to its ability to include both L1 (Lasso) and L2 (Ridge) regularization penalties. The L1 penalty encourages sparsity in the model, driving some coefficients to exactly zero. This property of L1 regularization makes Elastic Net suitable for feature selection."
   ]
  },
  {
   "cell_type": "markdown",
   "id": "44d7ced6-78c6-418b-af9f-dd3abca3875e",
   "metadata": {},
   "source": [
    "# Q8. How do you pickle and unpickle a trained Elastic Net Regression model in Python?"
   ]
  },
  {
   "cell_type": "code",
   "execution_count": 56,
   "id": "ba74d9f5-e829-46a3-83b6-6e791788a09c",
   "metadata": {},
   "outputs": [],
   "source": [
    "import pickle\n",
    "from sklearn.linear_model import ElasticNet\n",
    "from sklearn.datasets import make_regression\n",
    "from sklearn.model_selection import train_test_split"
   ]
  },
  {
   "cell_type": "code",
   "execution_count": 57,
   "id": "0d8088b6-5cb1-4687-ae36-81aa0da76bb5",
   "metadata": {},
   "outputs": [],
   "source": [
    "X, y = make_regression(n_samples=100, n_features=2, noise=0.1, random_state=42)\n",
    "\n",
    "X_train, X_test, y_train, y_test = train_test_split(X,y, random_state=42, test_size=0.33)"
   ]
  },
  {
   "cell_type": "code",
   "execution_count": 64,
   "id": "aceb4885-f70c-414e-83d3-235373e1dfdf",
   "metadata": {},
   "outputs": [
    {
     "data": {
      "text/html": [
       "<style>#sk-container-id-2 {color: black;background-color: white;}#sk-container-id-2 pre{padding: 0;}#sk-container-id-2 div.sk-toggleable {background-color: white;}#sk-container-id-2 label.sk-toggleable__label {cursor: pointer;display: block;width: 100%;margin-bottom: 0;padding: 0.3em;box-sizing: border-box;text-align: center;}#sk-container-id-2 label.sk-toggleable__label-arrow:before {content: \"▸\";float: left;margin-right: 0.25em;color: #696969;}#sk-container-id-2 label.sk-toggleable__label-arrow:hover:before {color: black;}#sk-container-id-2 div.sk-estimator:hover label.sk-toggleable__label-arrow:before {color: black;}#sk-container-id-2 div.sk-toggleable__content {max-height: 0;max-width: 0;overflow: hidden;text-align: left;background-color: #f0f8ff;}#sk-container-id-2 div.sk-toggleable__content pre {margin: 0.2em;color: black;border-radius: 0.25em;background-color: #f0f8ff;}#sk-container-id-2 input.sk-toggleable__control:checked~div.sk-toggleable__content {max-height: 200px;max-width: 100%;overflow: auto;}#sk-container-id-2 input.sk-toggleable__control:checked~label.sk-toggleable__label-arrow:before {content: \"▾\";}#sk-container-id-2 div.sk-estimator input.sk-toggleable__control:checked~label.sk-toggleable__label {background-color: #d4ebff;}#sk-container-id-2 div.sk-label input.sk-toggleable__control:checked~label.sk-toggleable__label {background-color: #d4ebff;}#sk-container-id-2 input.sk-hidden--visually {border: 0;clip: rect(1px 1px 1px 1px);clip: rect(1px, 1px, 1px, 1px);height: 1px;margin: -1px;overflow: hidden;padding: 0;position: absolute;width: 1px;}#sk-container-id-2 div.sk-estimator {font-family: monospace;background-color: #f0f8ff;border: 1px dotted black;border-radius: 0.25em;box-sizing: border-box;margin-bottom: 0.5em;}#sk-container-id-2 div.sk-estimator:hover {background-color: #d4ebff;}#sk-container-id-2 div.sk-parallel-item::after {content: \"\";width: 100%;border-bottom: 1px solid gray;flex-grow: 1;}#sk-container-id-2 div.sk-label:hover label.sk-toggleable__label {background-color: #d4ebff;}#sk-container-id-2 div.sk-serial::before {content: \"\";position: absolute;border-left: 1px solid gray;box-sizing: border-box;top: 0;bottom: 0;left: 50%;z-index: 0;}#sk-container-id-2 div.sk-serial {display: flex;flex-direction: column;align-items: center;background-color: white;padding-right: 0.2em;padding-left: 0.2em;position: relative;}#sk-container-id-2 div.sk-item {position: relative;z-index: 1;}#sk-container-id-2 div.sk-parallel {display: flex;align-items: stretch;justify-content: center;background-color: white;position: relative;}#sk-container-id-2 div.sk-item::before, #sk-container-id-2 div.sk-parallel-item::before {content: \"\";position: absolute;border-left: 1px solid gray;box-sizing: border-box;top: 0;bottom: 0;left: 50%;z-index: -1;}#sk-container-id-2 div.sk-parallel-item {display: flex;flex-direction: column;z-index: 1;position: relative;background-color: white;}#sk-container-id-2 div.sk-parallel-item:first-child::after {align-self: flex-end;width: 50%;}#sk-container-id-2 div.sk-parallel-item:last-child::after {align-self: flex-start;width: 50%;}#sk-container-id-2 div.sk-parallel-item:only-child::after {width: 0;}#sk-container-id-2 div.sk-dashed-wrapped {border: 1px dashed gray;margin: 0 0.4em 0.5em 0.4em;box-sizing: border-box;padding-bottom: 0.4em;background-color: white;}#sk-container-id-2 div.sk-label label {font-family: monospace;font-weight: bold;display: inline-block;line-height: 1.2em;}#sk-container-id-2 div.sk-label-container {text-align: center;}#sk-container-id-2 div.sk-container {/* jupyter's `normalize.less` sets `[hidden] { display: none; }` but bootstrap.min.css set `[hidden] { display: none !important; }` so we also need the `!important` here to be able to override the default hidden behavior on the sphinx rendered scikit-learn.org. See: https://github.com/scikit-learn/scikit-learn/issues/21755 */display: inline-block !important;position: relative;}#sk-container-id-2 div.sk-text-repr-fallback {display: none;}</style><div id=\"sk-container-id-2\" class=\"sk-top-container\"><div class=\"sk-text-repr-fallback\"><pre>ElasticNet(alpha=0.5)</pre><b>In a Jupyter environment, please rerun this cell to show the HTML representation or trust the notebook. <br />On GitHub, the HTML representation is unable to render, please try loading this page with nbviewer.org.</b></div><div class=\"sk-container\" hidden><div class=\"sk-item\"><div class=\"sk-estimator sk-toggleable\"><input class=\"sk-toggleable__control sk-hidden--visually\" id=\"sk-estimator-id-2\" type=\"checkbox\" checked><label for=\"sk-estimator-id-2\" class=\"sk-toggleable__label sk-toggleable__label-arrow\">ElasticNet</label><div class=\"sk-toggleable__content\"><pre>ElasticNet(alpha=0.5)</pre></div></div></div></div></div>"
      ],
      "text/plain": [
       "ElasticNet(alpha=0.5)"
      ]
     },
     "execution_count": 64,
     "metadata": {},
     "output_type": "execute_result"
    }
   ],
   "source": [
    "model = ElasticNet(alpha=0.5, l1_ratio=0.5)\n",
    "model.fit(X_train,y_train)"
   ]
  },
  {
   "cell_type": "code",
   "execution_count": 65,
   "id": "06e8c392-d354-4a61-97dc-0a60f4a24142",
   "metadata": {},
   "outputs": [],
   "source": [
    "y_pred = model.predict(X_test)"
   ]
  },
  {
   "cell_type": "code",
   "execution_count": 66,
   "id": "a6b03b0e-e109-45e1-a32f-83c6a073d5d3",
   "metadata": {},
   "outputs": [],
   "source": [
    "# create a pickle file\n",
    "with open(\"elastic_net.pkl\", 'wb') as file:\n",
    "    pickle.dump(model,file)"
   ]
  },
  {
   "cell_type": "code",
   "execution_count": 69,
   "id": "09060ba8-ebc5-472b-83a9-f44506117645",
   "metadata": {},
   "outputs": [
    {
     "name": "stdout",
     "output_type": "stream",
     "text": [
      "[183.28029843  52.62997747]\n"
     ]
    }
   ],
   "source": [
    "import pickle\n",
    "\n",
    "with open(\"elastic_net.pkl\", 'rb') as file:\n",
    "    model_elastic = pickle.load(file)\n",
    "    \n",
    "new_data = [[1.0, 2.0], [-0.5, 1.5]]\n",
    "predictions = model_elastic.predict(new_data)\n",
    "print(predictions)\n"
   ]
  },
  {
   "cell_type": "markdown",
   "id": "91285bd6-5e31-4482-8eb1-e6d5b1e15ccd",
   "metadata": {},
   "source": [
    "# Q9. What is the purpose of pickling a model in machine learning?"
   ]
  },
  {
   "cell_type": "markdown",
   "id": "2caa55e4-bf9d-40e5-8eb6-ecf9c1c7b003",
   "metadata": {},
   "source": [
    "he purpose of pickling a model in machine learning is to save the trained model's state to a file so that it can be easily stored, shared, or deployed for future use. Pickling allows you to serialize the model object, including its parameters, structure, and any other information needed to reproduce its behavior."
   ]
  },
  {
   "cell_type": "code",
   "execution_count": null,
   "id": "ddb569d1-f678-45e7-b90b-3f39d5506820",
   "metadata": {},
   "outputs": [],
   "source": []
  }
 ],
 "metadata": {
  "kernelspec": {
   "display_name": "Python 3 (ipykernel)",
   "language": "python",
   "name": "python3"
  },
  "language_info": {
   "codemirror_mode": {
    "name": "ipython",
    "version": 3
   },
   "file_extension": ".py",
   "mimetype": "text/x-python",
   "name": "python",
   "nbconvert_exporter": "python",
   "pygments_lexer": "ipython3",
   "version": "3.10.8"
  }
 },
 "nbformat": 4,
 "nbformat_minor": 5
}
